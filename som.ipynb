{
 "cells": [
  {
   "cell_type": "code",
   "execution_count": 30,
   "metadata": {},
   "outputs": [],
   "source": [
    "import numpy as np\n",
    "import matplotlib.pyplot as plt\n",
    "%matplotlib inline\n",
    "\n",
    "np.random.seed(123)"
   ]
  },
  {
   "cell_type": "code",
   "execution_count": 88,
   "metadata": {},
   "outputs": [
    {
     "data": {
      "text/plain": [
       "array([[[0.01315983, 0.02414841],\n",
       "        [0.70938569, 0.92455188]],\n",
       "\n",
       "       [[0.46733027, 0.37510915],\n",
       "        [0.54286042, 0.85891684]]])"
      ]
     },
     "execution_count": 88,
     "metadata": {},
     "output_type": "execute_result"
    }
   ],
   "source": [
    "def init_som(x, y, n):\n",
    "    \"\"\"\n",
    "    Initialize three-dimensional matrix x*y*n.\n",
    "    :param x: map height\n",
    "    :param y: map width\n",
    "    :param n: number of features in input\n",
    "    \"\"\"\n",
    "    return np.random.random((x, y, n))\n",
    "\n",
    "init_som(2,2,2)"
   ]
  },
  {
   "cell_type": "code",
   "execution_count": 91,
   "metadata": {},
   "outputs": [
    {
     "data": {
      "text/plain": [
       "(3, 4)"
      ]
     },
     "execution_count": 91,
     "metadata": {},
     "output_type": "execute_result"
    }
   ],
   "source": [
    "def get_bmu(s, som):\n",
    "    \"\"\"\n",
    "    Get best matching unit for sample s.\n",
    "    :param s: sample (size 1*number of features)\n",
    "    :param som: self orginizing map (size m*n*number of features)\n",
    "    :return: coordinates of best matching unit (touple (x, y))\n",
    "    \"\"\"\n",
    "    distances = []\n",
    "    for x in range(som.shape[0]):\n",
    "        for y in range(som.shape[1]):\n",
    "            distances += [(x, y, np.sqrt(np.sum((som[x,y,:] - s) ** 2)))]\n",
    "    \n",
    "    minimal = sorted(distances, key=lambda x: x[2])[0]\n",
    "    return minimal[0], minimal[1]\n",
    "\n",
    "get_bmu(np.array([5,2]), init_som(5,5,2))"
   ]
  }
 ],
 "metadata": {
  "kernelspec": {
   "display_name": "Python 3",
   "language": "python",
   "name": "python3"
  },
  "language_info": {
   "codemirror_mode": {
    "name": "ipython",
    "version": 3
   },
   "file_extension": ".py",
   "mimetype": "text/x-python",
   "name": "python",
   "nbconvert_exporter": "python",
   "pygments_lexer": "ipython3",
   "version": "3.6.5"
  }
 },
 "nbformat": 4,
 "nbformat_minor": 1
}
