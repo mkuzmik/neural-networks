{
 "cells": [
  {
   "cell_type": "code",
   "execution_count": 52,
   "metadata": {
    "pycharm": {
     "is_executing": false
    }
   },
   "outputs": [],
   "source": [
    "import numpy as np\n",
    "import matplotlib.pyplot as plt\n",
    "from matplotlib import patches as patches\n",
    "\n",
    "%matplotlib inline\n",
    "\n",
    "np.random.seed(123)"
   ]
  },
  {
   "cell_type": "code",
   "execution_count": 22,
   "metadata": {
    "pycharm": {
     "is_executing": false
    }
   },
   "outputs": [
    {
     "data": {
      "text/plain": [
       "array([[[0.23988605, 0.48798123],\n",
       "        [0.75757119, 0.59776541],\n",
       "        [0.78374808, 0.26401045],\n",
       "        [0.13082544, 0.47121262],\n",
       "        [0.6648146 , 0.59754641],\n",
       "        [0.61067548, 0.09266187],\n",
       "        [0.49131879, 0.20246504],\n",
       "        [0.71067805, 0.55841917],\n",
       "        [0.60077755, 0.59556689],\n",
       "        [0.30621348, 0.08336922]],\n",
       "\n",
       "       [[0.41308906, 0.29774141],\n",
       "        [0.56970749, 0.22313775],\n",
       "        [0.2237018 , 0.32515599],\n",
       "        [0.17332449, 0.40201076],\n",
       "        [0.8240172 , 0.85200438],\n",
       "        [0.10824706, 0.33073014],\n",
       "        [0.61321209, 0.22694851],\n",
       "        [0.91947691, 0.70663337],\n",
       "        [0.22028994, 0.10668282],\n",
       "        [0.07377586, 0.18797408]],\n",
       "\n",
       "       [[0.39554788, 0.75078865],\n",
       "        [0.14099895, 0.03646221],\n",
       "        [0.89170057, 0.33537553],\n",
       "        [0.3303616 , 0.52510741],\n",
       "        [0.41982973, 0.29523013],\n",
       "        [0.71557932, 0.7921686 ],\n",
       "        [0.82627967, 0.77003028],\n",
       "        [0.69042781, 0.19301236],\n",
       "        [0.73165039, 0.27471138],\n",
       "        [0.72181752, 0.0978629 ]],\n",
       "\n",
       "       [[0.42301597, 0.3930183 ],\n",
       "        [0.03670115, 0.88401959],\n",
       "        [0.67648011, 0.77825743],\n",
       "        [0.665721  , 0.34300016],\n",
       "        [0.50679388, 0.12874528],\n",
       "        [0.1616173 , 0.32406858],\n",
       "        [0.64368479, 0.59959474],\n",
       "        [0.77526015, 0.53215716],\n",
       "        [0.67567092, 0.04388378],\n",
       "        [0.9332979 , 0.84618706]],\n",
       "\n",
       "       [[0.93661465, 0.17362503],\n",
       "        [0.14597334, 0.5402441 ],\n",
       "        [0.83871852, 0.7383781 ],\n",
       "        [0.25862555, 0.47524925],\n",
       "        [0.23535981, 0.56423022],\n",
       "        [0.5675323 , 0.08311991],\n",
       "        [0.63281667, 0.09703031],\n",
       "        [0.02790454, 0.85512953],\n",
       "        [0.24844716, 0.4651003 ],\n",
       "        [0.93796091, 0.62541344]],\n",
       "\n",
       "       [[0.37260584, 0.85184154],\n",
       "        [0.2145746 , 0.48826239],\n",
       "        [0.56573875, 0.58582635],\n",
       "        [0.01750987, 0.37696747],\n",
       "        [0.5148928 , 0.45784721],\n",
       "        [0.82194296, 0.72294113],\n",
       "        [0.93216319, 0.22378079],\n",
       "        [0.1562167 , 0.20321901],\n",
       "        [0.65637791, 0.2516841 ],\n",
       "        [0.6645693 , 0.68335192]],\n",
       "\n",
       "       [[0.08132634, 0.74001043],\n",
       "        [0.31396445, 0.22112041],\n",
       "        [0.25881194, 0.89629679],\n",
       "        [0.60510686, 0.64971314],\n",
       "        [0.21712369, 0.3599631 ],\n",
       "        [0.81048302, 0.34017523],\n",
       "        [0.81265066, 0.19998482],\n",
       "        [0.7323756 , 0.11681099],\n",
       "        [0.82238537, 0.67271201],\n",
       "        [0.9573178 , 0.02952212]],\n",
       "\n",
       "       [[0.13185707, 0.02727462],\n",
       "        [0.01675027, 0.84605277],\n",
       "        [0.63142507, 0.64376395],\n",
       "        [0.37612768, 0.05329793],\n",
       "        [0.43118721, 0.1573671 ],\n",
       "        [0.93459524, 0.87854499],\n",
       "        [0.30091918, 0.01732756],\n",
       "        [0.02092565, 0.5288388 ],\n",
       "        [0.82315483, 0.34232253],\n",
       "        [0.65744511, 0.85798262]],\n",
       "\n",
       "       [[0.63622281, 0.00612967],\n",
       "        [0.55114069, 0.17484956],\n",
       "        [0.80006385, 0.41237243],\n",
       "        [0.43919954, 0.30390934],\n",
       "        [0.22955539, 0.15995447],\n",
       "        [0.40767571, 0.53758261],\n",
       "        [0.90093954, 0.40194626],\n",
       "        [0.32175327, 0.8181748 ],\n",
       "        [0.69619186, 0.1147842 ],\n",
       "        [0.70733261, 0.95120209]],\n",
       "\n",
       "       [[0.49720852, 0.49058575],\n",
       "        [0.72357478, 0.199857  ],\n",
       "        [0.36700401, 0.31692125],\n",
       "        [0.99588323, 0.16161821],\n",
       "        [0.17395441, 0.46090679],\n",
       "        [0.2743119 , 0.87067735],\n",
       "        [0.43647622, 0.68489703],\n",
       "        [0.81820284, 0.27204597],\n",
       "        [0.73273757, 0.39909717],\n",
       "        [0.25451941, 0.89010882]]])"
      ]
     },
     "execution_count": 22,
     "metadata": {},
     "output_type": "execute_result"
    }
   ],
   "source": [
    "def init_som(x, y, n):\n",
    "    \"\"\"\n",
    "    Initialize three-dimensional matrix x*y*n.\n",
    "    :param x: map height\n",
    "    :param y: map width\n",
    "    :param n: number of features in input\n",
    "    \"\"\"\n",
    "    return np.random.random((x, y, n))\n",
    "\n",
    "init_som(10,10,2)"
   ]
  },
  {
   "cell_type": "code",
   "execution_count": 24,
   "metadata": {
    "pycharm": {
     "is_executing": false
    }
   },
   "outputs": [
    {
     "data": {
      "text/plain": [
       "(3, 2)"
      ]
     },
     "execution_count": 24,
     "metadata": {},
     "output_type": "execute_result"
    }
   ],
   "source": [
    "def get_bmu(sample, som):\n",
    "    \"\"\"\n",
    "    Get best matching unit for sample s.\n",
    "    :param s: sample (size 1*number of features)\n",
    "    :param som: self orginizing map (size m*n*number of features)\n",
    "    :return: coordinates of best matching unit (touple (x, y))\n",
    "    \"\"\"\n",
    "    distances = []\n",
    "    for x in range(som.shape[0]):\n",
    "        for y in range(som.shape[1]):\n",
    "            distances += [(x, y, np.sqrt(np.sum((som[x,y,:] - sample) ** 2)))]\n",
    "    \n",
    "    minimal = sorted(distances, key=lambda x: x[2])[0]\n",
    "    return minimal[0], minimal[1]\n",
    "\n",
    "get_bmu(np.array([5,2]), init_som(5,5,2))"
   ]
  },
  {
   "cell_type": "code",
   "execution_count": 45,
   "metadata": {
    "pycharm": {
     "is_executing": false
    }
   },
   "outputs": [],
   "source": [
    "\n",
    "def get_radius(iteration, init_radius):\n",
    "    return init_radius * np.exp(-iteration)\n",
    "\n",
    "def get_learning_rate(iteration, init_learning_rate):\n",
    "    return init_learning_rate * np.exp(-iteration)\n",
    "\n",
    "def get_influence(distance, radius):\n",
    "        return np.exp(-distance / (2* (radius**2)))\n",
    "\n",
    "def update_weight_vec(bmu_coords, som, radius, learning_rate, data, sample):\n",
    "    for x in range(som.shape[0]):\n",
    "            for y in range(som.shape[1]):\n",
    "                w = som[x, y, :].reshape(data.shape[1], 1)\n",
    "                distance = np.sqrt(np.sum((np.array([x, y]) - bmu_coords) ** 2))\n",
    "                \n",
    "                if distance <= radius:\n",
    "                    influence = get_influence(distance, radius)\n",
    "                    \n",
    "                    # new w = old w + (learning rate * influence * delta)\n",
    "                    # where delta = input vector (t) - old w\n",
    "                    new_w = w + (learning_rate * influence * (sample - w))\n",
    "                    som[x, y, :] = new_w.reshape(1, data.shape[1])\n"
   ]
  },
  {
   "cell_type": "code",
   "execution_count": null,
   "metadata": {
    "pycharm": {
     "is_executing": false,
     "metadata": false,
     "name": "#%%\n"
    }
   },
   "outputs": [],
   "source": [
    "def generate_som(data, size=(10,10), iterations = 100, init_radius=5, \n",
    "                 init_learning_rate=0.01):\n",
    "    \"\"\"\n",
    "    Generates self organizing map for data (shape = (n,m)).\n",
    "    Returns matrix of shape = (n, 2).\n",
    "    \"\"\"\n",
    "    n, m = data.shape\n",
    "    \n",
    "    som = init_som(size[0], size[1], m)\n",
    "    \n",
    "    for i in range(iterations):\n",
    "        for s in data:\n",
    "            sample = s.reshape(data.shape[1], 1)\n",
    "            bmu_coords = get_bmu(sample, som)\n",
    "            radius = get_radius(i, init_radius)\n",
    "            learning_rate = get_learning_rate(i, init_learning_rate)\n",
    "            update_weight_vec(bmu_coords, som, radius, \n",
    "                              learning_rate, data, sample)\n",
    "    return som\n",
    "\n",
    "\n",
    "import sklearn.datasets\n",
    "iris_dataset = sklearn.datasets.load_iris()\n",
    "\n",
    "iris_som = generate_som(iris_dataset['data'], size=(50,50), iterations=10, init_radius=25)"
   ]
  },
  {
   "cell_type": "code",
   "execution_count": 81,
   "metadata": {
    "pycharm": {
     "is_executing": false,
     "metadata": false,
     "name": "#%%\n"
    }
   },
   "outputs": [
    {
     "data": {
      "image/png": "[encoded data removed]",
      "text/plain": [
       "<Figure size 432x288 with 1 Axes>"
      ]
     },
     "metadata": {
      "needs_background": "light"
     },
     "output_type": "display_data"
    }
   ],
   "source": [
    "mapped = list(map(lambda zipped: (get_bmu(zipped[0], iris_som), zipped[1]), \n",
    "         zip(iris_dataset['data'], iris_dataset['target'])))\n",
    "\n",
    "\n",
    "fig = plt.figure()\n",
    "ax = fig.add_subplot(111, aspect='equal')\n",
    "ax.set_xlim((0, iris_som.shape[0]+1))\n",
    "ax.set_ylim((0, iris_som.shape[1]+1))\n",
    "ax.set_title('Iris data SOM after 10 iterations')\n",
    "\n",
    "color_size_dict = {\n",
    "    0: {\n",
    "        'color': [1, 0, 0], \n",
    "        'size': 0.5\n",
    "    },\n",
    "    1: {\n",
    "        'color': [0, 1, 0], \n",
    "        'size': 0.4\n",
    "    },\n",
    "    2: {\n",
    "        'color': [0, 0, 1], \n",
    "        'size': 0.3\n",
    "    }\n",
    "}\n",
    "\n",
    "for s, label in mapped:\n",
    "    ax.add_patch(patches.Circle((s[0], s[1]), color_size_dict[label]['size'],\n",
    "                         facecolor='none',\n",
    "                         edgecolor=color_size_dict[label]['color']))\n",
    "    \n",
    "plt.show()\n"
   ]
  }
 ],
 "metadata": {
  "kernelspec": {
   "display_name": "Python 3",
   "language": "python",
   "name": "python3"
  },
  "language_info": {
   "codemirror_mode": {
    "name": "ipython",
    "version": 3
   },
   "file_extension": ".py",
   "mimetype": "text/x-python",
   "name": "python",
   "nbconvert_exporter": "python",
   "pygments_lexer": "ipython3",
   "version": "3.6.5"
  }
 },
 "nbformat": 4,
 "nbformat_minor": 1
}
