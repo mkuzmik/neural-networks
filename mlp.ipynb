{
 "cells": [
  {
   "cell_type": "code",
   "execution_count": 1,
   "metadata": {},
   "outputs": [],
   "source": [
    "import numpy as np\n",
    "import matplotlib.pyplot as plt\n",
    "import sklearn\n",
    "import sklearn.datasets\n",
    "\n",
    "%matplotlib inline\n"
   ]
  },
  {
   "cell_type": "code",
   "execution_count": 2,
   "metadata": {},
   "outputs": [],
   "source": [
    "iris_dataset = sklearn.datasets.load_iris()"
   ]
  },
  {
   "cell_type": "code",
   "execution_count": 3,
   "metadata": {},
   "outputs": [
    {
     "data": {
      "text/plain": [
       "{'data': array([[5.1, 3.5, 1.4, 0.2],\n",
       "        [4.9, 3. , 1.4, 0.2],\n",
       "        [4.7, 3.2, 1.3, 0.2],\n",
       "        [4.6, 3.1, 1.5, 0.2],\n",
       "        [5. , 3.6, 1.4, 0.2],\n",
       "        [5.4, 3.9, 1.7, 0.4],\n",
       "        [4.6, 3.4, 1.4, 0.3],\n",
       "        [5. , 3.4, 1.5, 0.2],\n",
       "        [4.4, 2.9, 1.4, 0.2],\n",
       "        [4.9, 3.1, 1.5, 0.1],\n",
       "        [5.4, 3.7, 1.5, 0.2],\n",
       "        [4.8, 3.4, 1.6, 0.2],\n",
       "        [4.8, 3. , 1.4, 0.1],\n",
       "        [4.3, 3. , 1.1, 0.1],\n",
       "        [5.8, 4. , 1.2, 0.2],\n",
       "        [5.7, 4.4, 1.5, 0.4],\n",
       "        [5.4, 3.9, 1.3, 0.4],\n",
       "        [5.1, 3.5, 1.4, 0.3],\n",
       "        [5.7, 3.8, 1.7, 0.3],\n",
       "        [5.1, 3.8, 1.5, 0.3],\n",
       "        [5.4, 3.4, 1.7, 0.2],\n",
       "        [5.1, 3.7, 1.5, 0.4],\n",
       "        [4.6, 3.6, 1. , 0.2],\n",
       "        [5.1, 3.3, 1.7, 0.5],\n",
       "        [4.8, 3.4, 1.9, 0.2],\n",
       "        [5. , 3. , 1.6, 0.2],\n",
       "        [5. , 3.4, 1.6, 0.4],\n",
       "        [5.2, 3.5, 1.5, 0.2],\n",
       "        [5.2, 3.4, 1.4, 0.2],\n",
       "        [4.7, 3.2, 1.6, 0.2],\n",
       "        [4.8, 3.1, 1.6, 0.2],\n",
       "        [5.4, 3.4, 1.5, 0.4],\n",
       "        [5.2, 4.1, 1.5, 0.1],\n",
       "        [5.5, 4.2, 1.4, 0.2],\n",
       "        [4.9, 3.1, 1.5, 0.2],\n",
       "        [5. , 3.2, 1.2, 0.2],\n",
       "        [5.5, 3.5, 1.3, 0.2],\n",
       "        [4.9, 3.6, 1.4, 0.1],\n",
       "        [4.4, 3. , 1.3, 0.2],\n",
       "        [5.1, 3.4, 1.5, 0.2],\n",
       "        [5. , 3.5, 1.3, 0.3],\n",
       "        [4.5, 2.3, 1.3, 0.3],\n",
       "        [4.4, 3.2, 1.3, 0.2],\n",
       "        [5. , 3.5, 1.6, 0.6],\n",
       "        [5.1, 3.8, 1.9, 0.4],\n",
       "        [4.8, 3. , 1.4, 0.3],\n",
       "        [5.1, 3.8, 1.6, 0.2],\n",
       "        [4.6, 3.2, 1.4, 0.2],\n",
       "        [5.3, 3.7, 1.5, 0.2],\n",
       "        [5. , 3.3, 1.4, 0.2],\n",
       "        [7. , 3.2, 4.7, 1.4],\n",
       "        [6.4, 3.2, 4.5, 1.5],\n",
       "        [6.9, 3.1, 4.9, 1.5],\n",
       "        [5.5, 2.3, 4. , 1.3],\n",
       "        [6.5, 2.8, 4.6, 1.5],\n",
       "        [5.7, 2.8, 4.5, 1.3],\n",
       "        [6.3, 3.3, 4.7, 1.6],\n",
       "        [4.9, 2.4, 3.3, 1. ],\n",
       "        [6.6, 2.9, 4.6, 1.3],\n",
       "        [5.2, 2.7, 3.9, 1.4],\n",
       "        [5. , 2. , 3.5, 1. ],\n",
       "        [5.9, 3. , 4.2, 1.5],\n",
       "        [6. , 2.2, 4. , 1. ],\n",
       "        [6.1, 2.9, 4.7, 1.4],\n",
       "        [5.6, 2.9, 3.6, 1.3],\n",
       "        [6.7, 3.1, 4.4, 1.4],\n",
       "        [5.6, 3. , 4.5, 1.5],\n",
       "        [5.8, 2.7, 4.1, 1. ],\n",
       "        [6.2, 2.2, 4.5, 1.5],\n",
       "        [5.6, 2.5, 3.9, 1.1],\n",
       "        [5.9, 3.2, 4.8, 1.8],\n",
       "        [6.1, 2.8, 4. , 1.3],\n",
       "        [6.3, 2.5, 4.9, 1.5],\n",
       "        [6.1, 2.8, 4.7, 1.2],\n",
       "        [6.4, 2.9, 4.3, 1.3],\n",
       "        [6.6, 3. , 4.4, 1.4],\n",
       "        [6.8, 2.8, 4.8, 1.4],\n",
       "        [6.7, 3. , 5. , 1.7],\n",
       "        [6. , 2.9, 4.5, 1.5],\n",
       "        [5.7, 2.6, 3.5, 1. ],\n",
       "        [5.5, 2.4, 3.8, 1.1],\n",
       "        [5.5, 2.4, 3.7, 1. ],\n",
       "        [5.8, 2.7, 3.9, 1.2],\n",
       "        [6. , 2.7, 5.1, 1.6],\n",
       "        [5.4, 3. , 4.5, 1.5],\n",
       "        [6. , 3.4, 4.5, 1.6],\n",
       "        [6.7, 3.1, 4.7, 1.5],\n",
       "        [6.3, 2.3, 4.4, 1.3],\n",
       "        [5.6, 3. , 4.1, 1.3],\n",
       "        [5.5, 2.5, 4. , 1.3],\n",
       "        [5.5, 2.6, 4.4, 1.2],\n",
       "        [6.1, 3. , 4.6, 1.4],\n",
       "        [5.8, 2.6, 4. , 1.2],\n",
       "        [5. , 2.3, 3.3, 1. ],\n",
       "        [5.6, 2.7, 4.2, 1.3],\n",
       "        [5.7, 3. , 4.2, 1.2],\n",
       "        [5.7, 2.9, 4.2, 1.3],\n",
       "        [6.2, 2.9, 4.3, 1.3],\n",
       "        [5.1, 2.5, 3. , 1.1],\n",
       "        [5.7, 2.8, 4.1, 1.3],\n",
       "        [6.3, 3.3, 6. , 2.5],\n",
       "        [5.8, 2.7, 5.1, 1.9],\n",
       "        [7.1, 3. , 5.9, 2.1],\n",
       "        [6.3, 2.9, 5.6, 1.8],\n",
       "        [6.5, 3. , 5.8, 2.2],\n",
       "        [7.6, 3. , 6.6, 2.1],\n",
       "        [4.9, 2.5, 4.5, 1.7],\n",
       "        [7.3, 2.9, 6.3, 1.8],\n",
       "        [6.7, 2.5, 5.8, 1.8],\n",
       "        [7.2, 3.6, 6.1, 2.5],\n",
       "        [6.5, 3.2, 5.1, 2. ],\n",
       "        [6.4, 2.7, 5.3, 1.9],\n",
       "        [6.8, 3. , 5.5, 2.1],\n",
       "        [5.7, 2.5, 5. , 2. ],\n",
       "        [5.8, 2.8, 5.1, 2.4],\n",
       "        [6.4, 3.2, 5.3, 2.3],\n",
       "        [6.5, 3. , 5.5, 1.8],\n",
       "        [7.7, 3.8, 6.7, 2.2],\n",
       "        [7.7, 2.6, 6.9, 2.3],\n",
       "        [6. , 2.2, 5. , 1.5],\n",
       "        [6.9, 3.2, 5.7, 2.3],\n",
       "        [5.6, 2.8, 4.9, 2. ],\n",
       "        [7.7, 2.8, 6.7, 2. ],\n",
       "        [6.3, 2.7, 4.9, 1.8],\n",
       "        [6.7, 3.3, 5.7, 2.1],\n",
       "        [7.2, 3.2, 6. , 1.8],\n",
       "        [6.2, 2.8, 4.8, 1.8],\n",
       "        [6.1, 3. , 4.9, 1.8],\n",
       "        [6.4, 2.8, 5.6, 2.1],\n",
       "        [7.2, 3. , 5.8, 1.6],\n",
       "        [7.4, 2.8, 6.1, 1.9],\n",
       "        [7.9, 3.8, 6.4, 2. ],\n",
       "        [6.4, 2.8, 5.6, 2.2],\n",
       "        [6.3, 2.8, 5.1, 1.5],\n",
       "        [6.1, 2.6, 5.6, 1.4],\n",
       "        [7.7, 3. , 6.1, 2.3],\n",
       "        [6.3, 3.4, 5.6, 2.4],\n",
       "        [6.4, 3.1, 5.5, 1.8],\n",
       "        [6. , 3. , 4.8, 1.8],\n",
       "        [6.9, 3.1, 5.4, 2.1],\n",
       "        [6.7, 3.1, 5.6, 2.4],\n",
       "        [6.9, 3.1, 5.1, 2.3],\n",
       "        [5.8, 2.7, 5.1, 1.9],\n",
       "        [6.8, 3.2, 5.9, 2.3],\n",
       "        [6.7, 3.3, 5.7, 2.5],\n",
       "        [6.7, 3. , 5.2, 2.3],\n",
       "        [6.3, 2.5, 5. , 1.9],\n",
       "        [6.5, 3. , 5.2, 2. ],\n",
       "        [6.2, 3.4, 5.4, 2.3],\n",
       "        [5.9, 3. , 5.1, 1.8]]),\n",
       " 'target': array([0, 0, 0, 0, 0, 0, 0, 0, 0, 0, 0, 0, 0, 0, 0, 0, 0, 0, 0, 0, 0, 0,\n",
       "        0, 0, 0, 0, 0, 0, 0, 0, 0, 0, 0, 0, 0, 0, 0, 0, 0, 0, 0, 0, 0, 0,\n",
       "        0, 0, 0, 0, 0, 0, 1, 1, 1, 1, 1, 1, 1, 1, 1, 1, 1, 1, 1, 1, 1, 1,\n",
       "        1, 1, 1, 1, 1, 1, 1, 1, 1, 1, 1, 1, 1, 1, 1, 1, 1, 1, 1, 1, 1, 1,\n",
       "        1, 1, 1, 1, 1, 1, 1, 1, 1, 1, 1, 1, 2, 2, 2, 2, 2, 2, 2, 2, 2, 2,\n",
       "        2, 2, 2, 2, 2, 2, 2, 2, 2, 2, 2, 2, 2, 2, 2, 2, 2, 2, 2, 2, 2, 2,\n",
       "        2, 2, 2, 2, 2, 2, 2, 2, 2, 2, 2, 2, 2, 2, 2, 2, 2, 2]),\n",
       " 'target_names': array(['setosa', 'versicolor', 'virginica'], dtype='<U10'),\n",
       " 'DESCR': '.. _iris_dataset:\\n\\nIris plants dataset\\n--------------------\\n\\n**Data Set Characteristics:**\\n\\n    :Number of Instances: 150 (50 in each of three classes)\\n    :Number of Attributes: 4 numeric, predictive attributes and the class\\n    :Attribute Information:\\n        - sepal length in cm\\n        - sepal width in cm\\n        - petal length in cm\\n        - petal width in cm\\n        - class:\\n                - Iris-Setosa\\n                - Iris-Versicolour\\n                - Iris-Virginica\\n                \\n    :Summary Statistics:\\n\\n    ============== ==== ==== ======= ===== ====================\\n                    Min  Max   Mean    SD   Class Correlation\\n    ============== ==== ==== ======= ===== ====================\\n    sepal length:   4.3  7.9   5.84   0.83    0.7826\\n    sepal width:    2.0  4.4   3.05   0.43   -0.4194\\n    petal length:   1.0  6.9   3.76   1.76    0.9490  (high!)\\n    petal width:    0.1  2.5   1.20   0.76    0.9565  (high!)\\n    ============== ==== ==== ======= ===== ====================\\n\\n    :Missing Attribute Values: None\\n    :Class Distribution: 33.3% for each of 3 classes.\\n    :Creator: R.A. Fisher\\n    :Donor: Michael Marshall (MARSHALL%PLU@io.arc.nasa.gov)\\n    :Date: July, 1988\\n\\nThe famous Iris database, first used by Sir R.A. Fisher. The dataset is taken\\nfrom Fisher\\'s paper. Note that it\\'s the same as in R, but not as in the UCI\\nMachine Learning Repository, which has two wrong data points.\\n\\nThis is perhaps the best known database to be found in the\\npattern recognition literature.  Fisher\\'s paper is a classic in the field and\\nis referenced frequently to this day.  (See Duda & Hart, for example.)  The\\ndata set contains 3 classes of 50 instances each, where each class refers to a\\ntype of iris plant.  One class is linearly separable from the other 2; the\\nlatter are NOT linearly separable from each other.\\n\\n.. topic:: References\\n\\n   - Fisher, R.A. \"The use of multiple measurements in taxonomic problems\"\\n     Annual Eugenics, 7, Part II, 179-188 (1936); also in \"Contributions to\\n     Mathematical Statistics\" (John Wiley, NY, 1950).\\n   - Duda, R.O., & Hart, P.E. (1973) Pattern Classification and Scene Analysis.\\n     (Q327.D83) John Wiley & Sons.  ISBN 0-471-22361-1.  See page 218.\\n   - Dasarathy, B.V. (1980) \"Nosing Around the Neighborhood: A New System\\n     Structure and Classification Rule for Recognition in Partially Exposed\\n     Environments\".  IEEE Transactions on Pattern Analysis and Machine\\n     Intelligence, Vol. PAMI-2, No. 1, 67-71.\\n   - Gates, G.W. (1972) \"The Reduced Nearest Neighbor Rule\".  IEEE Transactions\\n     on Information Theory, May 1972, 431-433.\\n   - See also: 1988 MLC Proceedings, 54-64.  Cheeseman et al\"s AUTOCLASS II\\n     conceptual clustering system finds 3 classes in the data.\\n   - Many, many more ...',\n",
       " 'feature_names': ['sepal length (cm)',\n",
       "  'sepal width (cm)',\n",
       "  'petal length (cm)',\n",
       "  'petal width (cm)'],\n",
       " 'filename': '/Users/mk/repos/inshorts-nlp/venv/lib/python3.6/site-packages/sklearn/datasets/data/iris.csv'}"
      ]
     },
     "execution_count": 3,
     "metadata": {},
     "output_type": "execute_result"
    }
   ],
   "source": [
    "iris_dataset"
   ]
  },
  {
   "cell_type": "code",
   "execution_count": 4,
   "metadata": {},
   "outputs": [
    {
     "data": {
      "text/plain": [
       "(array([[ 8.6,  1.6],\n",
       "        [ 7.9,  1.6],\n",
       "        [ 7.9,  1.5],\n",
       "        [ 7.7,  1.7],\n",
       "        [ 8.6,  1.6],\n",
       "        [ 9.3,  2.1],\n",
       "        [ 8. ,  1.7],\n",
       "        [ 8.4,  1.7],\n",
       "        [ 7.3,  1.6],\n",
       "        [ 8. ,  1.6],\n",
       "        [ 9.1,  1.7],\n",
       "        [ 8.2,  1.8],\n",
       "        [ 7.8,  1.5],\n",
       "        [ 7.3,  1.2],\n",
       "        [ 9.8,  1.4],\n",
       "        [10.1,  1.9],\n",
       "        [ 9.3,  1.7],\n",
       "        [ 8.6,  1.7],\n",
       "        [ 9.5,  2. ],\n",
       "        [ 8.9,  1.8],\n",
       "        [ 8.8,  1.9],\n",
       "        [ 8.8,  1.9],\n",
       "        [ 8.2,  1.2],\n",
       "        [ 8.4,  2.2],\n",
       "        [ 8.2,  2.1],\n",
       "        [ 8. ,  1.8],\n",
       "        [ 8.4,  2. ],\n",
       "        [ 8.7,  1.7],\n",
       "        [ 8.6,  1.6],\n",
       "        [ 7.9,  1.8],\n",
       "        [ 7.9,  1.8],\n",
       "        [ 8.8,  1.9],\n",
       "        [ 9.3,  1.6],\n",
       "        [ 9.7,  1.6],\n",
       "        [ 8. ,  1.7],\n",
       "        [ 8.2,  1.4],\n",
       "        [ 9. ,  1.5],\n",
       "        [ 8.5,  1.5],\n",
       "        [ 7.4,  1.5],\n",
       "        [ 8.5,  1.7],\n",
       "        [ 8.5,  1.6],\n",
       "        [ 6.8,  1.6],\n",
       "        [ 7.6,  1.5],\n",
       "        [ 8.5,  2.2],\n",
       "        [ 8.9,  2.3],\n",
       "        [ 7.8,  1.7],\n",
       "        [ 8.9,  1.8],\n",
       "        [ 7.8,  1.6],\n",
       "        [ 9. ,  1.7],\n",
       "        [ 8.3,  1.6],\n",
       "        [10.2,  6.1],\n",
       "        [ 9.6,  6. ],\n",
       "        [10. ,  6.4],\n",
       "        [ 7.8,  5.3],\n",
       "        [ 9.3,  6.1],\n",
       "        [ 8.5,  5.8],\n",
       "        [ 9.6,  6.3],\n",
       "        [ 7.3,  4.3],\n",
       "        [ 9.5,  5.9],\n",
       "        [ 7.9,  5.3],\n",
       "        [ 7. ,  4.5],\n",
       "        [ 8.9,  5.7],\n",
       "        [ 8.2,  5. ],\n",
       "        [ 9. ,  6.1],\n",
       "        [ 8.5,  4.9],\n",
       "        [ 9.8,  5.8],\n",
       "        [ 8.6,  6. ],\n",
       "        [ 8.5,  5.1],\n",
       "        [ 8.4,  6. ],\n",
       "        [ 8.1,  5. ],\n",
       "        [ 9.1,  6.6],\n",
       "        [ 8.9,  5.3],\n",
       "        [ 8.8,  6.4],\n",
       "        [ 8.9,  5.9],\n",
       "        [ 9.3,  5.6],\n",
       "        [ 9.6,  5.8],\n",
       "        [ 9.6,  6.2],\n",
       "        [ 9.7,  6.7],\n",
       "        [ 8.9,  6. ],\n",
       "        [ 8.3,  4.5],\n",
       "        [ 7.9,  4.9],\n",
       "        [ 7.9,  4.7],\n",
       "        [ 8.5,  5.1],\n",
       "        [ 8.7,  6.7],\n",
       "        [ 8.4,  6. ],\n",
       "        [ 9.4,  6.1],\n",
       "        [ 9.8,  6.2],\n",
       "        [ 8.6,  5.7],\n",
       "        [ 8.6,  5.4],\n",
       "        [ 8. ,  5.3],\n",
       "        [ 8.1,  5.6],\n",
       "        [ 9.1,  6. ],\n",
       "        [ 8.4,  5.2],\n",
       "        [ 7.3,  4.3],\n",
       "        [ 8.3,  5.5],\n",
       "        [ 8.7,  5.4],\n",
       "        [ 8.6,  5.5],\n",
       "        [ 9.1,  5.6],\n",
       "        [ 7.6,  4.1],\n",
       "        [ 8.5,  5.4],\n",
       "        [ 9.6,  8.5],\n",
       "        [ 8.5,  7. ],\n",
       "        [10.1,  8. ],\n",
       "        [ 9.2,  7.4],\n",
       "        [ 9.5,  8. ],\n",
       "        [10.6,  8.7],\n",
       "        [ 7.4,  6.2],\n",
       "        [10.2,  8.1],\n",
       "        [ 9.2,  7.6],\n",
       "        [10.8,  8.6],\n",
       "        [ 9.7,  7.1],\n",
       "        [ 9.1,  7.2],\n",
       "        [ 9.8,  7.6],\n",
       "        [ 8.2,  7. ],\n",
       "        [ 8.6,  7.5],\n",
       "        [ 9.6,  7.6],\n",
       "        [ 9.5,  7.3],\n",
       "        [11.5,  8.9],\n",
       "        [10.3,  9.2],\n",
       "        [ 8.2,  6.5],\n",
       "        [10.1,  8. ],\n",
       "        [ 8.4,  6.9],\n",
       "        [10.5,  8.7],\n",
       "        [ 9. ,  6.7],\n",
       "        [10. ,  7.8],\n",
       "        [10.4,  7.8],\n",
       "        [ 9. ,  6.6],\n",
       "        [ 9.1,  6.7],\n",
       "        [ 9.2,  7.7],\n",
       "        [10.2,  7.4],\n",
       "        [10.2,  8. ],\n",
       "        [11.7,  8.4],\n",
       "        [ 9.2,  7.8],\n",
       "        [ 9.1,  6.6],\n",
       "        [ 8.7,  7. ],\n",
       "        [10.7,  8.4],\n",
       "        [ 9.7,  8. ],\n",
       "        [ 9.5,  7.3],\n",
       "        [ 9. ,  6.6],\n",
       "        [10. ,  7.5],\n",
       "        [ 9.8,  8. ],\n",
       "        [10. ,  7.4],\n",
       "        [ 8.5,  7. ],\n",
       "        [10. ,  8.2],\n",
       "        [10. ,  8.2],\n",
       "        [ 9.7,  7.5],\n",
       "        [ 8.8,  6.9],\n",
       "        [ 9.5,  7.2],\n",
       "        [ 9.6,  7.7],\n",
       "        [ 8.9,  6.9]]),\n",
       " array([0, 0, 0, 0, 0, 0, 0, 0, 0, 0, 0, 0, 0, 0, 0, 0, 0, 0, 0, 0, 0, 0,\n",
       "        0, 0, 0, 0, 0, 0, 0, 0, 0, 0, 0, 0, 0, 0, 0, 0, 0, 0, 0, 0, 0, 0,\n",
       "        0, 0, 0, 0, 0, 0, 1, 1, 1, 1, 1, 1, 1, 1, 1, 1, 1, 1, 1, 1, 1, 1,\n",
       "        1, 1, 1, 1, 1, 1, 1, 1, 1, 1, 1, 1, 1, 1, 1, 1, 1, 1, 1, 1, 1, 1,\n",
       "        1, 1, 1, 1, 1, 1, 1, 1, 1, 1, 1, 1, 2, 2, 2, 2, 2, 2, 2, 2, 2, 2,\n",
       "        2, 2, 2, 2, 2, 2, 2, 2, 2, 2, 2, 2, 2, 2, 2, 2, 2, 2, 2, 2, 2, 2,\n",
       "        2, 2, 2, 2, 2, 2, 2, 2, 2, 2, 2, 2, 2, 2, 2, 2, 2, 2]))"
      ]
     },
     "execution_count": 4,
     "metadata": {},
     "output_type": "execute_result"
    }
   ],
   "source": [
    "X = np.array(list(map(lambda x: [x[0] + x[1], x[2] + x[3]], iris_dataset['data'])))\n",
    "Y = iris_dataset['target']\n",
    "X, Y"
   ]
  },
  {
   "cell_type": "code",
   "execution_count": 5,
   "metadata": {},
   "outputs": [
    {
     "data": {
      "image/png": "[encoded data removed]",
      "text/plain": [
       "<Figure size 432x288 with 1 Axes>"
      ]
     },
     "metadata": {
      "needs_background": "light"
     },
     "output_type": "display_data"
    }
   ],
   "source": [
    "plt.scatter(X[:,0], X[:,1], c=Y, s=40, cmap=plt.cm.Spectral);"
   ]
  },
  {
   "cell_type": "code",
   "execution_count": 6,
   "metadata": {},
   "outputs": [
    {
     "name": "stdout",
     "output_type": "stream",
     "text": [
      "The shape of X is: (150, 2)\n",
      "The shape of Y is: (150,)\n"
     ]
    }
   ],
   "source": [
    "shape_X = X.shape\n",
    "shape_Y = Y.shape\n",
    "\n",
    "\n",
    "print ('The shape of X is: ' + str(shape_X))\n",
    "print ('The shape of Y is: ' + str(shape_Y))"
   ]
  },
  {
   "cell_type": "code",
   "execution_count": 7,
   "metadata": {},
   "outputs": [
    {
     "data": {
      "text/plain": [
       "array([[1., 1., 1., 1., 1., 1., 1., 1., 1., 1., 1., 1., 1., 1., 1., 1.,\n",
       "        1., 1., 1., 1., 1., 1., 1., 1., 1., 1., 1., 1., 1., 1., 1., 1.,\n",
       "        1., 1., 1., 1., 1., 1., 1., 1., 1., 1., 1., 1., 1., 1., 1., 1.,\n",
       "        1., 1., 0., 0., 0., 0., 0., 0., 0., 0., 0., 0., 0., 0., 0., 0.,\n",
       "        0., 0., 0., 0., 0., 0., 0., 0., 0., 0., 0., 0., 0., 0., 0., 0.,\n",
       "        0., 0., 0., 0., 0., 0., 0., 0., 0., 0., 0., 0., 0., 0., 0., 0.,\n",
       "        0., 0., 0., 0., 0., 0., 0., 0., 0., 0., 0., 0., 0., 0., 0., 0.,\n",
       "        0., 0., 0., 0., 0., 0., 0., 0., 0., 0., 0., 0., 0., 0., 0., 0.,\n",
       "        0., 0., 0., 0., 0., 0., 0., 0., 0., 0., 0., 0., 0., 0., 0., 0.,\n",
       "        0., 0., 0., 0., 0., 0.],\n",
       "       [0., 0., 0., 0., 0., 0., 0., 0., 0., 0., 0., 0., 0., 0., 0., 0.,\n",
       "        0., 0., 0., 0., 0., 0., 0., 0., 0., 0., 0., 0., 0., 0., 0., 0.,\n",
       "        0., 0., 0., 0., 0., 0., 0., 0., 0., 0., 0., 0., 0., 0., 0., 0.,\n",
       "        0., 0., 1., 1., 1., 1., 1., 1., 1., 1., 1., 1., 1., 1., 1., 1.,\n",
       "        1., 1., 1., 1., 1., 1., 1., 1., 1., 1., 1., 1., 1., 1., 1., 1.,\n",
       "        1., 1., 1., 1., 1., 1., 1., 1., 1., 1., 1., 1., 1., 1., 1., 1.,\n",
       "        1., 1., 1., 1., 0., 0., 0., 0., 0., 0., 0., 0., 0., 0., 0., 0.,\n",
       "        0., 0., 0., 0., 0., 0., 0., 0., 0., 0., 0., 0., 0., 0., 0., 0.,\n",
       "        0., 0., 0., 0., 0., 0., 0., 0., 0., 0., 0., 0., 0., 0., 0., 0.,\n",
       "        0., 0., 0., 0., 0., 0.],\n",
       "       [0., 0., 0., 0., 0., 0., 0., 0., 0., 0., 0., 0., 0., 0., 0., 0.,\n",
       "        0., 0., 0., 0., 0., 0., 0., 0., 0., 0., 0., 0., 0., 0., 0., 0.,\n",
       "        0., 0., 0., 0., 0., 0., 0., 0., 0., 0., 0., 0., 0., 0., 0., 0.,\n",
       "        0., 0., 0., 0., 0., 0., 0., 0., 0., 0., 0., 0., 0., 0., 0., 0.,\n",
       "        0., 0., 0., 0., 0., 0., 0., 0., 0., 0., 0., 0., 0., 0., 0., 0.,\n",
       "        0., 0., 0., 0., 0., 0., 0., 0., 0., 0., 0., 0., 0., 0., 0., 0.,\n",
       "        0., 0., 0., 0., 1., 1., 1., 1., 1., 1., 1., 1., 1., 1., 1., 1.,\n",
       "        1., 1., 1., 1., 1., 1., 1., 1., 1., 1., 1., 1., 1., 1., 1., 1.,\n",
       "        1., 1., 1., 1., 1., 1., 1., 1., 1., 1., 1., 1., 1., 1., 1., 1.,\n",
       "        1., 1., 1., 1., 1., 1.]])"
      ]
     },
     "execution_count": 7,
     "metadata": {},
     "output_type": "execute_result"
    }
   ],
   "source": [
    "def class_to_vec(v):\n",
    "    V = np.zeros((v.shape[0], len(set(v))))\n",
    "    for (row, label) in zip(V, v):\n",
    "        row[label] = 1.0\n",
    "    return V.T\n",
    "\n",
    "Ym = class_to_vec(Y)\n",
    "Ym"
   ]
  },
  {
   "cell_type": "code",
   "execution_count": null,
   "metadata": {},
   "outputs": [],
   "source": []
  },
  {
   "cell_type": "code",
   "execution_count": 8,
   "metadata": {},
   "outputs": [
    {
     "name": "stderr",
     "output_type": "stream",
     "text": [
      "/Users/mk/repos/inshorts-nlp/venv/lib/python3.6/site-packages/sklearn/linear_model/logistic.py:460: FutureWarning: Default multi_class will be changed to 'auto' in 0.22. Specify the multi_class option to silence this warning.\n",
      "  \"this warning.\", FutureWarning)\n",
      "/Users/mk/repos/inshorts-nlp/venv/lib/python3.6/site-packages/sklearn/model_selection/_split.py:2053: FutureWarning: You should specify a value for 'cv' instead of relying on the default value. The default value will change from 3 to 5 in version 0.22.\n",
      "  warnings.warn(CV_WARNING, FutureWarning)\n"
     ]
    },
    {
     "data": {
      "image/png": "[encoded data removed]",
      "text/plain": [
       "<Figure size 432x288 with 1 Axes>"
      ]
     },
     "metadata": {
      "needs_background": "light"
     },
     "output_type": "display_data"
    }
   ],
   "source": [
    "# Logistic regression try\n",
    "import sklearn.linear_model\n",
    "\n",
    "def plot_decision_boundary(model, X, y):\n",
    "    # Set min and max values and give it some padding\n",
    "    x_min, x_max = X[0, :].min() - 1, X[0, :].max() + 1\n",
    "    y_min, y_max = X[1, :].min() - 1, X[1, :].max() + 1\n",
    "    h = 0.01\n",
    "    # Generate a grid of points with distance h between them\n",
    "    xx, yy = np.meshgrid(np.arange(x_min, x_max, h), np.arange(y_min, y_max, h))\n",
    "    # Predict the function value for the whole grid\n",
    "    Z = model(np.c_[xx.ravel(), yy.ravel()])\n",
    "    Z = Z.reshape(xx.shape)\n",
    "    # Plot the contour and training examples\n",
    "    plt.contourf(xx, yy, Z, cmap=plt.cm.Spectral)\n",
    "    plt.ylabel('x2')\n",
    "    plt.xlabel('x1')\n",
    "    plt.scatter(X[0, :], X[1, :], c=y, cmap=plt.cm.Spectral)\n",
    "\n",
    "clf = sklearn.linear_model.LogisticRegressionCV();\n",
    "clf.fit(X, Y);\n",
    "\n",
    "\n",
    "# Plot the decision boundary for logistic regression\n",
    "plot_decision_boundary(lambda x: clf.predict(x), X.T, Y.T)"
   ]
  },
  {
   "cell_type": "code",
   "execution_count": 9,
   "metadata": {},
   "outputs": [
    {
     "data": {
      "text/plain": [
       "[2, 3, 4, 5, 3]"
      ]
     },
     "execution_count": 9,
     "metadata": {},
     "output_type": "execute_result"
    }
   ],
   "source": [
    "\n",
    "\n",
    "def layers_sizes(Xx, Yy, hidden_layers):\n",
    "    \"\"\"\n",
    "    X -- input dataset\n",
    "    Y -- labels\n",
    "    hidden_layers -- vector of amounts of neurons in each hidden layer, \n",
    "                     i.e. [3,4,6] means 3 hidden layers with 3, 4 and 6 neurons accordingly\n",
    "    \n",
    "    Returns: array of layer sizes i.e. [34, 3, 4, 6, 2] (above example with 34 features and 2 labels dataset)\n",
    "    \"\"\"\n",
    "    \n",
    "    return [Xx.shape[1]] + hidden_layers + [Yy.shape[0]]\n",
    "\n",
    "layers_sizes(X, Ym, [3,4,5])\n",
    "# expected [2,3,4,5,3]"
   ]
  },
  {
   "cell_type": "code",
   "execution_count": 78,
   "metadata": {},
   "outputs": [
    {
     "data": {
      "text/plain": [
       "[{'weights': array([[ 0.01624345, -0.00611756],\n",
       "         [-0.00528172, -0.01072969],\n",
       "         [ 0.00865408, -0.02301539]]), 'biases': array([[0.],\n",
       "         [0.],\n",
       "         [0.]])}, {'weights': array([[ 0.01744812, -0.00761207,  0.00319039],\n",
       "         [-0.0024937 ,  0.01462108, -0.02060141],\n",
       "         [-0.00322417, -0.00384054,  0.01133769],\n",
       "         [-0.01099891, -0.00172428, -0.00877858]]), 'biases': array([[0.],\n",
       "         [0.],\n",
       "         [0.],\n",
       "         [0.]])}]"
      ]
     },
     "execution_count": 78,
     "metadata": {},
     "output_type": "execute_result"
    }
   ],
   "source": [
    "np.random.seed(1)\n",
    "\n",
    "def initialize_layers(layers_sizes):\n",
    "    \"\"\"\n",
    "    layers_sizes -- array of sizes of each layes\n",
    "    \n",
    "    Returns: Array of weights for each layer. \n",
    "             Please note that the first layer takes the raw input - does not contain weights.\n",
    "             Also, biases are excluded in this network.\n",
    "    \"\"\"\n",
    "    result = []\n",
    "    prev_size = layers_sizes[0]\n",
    "    \n",
    "    for size in layers_sizes[1:]:\n",
    "        weights = np.random.randn(size, prev_size) * 0.01\n",
    "        biases = np.zeros(shape=(size, 1))\n",
    "        result += [{'weights': weights, 'biases': biases}]\n",
    "        prev_size = size\n",
    "    \n",
    "    return result\n",
    "\n",
    "initialize_layers([2,3,4])\n",
    "# expected array of two matrices: 3x2 and 4x3 with random numbers"
   ]
  },
  {
   "cell_type": "code",
   "execution_count": 76,
   "metadata": {},
   "outputs": [
    {
     "data": {
      "text/plain": [
       "array([[-0.39675353],\n",
       "       [-0.6871727 ]])"
      ]
     },
     "execution_count": 76,
     "metadata": {},
     "output_type": "execute_result"
    }
   ],
   "source": [
    "np.random.randn(2,1)"
   ]
  },
  {
   "cell_type": "code",
   "execution_count": 80,
   "metadata": {
    "scrolled": true
   },
   "outputs": [
    {
     "data": {
      "text/plain": [
       "[array([[ 8.6,  7.9,  7.9,  7.7,  8.6,  9.3,  8. ,  8.4,  7.3,  8. ,  9.1,\n",
       "          8.2,  7.8,  7.3,  9.8, 10.1,  9.3,  8.6,  9.5,  8.9,  8.8,  8.8,\n",
       "          8.2,  8.4,  8.2,  8. ,  8.4,  8.7,  8.6,  7.9,  7.9,  8.8,  9.3,\n",
       "          9.7,  8. ,  8.2,  9. ,  8.5,  7.4,  8.5,  8.5,  6.8,  7.6,  8.5,\n",
       "          8.9,  7.8,  8.9,  7.8,  9. ,  8.3, 10.2,  9.6, 10. ,  7.8,  9.3,\n",
       "          8.5,  9.6,  7.3,  9.5,  7.9,  7. ,  8.9,  8.2,  9. ,  8.5,  9.8,\n",
       "          8.6,  8.5,  8.4,  8.1,  9.1,  8.9,  8.8,  8.9,  9.3,  9.6,  9.6,\n",
       "          9.7,  8.9,  8.3,  7.9,  7.9,  8.5,  8.7,  8.4,  9.4,  9.8,  8.6,\n",
       "          8.6,  8. ,  8.1,  9.1,  8.4,  7.3,  8.3,  8.7,  8.6,  9.1,  7.6,\n",
       "          8.5,  9.6,  8.5, 10.1,  9.2,  9.5, 10.6,  7.4, 10.2,  9.2, 10.8,\n",
       "          9.7,  9.1,  9.8,  8.2,  8.6,  9.6,  9.5, 11.5, 10.3,  8.2, 10.1,\n",
       "          8.4, 10.5,  9. , 10. , 10.4,  9. ,  9.1,  9.2, 10.2, 10.2, 11.7,\n",
       "          9.2,  9.1,  8.7, 10.7,  9.7,  9.5,  9. , 10. ,  9.8, 10. ,  8.5,\n",
       "         10. , 10. ,  9.7,  8.8,  9.5,  9.6,  8.9],\n",
       "        [ 1.6,  1.6,  1.5,  1.7,  1.6,  2.1,  1.7,  1.7,  1.6,  1.6,  1.7,\n",
       "          1.8,  1.5,  1.2,  1.4,  1.9,  1.7,  1.7,  2. ,  1.8,  1.9,  1.9,\n",
       "          1.2,  2.2,  2.1,  1.8,  2. ,  1.7,  1.6,  1.8,  1.8,  1.9,  1.6,\n",
       "          1.6,  1.7,  1.4,  1.5,  1.5,  1.5,  1.7,  1.6,  1.6,  1.5,  2.2,\n",
       "          2.3,  1.7,  1.8,  1.6,  1.7,  1.6,  6.1,  6. ,  6.4,  5.3,  6.1,\n",
       "          5.8,  6.3,  4.3,  5.9,  5.3,  4.5,  5.7,  5. ,  6.1,  4.9,  5.8,\n",
       "          6. ,  5.1,  6. ,  5. ,  6.6,  5.3,  6.4,  5.9,  5.6,  5.8,  6.2,\n",
       "          6.7,  6. ,  4.5,  4.9,  4.7,  5.1,  6.7,  6. ,  6.1,  6.2,  5.7,\n",
       "          5.4,  5.3,  5.6,  6. ,  5.2,  4.3,  5.5,  5.4,  5.5,  5.6,  4.1,\n",
       "          5.4,  8.5,  7. ,  8. ,  7.4,  8. ,  8.7,  6.2,  8.1,  7.6,  8.6,\n",
       "          7.1,  7.2,  7.6,  7. ,  7.5,  7.6,  7.3,  8.9,  9.2,  6.5,  8. ,\n",
       "          6.9,  8.7,  6.7,  7.8,  7.8,  6.6,  6.7,  7.7,  7.4,  8. ,  8.4,\n",
       "          7.8,  6.6,  7. ,  8.4,  8. ,  7.3,  6.6,  7.5,  8. ,  7.4,  7. ,\n",
       "          8.2,  8.2,  7.5,  6.9,  7.2,  7.7,  6.9]]),\n",
       " array([[0.53844888, 0.53560909, 0.53539495, 0.53501146, 0.53844888,\n",
       "         0.54235476, 0.53622901, 0.53785175, 0.53317313, 0.53601492,\n",
       "         0.54068959, 0.53725452, 0.53498905, 0.53231593, 0.54288394,\n",
       "         0.54516599, 0.54149992, 0.53866282, 0.54295101, 0.54009288,\n",
       "         0.53990142, 0.53990142, 0.5359701 , 0.53892152, 0.53789654,\n",
       "         0.5364431 , 0.53849366, 0.53906828, 0.53844888, 0.53603732,\n",
       "         0.53603732, 0.53990142, 0.54128617, 0.5429063 , 0.53622901,\n",
       "         0.53639829, 0.53985666, 0.53782936, 0.53336498, 0.53825731,\n",
       "         0.53804334, 0.53114196, 0.5341771 , 0.53932695, 0.54116189,\n",
       "         0.53541736, 0.54009288, 0.53520321, 0.54028434, 0.53723212,\n",
       "         0.55451911, 0.5518865 , 0.55435094, 0.54311743, 0.55088861,\n",
       "         0.54701705, 0.55252513, 0.53895385, 0.55126999, 0.54352229,\n",
       "         0.53816525, 0.54842061, 0.54409596, 0.54967722, 0.54509648,\n",
       "         0.55226772, 0.54784787, 0.54552339, 0.54703937, 0.54369118,\n",
       "         0.55114617, 0.54756765, 0.54950871, 0.54884699, 0.54982341,\n",
       "         0.55146065, 0.55231227, 0.5537796 , 0.54906015, 0.54343288,\n",
       "         0.5426678 , 0.54224046, 0.54552339, 0.54974412, 0.54703937,\n",
       "         0.55129227, 0.55311905, 0.54720804, 0.54656805, 0.5439271 ,\n",
       "         0.54497236, 0.54986801, 0.54533228, 0.53895385, 0.54556806,\n",
       "         0.5469724 , 0.54678139, 0.54901553, 0.53974226, 0.54616363,\n",
       "         0.55720299, 0.54957562, 0.55815366, 0.55325266, 0.55573788,\n",
       "         0.56164893, 0.54342046, 0.55876829, 0.55367818, 0.56224033,\n",
       "         0.55463038, 0.55242365, 0.55609622, 0.54836359, 0.55104463,\n",
       "         0.55529049, 0.55424955, 0.56568415, 0.56150351, 0.54729732,\n",
       "         0.55815366, 0.54895852, 0.56124716, 0.55095547, 0.55732648,\n",
       "         0.55893611, 0.55074248, 0.55135913, 0.55389091, 0.55728202,\n",
       "         0.55855603, 0.56542835, 0.55410363, 0.55114617, 0.55038331,\n",
       "         0.56141478, 0.55654344, 0.55424955, 0.55074248, 0.5566892 ,\n",
       "         0.55694611, 0.55647673, 0.54957562, 0.55817588, 0.55817588,\n",
       "         0.55548083, 0.55057405, 0.55403685, 0.55550308, 0.55097776],\n",
       "        [0.48100907, 0.48254736, 0.4825521 , 0.48298218, 0.48100907,\n",
       "         0.47944744, 0.48232284, 0.4814438 , 0.48386615, 0.48232758,\n",
       "         0.47990578, 0.48187856, 0.48277188, 0.48388513, 0.47838235,\n",
       "         0.47769978, 0.47946641, 0.48100433, 0.47901285, 0.48034043,\n",
       "         0.4805554 , 0.4805554 , 0.48190703, 0.48142009, 0.48186433,\n",
       "         0.48231809, 0.48142957, 0.4807846 , 0.48100907, 0.48253787,\n",
       "         0.48253787, 0.4805554 , 0.47947115, 0.47859251, 0.48232284,\n",
       "         0.48189754, 0.48013496, 0.48123355, 0.48365108, 0.48122406,\n",
       "         0.48122881, 0.48496532, 0.48321147, 0.48120035, 0.48031672,\n",
       "         0.4827624 , 0.48034043, 0.48276714, 0.48012547, 0.4816683 ,\n",
       "         0.47728108, 0.47860353, 0.47770606, 0.4825916 , 0.47925776,\n",
       "         0.48102959, 0.47858931, 0.48373803, 0.47882792, 0.48237182,\n",
       "         0.48438801, 0.48015547, 0.48172676, 0.4799168 , 0.48107228,\n",
       "         0.47817374, 0.48080037, 0.48106279, 0.48123983, 0.48194652,\n",
       "         0.4796734 , 0.48017444, 0.48034197, 0.48014598, 0.47928147,\n",
       "         0.47861301, 0.47859405, 0.4783507 , 0.48014124, 0.48153073,\n",
       "         0.4823908 , 0.48240028, 0.48106279, 0.48054745, 0.48123983,\n",
       "         0.47903809, 0.47815478, 0.4808146 , 0.48082883, 0.48215205,\n",
       "         0.48191805, 0.47970185, 0.48127778, 0.48373803, 0.48148329,\n",
       "         0.48060911, 0.48082409, 0.47972082, 0.48308811, 0.48104856,\n",
       "         0.478485  , 0.48097267, 0.4774106 , 0.47941578, 0.47872835,\n",
       "         0.47627955, 0.48342807, 0.47718627, 0.4794063 , 0.4758452 ,\n",
       "         0.47833174, 0.47964495, 0.4780884 , 0.48163188, 0.48072923,\n",
       "         0.47852767, 0.47876154, 0.47429449, 0.47691454, 0.4816556 ,\n",
       "         0.4774106 , 0.48119714, 0.4764991 , 0.47988834, 0.47763969,\n",
       "         0.47676133, 0.47989309, 0.47966866, 0.47940156, 0.47721945,\n",
       "         0.47719101, 0.47387926, 0.47939681, 0.4796734 , 0.48053322,\n",
       "         0.47607422, 0.47828907, 0.47876154, 0.47989309, 0.47765391,\n",
       "         0.47806944, 0.47765865, 0.48097267, 0.47762073, 0.47762073,\n",
       "         0.47831277, 0.48031826, 0.47876628, 0.47852293, 0.48009855],\n",
       "        [0.48886846, 0.4892651 , 0.48965606, 0.48898749, 0.48886846,\n",
       "         0.48651743, 0.4888175 , 0.48859086, 0.48960509, 0.48920844,\n",
       "         0.48819424, 0.48831326, 0.48971272, 0.49116902, 0.48897039,\n",
       "         0.48684593, 0.48808093, 0.48847754, 0.48679498, 0.48791665,\n",
       "         0.48758242, 0.48758242, 0.49065898, 0.48663643, 0.48714059,\n",
       "         0.48842658, 0.48741815, 0.48842088, 0.48886846, 0.48848324,\n",
       "         0.48848324, 0.48758242, 0.48847184, 0.4882452 , 0.4888175 ,\n",
       "         0.48987702, 0.48903275, 0.48931607, 0.48993939, 0.4885342 ,\n",
       "         0.48892513, 0.48988842, 0.48982606, 0.48657978, 0.48596236,\n",
       "         0.48893083, 0.48791665, 0.48932177, 0.4882509 , 0.48903845,\n",
       "         0.47039355, 0.47112231, 0.46933739, 0.47486964, 0.470902  ,\n",
       "         0.47252369, 0.469953  , 0.47905543, 0.47156866, 0.47481309,\n",
       "         0.47844435, 0.47268756, 0.47581396, 0.47107149, 0.4760345 ,\n",
       "         0.471789  , 0.47168736, 0.47525411, 0.47180038, 0.47587052,\n",
       "         0.46906638, 0.47424766, 0.47001517, 0.47190771, 0.47285144,\n",
       "         0.47190203, 0.47034274, 0.46833798, 0.47151784, 0.4777088 ,\n",
       "         0.47637387, 0.47715444, 0.47525411, 0.46890265, 0.47180038,\n",
       "         0.4708455 , 0.47022976, 0.47285713, 0.4740272 , 0.47475655,\n",
       "         0.47352977, 0.47140482, 0.4749205 , 0.47905543, 0.47380674,\n",
       "         0.47397066, 0.47363714, 0.47296449, 0.47966657, 0.47408374,\n",
       "         0.46138899, 0.46784689, 0.46305162, 0.46589416, 0.46338992,\n",
       "         0.46004816, 0.47158571, 0.46260628, 0.46511563, 0.46032415,\n",
       "         0.46678006, 0.4667293 , 0.46477717, 0.46801626, 0.46584342,\n",
       "         0.46488998, 0.4661142 , 0.45876422, 0.45827451, 0.46996437,\n",
       "         0.46305162, 0.46829288, 0.46010449, 0.46873324, 0.46388609,\n",
       "         0.46366052, 0.46912286, 0.46867677, 0.46472643, 0.46532995,\n",
       "         0.46299524, 0.46059449, 0.46433727, 0.46906638, 0.46773398,\n",
       "         0.46115792, 0.46327715, 0.4661142 , 0.46912286, 0.46505355,\n",
       "         0.46322077, 0.46544278, 0.46784689, 0.4623301 , 0.4623301 ,\n",
       "         0.46522279, 0.46806704, 0.46650355, 0.46450081, 0.46801058],\n",
       "        [0.52380323, 0.52217698, 0.52193998, 0.52194924, 0.52380323,\n",
       "         0.52661302, 0.5226463 , 0.52357556, 0.52078267, 0.52240933,\n",
       "         0.52520138, 0.52334789, 0.52170761, 0.51983443, 0.52611631,\n",
       "         0.52799648, 0.5256658 , 0.52404013, 0.52684054, 0.52497378,\n",
       "         0.52497841, 0.52497841, 0.5219261 , 0.52476005, 0.52405864,\n",
       "         0.52288326, 0.52428629, 0.5242724 , 0.52380323, 0.52265093,\n",
       "         0.52265093, 0.52497841, 0.52542897, 0.52635773, 0.5226463 ,\n",
       "         0.52240007, 0.52449541, 0.523334  , 0.52077804, 0.52380785,\n",
       "         0.52357093, 0.5196205 , 0.52124285, 0.52499229, 0.52615794,\n",
       "         0.5221816 , 0.52497378, 0.52194461, 0.52496915, 0.52310632,\n",
       "         0.53815727, 0.53653205, 0.53840255, 0.53070576, 0.53607349,\n",
       "         0.5335111 , 0.53724053, 0.52717904, 0.53606426, 0.53093769,\n",
       "         0.52695616, 0.53420172, 0.53092383, 0.53537862, 0.53138303,\n",
       "         0.53652283, 0.53421557, 0.53185604, 0.53375209, 0.5306919 ,\n",
       "         0.53679129, 0.53325623, 0.5356241 , 0.53467437, 0.53489221,\n",
       "         0.53605965, 0.53700439, 0.53841638, 0.53491067, 0.52997292,\n",
       "         0.52999141, 0.52951819, 0.53185604, 0.53610118, 0.53375209,\n",
       "         0.53630509, 0.53746743, 0.53350648, 0.53279726, 0.53116961,\n",
       "         0.53211099, 0.535374  , 0.53186066, 0.52717904, 0.53233822,\n",
       "         0.53302906, 0.53303368, 0.53442882, 0.52740192, 0.53256544,\n",
       "         0.54243127, 0.53634661, 0.54240825, 0.5389115 , 0.54102109,\n",
       "         0.54521278, 0.53190685, 0.54287509, 0.5393835 , 0.54543908,\n",
       "         0.53936045, 0.53820799, 0.5407714 , 0.53565179, 0.53775889,\n",
       "         0.54030884, 0.53936967, 0.54776078, 0.54569756, 0.53447037,\n",
       "         0.54240825, 0.5358788 , 0.54498186, 0.53679591, 0.54170554,\n",
       "         0.54263017, 0.53655973, 0.53702745, 0.53961947, 0.54122469,\n",
       "         0.54263938, 0.54704564, 0.53985542, 0.53679129, 0.53680975,\n",
       "         0.54473711, 0.54148355, 0.53936967, 0.53655973, 0.54099805,\n",
       "         0.54171475, 0.54076219, 0.53634661, 0.54264859, 0.54264859,\n",
       "         0.54030423, 0.53680513, 0.53913368, 0.54054474, 0.53703668],\n",
       "        [0.51806246, 0.51644476, 0.51655889, 0.51586837, 0.51806246,\n",
       "         0.5191094 , 0.51656176, 0.51748619, 0.51505789, 0.51667589,\n",
       "         0.51910365, 0.51690988, 0.51632776, 0.51551445, 0.52106285,\n",
       "         0.52118552, 0.51956571, 0.51794836, 0.51968553, 0.51852747,\n",
       "         0.51818231, 0.51818231, 0.51759454, 0.51691563, 0.51656752,\n",
       "         0.51644764, 0.51714386, 0.51817944, 0.51806246, 0.51621651,\n",
       "         0.51621651, 0.51818231, 0.51967978, 0.52060378, 0.51656176,\n",
       "         0.51736633, 0.51910077, 0.51794548, 0.51540319, 0.51771728,\n",
       "         0.51783138, 0.51390199, 0.51586549, 0.51714674, 0.517957  ,\n",
       "         0.51609951, 0.51852747, 0.51621364, 0.51887261, 0.51736921,\n",
       "         0.51662509, 0.51535238, 0.51582044, 0.51198989, 0.51454473,\n",
       "         0.51303762, 0.51500996, 0.51197549, 0.51523537, 0.51222113,\n",
       "         0.51105336, 0.5140766 , 0.51325732, 0.51385117, 0.51406509,\n",
       "         0.51604295, 0.5130405 , 0.51383677, 0.51257805, 0.5130261 ,\n",
       "         0.51351156, 0.51453322, 0.51304626, 0.51384829, 0.51511547,\n",
       "         0.51558066, 0.5151241 , 0.51478455, 0.51373413, 0.51405933,\n",
       "         0.51267783, 0.51290617, 0.51383677, 0.51247252, 0.51257805,\n",
       "         0.51477591, 0.51558642, 0.513383  , 0.51372549, 0.51245236,\n",
       "         0.51234106, 0.51419652, 0.51349141, 0.51197549, 0.51291769,\n",
       "         0.51395669, 0.51361133, 0.51465313, 0.51289754, 0.51349429,\n",
       "         0.51249843, 0.51166749, 0.51422531, 0.51282944, 0.51283807,\n",
       "         0.51458216, 0.51003711, 0.51434234, 0.51260109, 0.51515865,\n",
       "         0.51432795, 0.51282656, 0.51398836, 0.51097372, 0.51132782,\n",
       "         0.51352596, 0.51363724, 0.51643426, 0.51331778, 0.51154467,\n",
       "         0.51422531, 0.51155043, 0.51435098, 0.51316619, 0.51422243,\n",
       "         0.51514713, 0.51328035, 0.5133974 , 0.51248691, 0.51514137,\n",
       "         0.51445649, 0.51746705, 0.51237274, 0.51351156, 0.51212998,\n",
       "         0.51515577, 0.51330051, 0.51363724, 0.51328035, 0.51456489,\n",
       "         0.51353172, 0.51467904, 0.51166749, 0.5137658 , 0.5137658 ,\n",
       "         0.51387132, 0.5124754 , 0.5137514 , 0.51341179, 0.51270662],\n",
       "        [0.52212972, 0.52026236, 0.52031471, 0.51967636, 0.52212972,\n",
       "         0.52373487, 0.52047681, 0.52154391, 0.51866131, 0.52052916,\n",
       "         0.52341085, 0.52095804, 0.5200479 , 0.51887077, 0.52543405,\n",
       "         0.52597217, 0.52394415, 0.52207738, 0.52432044, 0.52282517,\n",
       "         0.52250615, 0.52250615, 0.52127211, 0.5212822 , 0.520801  ,\n",
       "         0.52042446, 0.52138688, 0.5223441 , 0.52212972, 0.52015765,\n",
       "         0.52015765, 0.52250615, 0.52399646, 0.52506288, 0.52047681,\n",
       "         0.52116742, 0.52324883, 0.52191533, 0.51898054, 0.52181065,\n",
       "         0.52186299, 0.51732681, 0.51951424, 0.52154895, 0.52256352,\n",
       "         0.51994319, 0.52282517, 0.51999554, 0.52314418, 0.52132949,\n",
       "         0.52404186, 0.52249418, 0.5233516 , 0.51805814, 0.52164166,\n",
       "         0.51966439, 0.52233718, 0.5172473 , 0.5222798 , 0.51832504,\n",
       "         0.51634171, 0.52078398, 0.51928273, 0.52084137, 0.52013558,\n",
       "         0.52313221, 0.5198265 , 0.52003088, 0.51929283, 0.51901588,\n",
       "         0.52084642, 0.52099336, 0.52015072, 0.52067928, 0.52190336,\n",
       "         0.52259884, 0.52238951, 0.52239456, 0.52062693, 0.51981136,\n",
       "         0.5185345 , 0.51863923, 0.52003088, 0.51972684, 0.51929283,\n",
       "         0.5219084 , 0.52292291, 0.51998357, 0.52014063, 0.51859192,\n",
       "         0.5187017 , 0.52116049, 0.5197117 , 0.5172473 , 0.51928778,\n",
       "         0.52040744, 0.52008828, 0.52136986, 0.51815278, 0.51987381,\n",
       "         0.52118572, 0.51903607, 0.52278105, 0.52069442, 0.52118067,\n",
       "         0.52374812, 0.51651906, 0.52299541, 0.52058972, 0.52433369,\n",
       "         0.52218522, 0.52053233, 0.52219026, 0.51823544, 0.51904112,\n",
       "         0.5216568 , 0.52154707, 0.52604275, 0.52268648, 0.51849728,\n",
       "         0.52278105, 0.51882157, 0.52348147, 0.52052728, 0.52261902,\n",
       "         0.52368571, 0.52057963, 0.52079407, 0.52053737, 0.52336169,\n",
       "         0.52304774, 0.52683721, 0.52048502, 0.52084642, 0.51956977,\n",
       "         0.52417171, 0.52171418, 0.52154707, 0.52057963, 0.52277601,\n",
       "         0.52198092, 0.52282834, 0.51903607, 0.52240969, 0.52240969,\n",
       "         0.52197588, 0.51988895, 0.52159941, 0.52160446, 0.52015577]]),\n",
       " array([[0.50217752, 0.50218205, 0.50218255, ..., 0.50214415, 0.50214104,\n",
       "         0.50214951],\n",
       "        [0.50210314, 0.50208298, 0.50208223, ..., 0.50217074, 0.50217732,\n",
       "         0.50215127],\n",
       "        [0.50200934, 0.50200678, 0.50200831, ..., 0.50192711, 0.50191986,\n",
       "         0.50192946],\n",
       "        ...,\n",
       "        [0.49532157, 0.49532751, 0.49532752, ..., 0.49531359, 0.49531272,\n",
       "         0.49531866],\n",
       "        [0.49974971, 0.49974698, 0.49974635, ..., 0.49978849, 0.49979202,\n",
       "         0.49978427],\n",
       "        [0.50376491, 0.50374855, 0.50374797, ..., 0.50381842, 0.50382365,\n",
       "         0.50380272]])]"
      ]
     },
     "execution_count": 80,
     "metadata": {},
     "output_type": "execute_result"
    }
   ],
   "source": [
    "def sigmoid(x, derivative=False):\n",
    "    sigm = 1. / (1. + np.exp(-x))\n",
    "    if derivative:\n",
    "        return sigm * (1. - sigm)\n",
    "    return sigm\n",
    "\n",
    "def forward_propagation(Xx, Nn, activation='sigmoid'):\n",
    "    \"\"\"\n",
    "    Xx -- input dataset\n",
    "    Nn -- list of dictionaries with weights and bayases (neural network)\n",
    "    \n",
    "    Returns result of forward propagation (no_of_classes, no_of_examples) and cache with results of given layer\n",
    "    \"\"\"\n",
    "    # input dataset is the output of the first layer\n",
    "    A = Xx.T\n",
    "    cache = [A]\n",
    "    \n",
    "    for layer in Nn:\n",
    "        Z = np.dot(layer['weights'], A) + layer['biases']\n",
    "        if activation == 'sigmoid':\n",
    "            A = sigmoid(Z)\n",
    "        else:\n",
    "            A = np.tanh(Z)\n",
    "        cache += [A]\n",
    "        \n",
    "    return A, cache\n",
    "\n",
    "sizes = layers_sizes(X, Y, [6])\n",
    "layers = initialize_layers(sizes)\n",
    "R, cache = forward_propagation(X, layers)\n",
    "cache\n",
    "# expected result: array 3x150 (3 classes, 150 examples)"
   ]
  },
  {
   "cell_type": "code",
   "execution_count": 12,
   "metadata": {},
   "outputs": [
    {
     "data": {
      "text/plain": [
       "(0.2107210313156526, 1.336471783812265, 3.083720788832146)"
      ]
     },
     "execution_count": 12,
     "metadata": {},
     "output_type": "execute_result"
    }
   ],
   "source": [
    "def compute_cost(R, Y):\n",
    "    \"\"\"\n",
    "    Arguments:\n",
    "    R -- results of forward propagation (no_of_classes, no_of_examples)\n",
    "    Y -- labels of exmples\n",
    "    \"\"\"\n",
    "    \n",
    "    m = Y.shape[1] # number of examples\n",
    "    \n",
    "    # Compute the cross-entropy cost\n",
    "    logprobs = np.multiply(np.log(R), Y) + np.multiply((1 - Y), np.log(1 - R))\n",
    "    cost = - np.sum(logprobs) / m    \n",
    "    \n",
    "    cost = np.squeeze(cost)     # makes sure cost is the dimension we expect. \n",
    "                                # E.g., turns [[17]] into 17 \n",
    "    \n",
    "    return cost\n",
    "\n",
    "medium = compute_cost(\n",
    "    np.array([[.1,.2,.3],\n",
    "              [.4,.1,.4]]), \n",
    "    np.array([[0.,1.,0.],\n",
    "              [1.,0.,1.]]))\n",
    "\n",
    "big = compute_cost(\n",
    "    np.array([[.1,.6,.3],\n",
    "              [.8,.1,.6]]), \n",
    "    np.array([[1.,0.,1.],\n",
    "              [0.,1.,0.]]))\n",
    "\n",
    "small = compute_cost(\n",
    "    np.array([[.1,.9,.1],\n",
    "              [.9,.1,.9]]), \n",
    "    np.array([[0.,1.,0.],\n",
    "              [1.,0.,1.]]))\n",
    "\n",
    "small, medium, big"
   ]
  },
  {
   "cell_type": "code",
   "execution_count": 92,
   "metadata": {
    "scrolled": true
   },
   "outputs": [
    {
     "data": {
      "text/plain": [
       "[{'dW': array([[  0.,   0.],\n",
       "         [-12., -24.]]), 'dB': array([[  0.],\n",
       "         [-12.]])}, {'dW': array([[2., 4.]]), 'dB': array([[2.]])}]"
      ]
     },
     "execution_count": 92,
     "metadata": {},
     "output_type": "execute_result"
    }
   ],
   "source": [
    "def backward_propagation(Nn, cache, X, Y):\n",
    "    \"\"\"    \n",
    "    Arguments:\n",
    "    Nn -- list of matrices containing layers weights and biases\n",
    "    cache -- list of vectors containing output of every layer\n",
    "    X -- input dataset\n",
    "    Y -- dataset labels\n",
    "    \n",
    "    Returns:\n",
    "    gradients -- list of gradients\n",
    "    \"\"\"\n",
    "    m = X.shape[0]\n",
    "    # dZ - error vector\n",
    "    dZ = list(reversed(cache))[0] - Y\n",
    "    gradients = []\n",
    "    \n",
    "    for (layer, A) in zip(list(reversed(Nn)), list(reversed(cache))[1:]): \n",
    "        dW = (1/m) * np.dot(dZ, A.T)\n",
    "        dB = (1 / m) * np.sum(dZ, axis=1, keepdims=True)\n",
    "        gradients = [{'dW': dW,'dB': dB}] + gradients\n",
    "        dZ = np.multiply(np.dot(layer['weights'].T, dZ), 1 - np.power(A, 2))\n",
    "\n",
    "    return gradients\n",
    "\n",
    "# example for 2x2x1 neural network\n",
    "backward_propagation(\n",
    "    # nn with 2 layers\n",
    "    [{'weights': np.array([[1,2],[3,4]]), 'biases': np.zeros([2,1])}, \n",
    "     {'weights': np.array([[1,2]]), 'biases': np.zeros([1,1])}],\n",
    "    # three vectors with output (the very first one is input dataset)\n",
    "    [np.array([[1],[2]]), np.array([[1],[2]]), np.array([[3]])],\n",
    "    # X\n",
    "    np.array([[1,2]]),\n",
    "    # Y\n",
    "    np.array([[1]])\n",
    ")\n",
    "# should return two matrices with gradients corresponding to weights matrices sizes"
   ]
  },
  {
   "cell_type": "code",
   "execution_count": 97,
   "metadata": {},
   "outputs": [
    {
     "data": {
      "text/plain": [
       "[{'weights': array([[-1, -1],\n",
       "         [-1, -1]]), 'biases': array([[0.],\n",
       "         [0.]])}, {'weights': array([[0, 0]]), 'biases': array([[0.]])}]"
      ]
     },
     "execution_count": 97,
     "metadata": {},
     "output_type": "execute_result"
    }
   ],
   "source": [
    "def update_weights(Nn, gradients, learning_rate=1.2):\n",
    "    result_Nn = []\n",
    "    for (layer, grad) in zip(Nn, gradients):\n",
    "        layer['weights'] = layer['weights'] - learning_rate * grad['dW']\n",
    "        layer['biases'] = layer['biases'] - learning_rate * grad['dB']\n",
    "        result_Nn += [layer]\n",
    "    return result_Nn\n",
    "\n",
    "update_weights(\n",
    "    [{'weights': np.array([[1,2],[3,4]]), 'biases': np.zeros([2,1])}, \n",
    "     {'weights': np.array([[1,2]]), 'biases': np.zeros([1,1])}],\n",
    "    [{'dW': np.array([[2,3],[4,5]]), 'dB': np.zeros([2,1])}, \n",
    "     {'dW': np.array([[1,2]]), 'dB': np.zeros([1,1])}],\n",
    "    1)"
   ]
  },
  {
   "cell_type": "code",
   "execution_count": 126,
   "metadata": {},
   "outputs": [
    {
     "name": "stdout",
     "output_type": "stream",
     "text": [
      "cost 0 2.0838667328104137\n",
      "cost 100 0.9753544463266098\n",
      "cost 200 0.7572218219939467\n",
      "cost 300 0.6474262869365195\n",
      "cost 400 0.5932116762255124\n",
      "cost 500 0.47295253984009417\n",
      "cost 600 0.4066709770139139\n",
      "cost 700 0.4895644207046393\n",
      "cost 800 0.5818779424898979\n",
      "cost 900 0.2679810931740701\n",
      "cost 999 0.3027842447579983\n"
     ]
    },
    {
     "name": "stderr",
     "output_type": "stream",
     "text": [
      "/Users/mk/repos/inshorts-nlp/venv/lib/python3.6/site-packages/ipykernel_launcher.py:2: RuntimeWarning: overflow encountered in exp\n",
      "  \n"
     ]
    }
   ],
   "source": [
    "def mlp_network(X, Y, iterations = 1000, hidden_layers=[10], activation='sigmoid', learning_rate=1.2, threshold=None):\n",
    "    \"\"\"\n",
    "    Returns:\n",
    "    W -- weights of optimal neural network\n",
    "    partials -- 10 partial results\n",
    "    \"\"\"\n",
    "    sizes = layers_sizes(X, Y, hidden_layers)\n",
    "    W = initialize_layers(sizes)\n",
    "    partials = []\n",
    "\n",
    "    for i in range(iterations):\n",
    "        A, cache = forward_propagation(X, W)\n",
    "                \n",
    "        if (i+1) % int(iterations/10) == 1:\n",
    "            print('cost', i, compute_cost(A, Y))\n",
    "            partials += [W]\n",
    "            \n",
    "        if (not threshold == None and threshold > compute_cost(A, Y)):\n",
    "            break\n",
    "        \n",
    "        gradients = backward_propagation(W, cache, X, Y)\n",
    "        \n",
    "        W = update_weights(W, gradients, learning_rate)\n",
    "    \n",
    "    print('cost', i, compute_cost(A, Y))\n",
    "    return W, partials\n",
    "\n",
    "optimal_W, partials = mlp_network(X, Ym, 1000, [6])"
   ]
  },
  {
   "cell_type": "code",
   "execution_count": 102,
   "metadata": {},
   "outputs": [
    {
     "name": "stderr",
     "output_type": "stream",
     "text": [
      "/Users/mk/repos/inshorts-nlp/venv/lib/python3.6/site-packages/ipykernel_launcher.py:2: RuntimeWarning: overflow encountered in exp\n",
      "  \n"
     ]
    },
    {
     "data": {
      "text/plain": [
       "array([2])"
      ]
     },
     "execution_count": 102,
     "metadata": {},
     "output_type": "execute_result"
    }
   ],
   "source": [
    "def predict(X, W):\n",
    "    results = []\n",
    "    R = forward_propagation(X, W)[0]\n",
    "    for col in R.T:\n",
    "        results += [col.argmax()]\n",
    "    return np.array(results)\n",
    "\n",
    "predict(np.array([[3,4]]), optimal_W)"
   ]
  },
  {
   "cell_type": "code",
   "execution_count": 127,
   "metadata": {},
   "outputs": [
    {
     "name": "stdout",
     "output_type": "stream",
     "text": [
      "cost 0 2.083786251406522\n",
      "cost 1000 0.36204048757849955\n"
     ]
    },
    {
     "name": "stderr",
     "output_type": "stream",
     "text": [
      "/Users/mk/repos/inshorts-nlp/venv/lib/python3.6/site-packages/ipykernel_launcher.py:2: RuntimeWarning: overflow encountered in exp\n",
      "  \n"
     ]
    },
    {
     "name": "stdout",
     "output_type": "stream",
     "text": [
      "cost 2000 0.39939052081673343\n",
      "cost 3000 0.29845920497109596\n",
      "cost 4000 0.26576876327692167\n",
      "cost 5000 0.23026479219598503\n",
      "cost 6000 0.2228132836239701\n",
      "cost 7000 0.20502245419273868\n",
      "cost 8000 0.16633256759796708\n",
      "cost 9000 0.16997381937890968\n",
      "cost 9999 0.20594575875070145\n"
     ]
    },
    {
     "data": {
      "image/png": "[encoded data removed]",
      "text/plain": [
       "<Figure size 432x288 with 1 Axes>"
      ]
     },
     "metadata": {
      "needs_background": "light"
     },
     "output_type": "display_data"
    }
   ],
   "source": [
    "optimal_W, partials = mlp_network(X, Ym, 10000, [6])\n",
    "plot_decision_boundary(lambda x: predict(x, optimal_W), X.T, Y.T)"
   ]
  },
  {
   "cell_type": "code",
   "execution_count": 49,
   "metadata": {},
   "outputs": [],
   "source": [
    "def normalize(M):\n",
    "    m = M - M.mean(axis=0)\n",
    "    return m / np.abs(m).max(axis=0)"
   ]
  },
  {
   "cell_type": "code",
   "execution_count": 105,
   "metadata": {},
   "outputs": [
    {
     "name": "stdout",
     "output_type": "stream",
     "text": [
      "cost 0 2.076994714994455\n"
     ]
    },
    {
     "name": "stderr",
     "output_type": "stream",
     "text": [
      "/Users/mk/repos/inshorts-nlp/venv/lib/python3.6/site-packages/ipykernel_launcher.py:2: RuntimeWarning: overflow encountered in exp\n",
      "  \n"
     ]
    },
    {
     "name": "stdout",
     "output_type": "stream",
     "text": [
      "cost 10000 0.32049609436214005\n",
      "cost 20000 0.23392043571819718\n",
      "cost 30000 0.24481738574111825\n",
      "cost 40000 0.2373359152323602\n",
      "cost 50000 0.2181786723591948\n",
      "cost 60000 0.2356202455620454\n",
      "cost 70000 0.24493646021440152\n",
      "cost 80000 0.24053414812685656\n",
      "cost 90000 0.22386128332668995\n",
      "cost 99999 0.28435256239436846\n"
     ]
    },
    {
     "data": {
      "image/png": "[encoded data removed]",
      "text/plain": [
       "<Figure size 432x288 with 1 Axes>"
      ]
     },
     "metadata": {
      "needs_background": "light"
     },
     "output_type": "display_data"
    }
   ],
   "source": [
    "Xl = normalize(X)\n",
    "Yl = Y\n",
    "\n",
    "nn,_ = mlp_network(Xl, class_to_vec(Yl), 100000, [6,6])\n",
    "plot_decision_boundary(lambda x: predict(x, nn), Xl.T, Yl.T)"
   ]
  },
  {
   "cell_type": "code",
   "execution_count": 106,
   "metadata": {
    "scrolled": false
   },
   "outputs": [
    {
     "data": {
      "image/png": "[encoded data removed]",
      "text/plain": [
       "<Figure size 432x288 with 1 Axes>"
      ]
     },
     "metadata": {
      "needs_background": "light"
     },
     "output_type": "display_data"
    }
   ],
   "source": [
    "def load_extra_datasets():  \n",
    "    N = 200\n",
    "    gaussian_quantiles = sklearn.datasets.make_gaussian_quantiles(mean=None, cov=0.7, n_samples=N, n_features=2, n_classes=2,  shuffle=True, random_state=None)\n",
    "    return gaussian_quantiles\n",
    "\n",
    "Xg, Yg = load_extra_datasets()\n",
    "plt.scatter(Xg.T[0, :], Xg.T[1, :], c=Yg, s=40, cmap=plt.cm.Spectral);\n"
   ]
  },
  {
   "cell_type": "code",
   "execution_count": 150,
   "metadata": {},
   "outputs": [
    {
     "name": "stdout",
     "output_type": "stream",
     "text": [
      "cost 0 1.3863315446572806\n",
      "cost 10000 1.3862879954943212\n"
     ]
    },
    {
     "name": "stderr",
     "output_type": "stream",
     "text": [
      "/Users/mk/repos/inshorts-nlp/venv/lib/python3.6/site-packages/ipykernel_launcher.py:2: RuntimeWarning: overflow encountered in exp\n",
      "  \n"
     ]
    },
    {
     "name": "stdout",
     "output_type": "stream",
     "text": [
      "cost 13051 0.29848699845163706\n"
     ]
    },
    {
     "data": {
      "image/png": "[encoded data removed]",
      "text/plain": [
       "<Figure size 432x288 with 1 Axes>"
      ]
     },
     "metadata": {
      "needs_background": "light"
     },
     "output_type": "display_data"
    }
   ],
   "source": [
    "Xl = Xg\n",
    "Yl = Yg\n",
    "\n",
    "nn,_ = mlp_network(Xl, class_to_vec(Yl), 100000, [20,10], learning_rate=1.2, threshold=0.3)\n",
    "plot_decision_boundary(lambda x: predict(x, nn), Xl.T, Yl.T)"
   ]
  },
  {
   "cell_type": "code",
   "execution_count": 117,
   "metadata": {},
   "outputs": [
    {
     "data": {
      "text/plain": [
       "[{'weights': array([[ 0.0160823 , -0.00643523],\n",
       "         [ 0.00673994,  0.00528987],\n",
       "         [ 0.0138444 , -0.00156899],\n",
       "         [ 0.0154204 ,  0.01310335],\n",
       "         [ 0.00218808,  0.00949878],\n",
       "         [ 0.00378461,  0.00494654],\n",
       "         [ 0.02100716,  0.0258109 ],\n",
       "         [-0.02031261,  0.00548045],\n",
       "         [-0.00798942,  0.00592158],\n",
       "         [-0.00372612,  0.00366958]]), 'biases': array([[-1.04201537e-05],\n",
       "         [ 8.85938087e-06],\n",
       "         [-9.36428913e-06],\n",
       "         [-2.46436435e-05],\n",
       "         [ 7.32969573e-06],\n",
       "         [-3.57304234e-06],\n",
       "         [-5.61017196e-05],\n",
       "         [-2.91419827e-05],\n",
       "         [ 1.48160437e-05],\n",
       "         [ 2.10794000e-06]])},\n",
       " {'weights': array([[-0.00310837,  0.0036862 ,  0.00628201, -0.00391887,  0.00647125,\n",
       "          -0.00288934,  0.00616377,  0.01206438,  0.00181937,  0.00239684],\n",
       "         [-0.01807906, -0.00781077, -0.00630828, -0.0016709 , -0.01407747,\n",
       "          -0.01302175, -0.00102862,  0.00218796,  0.00992027,  0.01435002],\n",
       "         [ 0.00545016, -0.00335421,  0.00719567, -0.0074195 ,  0.00240979,\n",
       "           0.01792345,  0.0156194 , -0.00340114,  0.00949055, -0.00396269],\n",
       "         [-0.00613523, -0.01605648,  0.00539838,  0.00311859,  0.00987633,\n",
       "           0.00805955, -0.00290358,  0.00859468,  0.0187841 ,  0.02300454],\n",
       "         [ 0.00839784,  0.0042274 ,  0.00503095,  0.00316666, -0.00462797,\n",
       "           0.01584509,  0.01128491, -0.00010909,  0.01396787,  0.00803463],\n",
       "         [-0.01310064,  0.01132226, -0.0049892 , -0.0149766 ,  0.00201734,\n",
       "          -0.00318428, -0.01025736,  0.01700992,  0.00126174, -0.00027133]]),\n",
       "  'biases': array([[ 8.39169692e-06],\n",
       "         [ 2.91423150e-06],\n",
       "         [-1.29581622e-05],\n",
       "         [ 1.68632995e-06],\n",
       "         [-7.41367686e-05],\n",
       "         [ 9.22042975e-06]])},\n",
       " {'weights': array([[-0.00371231, -0.00605226,  0.0010728 , -0.00509882,  0.03142027,\n",
       "          -0.01284269],\n",
       "         [ 0.00168557, -0.00325468, -0.00689725, -0.00548111,  0.00054957,\n",
       "           0.01093211]]), 'biases': array([[-0.00265937],\n",
       "         [ 0.00129867]])}]"
      ]
     },
     "execution_count": 117,
     "metadata": {},
     "output_type": "execute_result"
    }
   ],
   "source": [
    "nn"
   ]
  },
  {
   "cell_type": "code",
   "execution_count": null,
   "metadata": {},
   "outputs": [],
   "source": []
  }
 ],
 "metadata": {
  "kernelspec": {
   "display_name": "Python 3",
   "language": "python",
   "name": "python3"
  },
  "language_info": {
   "codemirror_mode": {
    "name": "ipython",
    "version": 3
   },
   "file_extension": ".py",
   "mimetype": "text/x-python",
   "name": "python",
   "nbconvert_exporter": "python",
   "pygments_lexer": "ipython3",
   "version": "3.6.5"
  }
 },
 "nbformat": 4,
 "nbformat_minor": 1
}
