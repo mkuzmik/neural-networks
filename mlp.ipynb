{
 "cells": [
  {
   "cell_type": "code",
   "execution_count": 1,
   "metadata": {},
   "outputs": [],
   "source": [
    "import numpy as np\n",
    "import matplotlib.pyplot as plt\n",
    "import sklearn\n",
    "import sklearn.datasets\n",
    "\n",
    "%matplotlib inline\n"
   ]
  },
  {
   "cell_type": "code",
   "execution_count": 2,
   "metadata": {},
   "outputs": [],
   "source": [
    "iris_dataset = sklearn.datasets.load_iris()"
   ]
  },
  {
   "cell_type": "code",
   "execution_count": 3,
   "metadata": {},
   "outputs": [
    {
     "data": {
      "text/plain": [
       "{'data': array([[5.1, 3.5, 1.4, 0.2],\n",
       "        [4.9, 3. , 1.4, 0.2],\n",
       "        [4.7, 3.2, 1.3, 0.2],\n",
       "        [4.6, 3.1, 1.5, 0.2],\n",
       "        [5. , 3.6, 1.4, 0.2],\n",
       "        [5.4, 3.9, 1.7, 0.4],\n",
       "        [4.6, 3.4, 1.4, 0.3],\n",
       "        [5. , 3.4, 1.5, 0.2],\n",
       "        [4.4, 2.9, 1.4, 0.2],\n",
       "        [4.9, 3.1, 1.5, 0.1],\n",
       "        [5.4, 3.7, 1.5, 0.2],\n",
       "        [4.8, 3.4, 1.6, 0.2],\n",
       "        [4.8, 3. , 1.4, 0.1],\n",
       "        [4.3, 3. , 1.1, 0.1],\n",
       "        [5.8, 4. , 1.2, 0.2],\n",
       "        [5.7, 4.4, 1.5, 0.4],\n",
       "        [5.4, 3.9, 1.3, 0.4],\n",
       "        [5.1, 3.5, 1.4, 0.3],\n",
       "        [5.7, 3.8, 1.7, 0.3],\n",
       "        [5.1, 3.8, 1.5, 0.3],\n",
       "        [5.4, 3.4, 1.7, 0.2],\n",
       "        [5.1, 3.7, 1.5, 0.4],\n",
       "        [4.6, 3.6, 1. , 0.2],\n",
       "        [5.1, 3.3, 1.7, 0.5],\n",
       "        [4.8, 3.4, 1.9, 0.2],\n",
       "        [5. , 3. , 1.6, 0.2],\n",
       "        [5. , 3.4, 1.6, 0.4],\n",
       "        [5.2, 3.5, 1.5, 0.2],\n",
       "        [5.2, 3.4, 1.4, 0.2],\n",
       "        [4.7, 3.2, 1.6, 0.2],\n",
       "        [4.8, 3.1, 1.6, 0.2],\n",
       "        [5.4, 3.4, 1.5, 0.4],\n",
       "        [5.2, 4.1, 1.5, 0.1],\n",
       "        [5.5, 4.2, 1.4, 0.2],\n",
       "        [4.9, 3.1, 1.5, 0.2],\n",
       "        [5. , 3.2, 1.2, 0.2],\n",
       "        [5.5, 3.5, 1.3, 0.2],\n",
       "        [4.9, 3.6, 1.4, 0.1],\n",
       "        [4.4, 3. , 1.3, 0.2],\n",
       "        [5.1, 3.4, 1.5, 0.2],\n",
       "        [5. , 3.5, 1.3, 0.3],\n",
       "        [4.5, 2.3, 1.3, 0.3],\n",
       "        [4.4, 3.2, 1.3, 0.2],\n",
       "        [5. , 3.5, 1.6, 0.6],\n",
       "        [5.1, 3.8, 1.9, 0.4],\n",
       "        [4.8, 3. , 1.4, 0.3],\n",
       "        [5.1, 3.8, 1.6, 0.2],\n",
       "        [4.6, 3.2, 1.4, 0.2],\n",
       "        [5.3, 3.7, 1.5, 0.2],\n",
       "        [5. , 3.3, 1.4, 0.2],\n",
       "        [7. , 3.2, 4.7, 1.4],\n",
       "        [6.4, 3.2, 4.5, 1.5],\n",
       "        [6.9, 3.1, 4.9, 1.5],\n",
       "        [5.5, 2.3, 4. , 1.3],\n",
       "        [6.5, 2.8, 4.6, 1.5],\n",
       "        [5.7, 2.8, 4.5, 1.3],\n",
       "        [6.3, 3.3, 4.7, 1.6],\n",
       "        [4.9, 2.4, 3.3, 1. ],\n",
       "        [6.6, 2.9, 4.6, 1.3],\n",
       "        [5.2, 2.7, 3.9, 1.4],\n",
       "        [5. , 2. , 3.5, 1. ],\n",
       "        [5.9, 3. , 4.2, 1.5],\n",
       "        [6. , 2.2, 4. , 1. ],\n",
       "        [6.1, 2.9, 4.7, 1.4],\n",
       "        [5.6, 2.9, 3.6, 1.3],\n",
       "        [6.7, 3.1, 4.4, 1.4],\n",
       "        [5.6, 3. , 4.5, 1.5],\n",
       "        [5.8, 2.7, 4.1, 1. ],\n",
       "        [6.2, 2.2, 4.5, 1.5],\n",
       "        [5.6, 2.5, 3.9, 1.1],\n",
       "        [5.9, 3.2, 4.8, 1.8],\n",
       "        [6.1, 2.8, 4. , 1.3],\n",
       "        [6.3, 2.5, 4.9, 1.5],\n",
       "        [6.1, 2.8, 4.7, 1.2],\n",
       "        [6.4, 2.9, 4.3, 1.3],\n",
       "        [6.6, 3. , 4.4, 1.4],\n",
       "        [6.8, 2.8, 4.8, 1.4],\n",
       "        [6.7, 3. , 5. , 1.7],\n",
       "        [6. , 2.9, 4.5, 1.5],\n",
       "        [5.7, 2.6, 3.5, 1. ],\n",
       "        [5.5, 2.4, 3.8, 1.1],\n",
       "        [5.5, 2.4, 3.7, 1. ],\n",
       "        [5.8, 2.7, 3.9, 1.2],\n",
       "        [6. , 2.7, 5.1, 1.6],\n",
       "        [5.4, 3. , 4.5, 1.5],\n",
       "        [6. , 3.4, 4.5, 1.6],\n",
       "        [6.7, 3.1, 4.7, 1.5],\n",
       "        [6.3, 2.3, 4.4, 1.3],\n",
       "        [5.6, 3. , 4.1, 1.3],\n",
       "        [5.5, 2.5, 4. , 1.3],\n",
       "        [5.5, 2.6, 4.4, 1.2],\n",
       "        [6.1, 3. , 4.6, 1.4],\n",
       "        [5.8, 2.6, 4. , 1.2],\n",
       "        [5. , 2.3, 3.3, 1. ],\n",
       "        [5.6, 2.7, 4.2, 1.3],\n",
       "        [5.7, 3. , 4.2, 1.2],\n",
       "        [5.7, 2.9, 4.2, 1.3],\n",
       "        [6.2, 2.9, 4.3, 1.3],\n",
       "        [5.1, 2.5, 3. , 1.1],\n",
       "        [5.7, 2.8, 4.1, 1.3],\n",
       "        [6.3, 3.3, 6. , 2.5],\n",
       "        [5.8, 2.7, 5.1, 1.9],\n",
       "        [7.1, 3. , 5.9, 2.1],\n",
       "        [6.3, 2.9, 5.6, 1.8],\n",
       "        [6.5, 3. , 5.8, 2.2],\n",
       "        [7.6, 3. , 6.6, 2.1],\n",
       "        [4.9, 2.5, 4.5, 1.7],\n",
       "        [7.3, 2.9, 6.3, 1.8],\n",
       "        [6.7, 2.5, 5.8, 1.8],\n",
       "        [7.2, 3.6, 6.1, 2.5],\n",
       "        [6.5, 3.2, 5.1, 2. ],\n",
       "        [6.4, 2.7, 5.3, 1.9],\n",
       "        [6.8, 3. , 5.5, 2.1],\n",
       "        [5.7, 2.5, 5. , 2. ],\n",
       "        [5.8, 2.8, 5.1, 2.4],\n",
       "        [6.4, 3.2, 5.3, 2.3],\n",
       "        [6.5, 3. , 5.5, 1.8],\n",
       "        [7.7, 3.8, 6.7, 2.2],\n",
       "        [7.7, 2.6, 6.9, 2.3],\n",
       "        [6. , 2.2, 5. , 1.5],\n",
       "        [6.9, 3.2, 5.7, 2.3],\n",
       "        [5.6, 2.8, 4.9, 2. ],\n",
       "        [7.7, 2.8, 6.7, 2. ],\n",
       "        [6.3, 2.7, 4.9, 1.8],\n",
       "        [6.7, 3.3, 5.7, 2.1],\n",
       "        [7.2, 3.2, 6. , 1.8],\n",
       "        [6.2, 2.8, 4.8, 1.8],\n",
       "        [6.1, 3. , 4.9, 1.8],\n",
       "        [6.4, 2.8, 5.6, 2.1],\n",
       "        [7.2, 3. , 5.8, 1.6],\n",
       "        [7.4, 2.8, 6.1, 1.9],\n",
       "        [7.9, 3.8, 6.4, 2. ],\n",
       "        [6.4, 2.8, 5.6, 2.2],\n",
       "        [6.3, 2.8, 5.1, 1.5],\n",
       "        [6.1, 2.6, 5.6, 1.4],\n",
       "        [7.7, 3. , 6.1, 2.3],\n",
       "        [6.3, 3.4, 5.6, 2.4],\n",
       "        [6.4, 3.1, 5.5, 1.8],\n",
       "        [6. , 3. , 4.8, 1.8],\n",
       "        [6.9, 3.1, 5.4, 2.1],\n",
       "        [6.7, 3.1, 5.6, 2.4],\n",
       "        [6.9, 3.1, 5.1, 2.3],\n",
       "        [5.8, 2.7, 5.1, 1.9],\n",
       "        [6.8, 3.2, 5.9, 2.3],\n",
       "        [6.7, 3.3, 5.7, 2.5],\n",
       "        [6.7, 3. , 5.2, 2.3],\n",
       "        [6.3, 2.5, 5. , 1.9],\n",
       "        [6.5, 3. , 5.2, 2. ],\n",
       "        [6.2, 3.4, 5.4, 2.3],\n",
       "        [5.9, 3. , 5.1, 1.8]]),\n",
       " 'target': array([0, 0, 0, 0, 0, 0, 0, 0, 0, 0, 0, 0, 0, 0, 0, 0, 0, 0, 0, 0, 0, 0,\n",
       "        0, 0, 0, 0, 0, 0, 0, 0, 0, 0, 0, 0, 0, 0, 0, 0, 0, 0, 0, 0, 0, 0,\n",
       "        0, 0, 0, 0, 0, 0, 1, 1, 1, 1, 1, 1, 1, 1, 1, 1, 1, 1, 1, 1, 1, 1,\n",
       "        1, 1, 1, 1, 1, 1, 1, 1, 1, 1, 1, 1, 1, 1, 1, 1, 1, 1, 1, 1, 1, 1,\n",
       "        1, 1, 1, 1, 1, 1, 1, 1, 1, 1, 1, 1, 2, 2, 2, 2, 2, 2, 2, 2, 2, 2,\n",
       "        2, 2, 2, 2, 2, 2, 2, 2, 2, 2, 2, 2, 2, 2, 2, 2, 2, 2, 2, 2, 2, 2,\n",
       "        2, 2, 2, 2, 2, 2, 2, 2, 2, 2, 2, 2, 2, 2, 2, 2, 2, 2]),\n",
       " 'target_names': array(['setosa', 'versicolor', 'virginica'], dtype='<U10'),\n",
       " 'DESCR': '.. _iris_dataset:\\n\\nIris plants dataset\\n--------------------\\n\\n**Data Set Characteristics:**\\n\\n    :Number of Instances: 150 (50 in each of three classes)\\n    :Number of Attributes: 4 numeric, predictive attributes and the class\\n    :Attribute Information:\\n        - sepal length in cm\\n        - sepal width in cm\\n        - petal length in cm\\n        - petal width in cm\\n        - class:\\n                - Iris-Setosa\\n                - Iris-Versicolour\\n                - Iris-Virginica\\n                \\n    :Summary Statistics:\\n\\n    ============== ==== ==== ======= ===== ====================\\n                    Min  Max   Mean    SD   Class Correlation\\n    ============== ==== ==== ======= ===== ====================\\n    sepal length:   4.3  7.9   5.84   0.83    0.7826\\n    sepal width:    2.0  4.4   3.05   0.43   -0.4194\\n    petal length:   1.0  6.9   3.76   1.76    0.9490  (high!)\\n    petal width:    0.1  2.5   1.20   0.76    0.9565  (high!)\\n    ============== ==== ==== ======= ===== ====================\\n\\n    :Missing Attribute Values: None\\n    :Class Distribution: 33.3% for each of 3 classes.\\n    :Creator: R.A. Fisher\\n    :Donor: Michael Marshall (MARSHALL%PLU@io.arc.nasa.gov)\\n    :Date: July, 1988\\n\\nThe famous Iris database, first used by Sir R.A. Fisher. The dataset is taken\\nfrom Fisher\\'s paper. Note that it\\'s the same as in R, but not as in the UCI\\nMachine Learning Repository, which has two wrong data points.\\n\\nThis is perhaps the best known database to be found in the\\npattern recognition literature.  Fisher\\'s paper is a classic in the field and\\nis referenced frequently to this day.  (See Duda & Hart, for example.)  The\\ndata set contains 3 classes of 50 instances each, where each class refers to a\\ntype of iris plant.  One class is linearly separable from the other 2; the\\nlatter are NOT linearly separable from each other.\\n\\n.. topic:: References\\n\\n   - Fisher, R.A. \"The use of multiple measurements in taxonomic problems\"\\n     Annual Eugenics, 7, Part II, 179-188 (1936); also in \"Contributions to\\n     Mathematical Statistics\" (John Wiley, NY, 1950).\\n   - Duda, R.O., & Hart, P.E. (1973) Pattern Classification and Scene Analysis.\\n     (Q327.D83) John Wiley & Sons.  ISBN 0-471-22361-1.  See page 218.\\n   - Dasarathy, B.V. (1980) \"Nosing Around the Neighborhood: A New System\\n     Structure and Classification Rule for Recognition in Partially Exposed\\n     Environments\".  IEEE Transactions on Pattern Analysis and Machine\\n     Intelligence, Vol. PAMI-2, No. 1, 67-71.\\n   - Gates, G.W. (1972) \"The Reduced Nearest Neighbor Rule\".  IEEE Transactions\\n     on Information Theory, May 1972, 431-433.\\n   - See also: 1988 MLC Proceedings, 54-64.  Cheeseman et al\"s AUTOCLASS II\\n     conceptual clustering system finds 3 classes in the data.\\n   - Many, many more ...',\n",
       " 'feature_names': ['sepal length (cm)',\n",
       "  'sepal width (cm)',\n",
       "  'petal length (cm)',\n",
       "  'petal width (cm)'],\n",
       " 'filename': '/Users/mk/repos/inshorts-nlp/venv/lib/python3.6/site-packages/sklearn/datasets/data/iris.csv'}"
      ]
     },
     "execution_count": 3,
     "metadata": {},
     "output_type": "execute_result"
    }
   ],
   "source": [
    "iris_dataset"
   ]
  },
  {
   "cell_type": "code",
   "execution_count": 4,
   "metadata": {},
   "outputs": [
    {
     "data": {
      "text/plain": [
       "(array([[ 8.6,  1.6],\n",
       "        [ 7.9,  1.6],\n",
       "        [ 7.9,  1.5],\n",
       "        [ 7.7,  1.7],\n",
       "        [ 8.6,  1.6],\n",
       "        [ 9.3,  2.1],\n",
       "        [ 8. ,  1.7],\n",
       "        [ 8.4,  1.7],\n",
       "        [ 7.3,  1.6],\n",
       "        [ 8. ,  1.6],\n",
       "        [ 9.1,  1.7],\n",
       "        [ 8.2,  1.8],\n",
       "        [ 7.8,  1.5],\n",
       "        [ 7.3,  1.2],\n",
       "        [ 9.8,  1.4],\n",
       "        [10.1,  1.9],\n",
       "        [ 9.3,  1.7],\n",
       "        [ 8.6,  1.7],\n",
       "        [ 9.5,  2. ],\n",
       "        [ 8.9,  1.8],\n",
       "        [ 8.8,  1.9],\n",
       "        [ 8.8,  1.9],\n",
       "        [ 8.2,  1.2],\n",
       "        [ 8.4,  2.2],\n",
       "        [ 8.2,  2.1],\n",
       "        [ 8. ,  1.8],\n",
       "        [ 8.4,  2. ],\n",
       "        [ 8.7,  1.7],\n",
       "        [ 8.6,  1.6],\n",
       "        [ 7.9,  1.8],\n",
       "        [ 7.9,  1.8],\n",
       "        [ 8.8,  1.9],\n",
       "        [ 9.3,  1.6],\n",
       "        [ 9.7,  1.6],\n",
       "        [ 8. ,  1.7],\n",
       "        [ 8.2,  1.4],\n",
       "        [ 9. ,  1.5],\n",
       "        [ 8.5,  1.5],\n",
       "        [ 7.4,  1.5],\n",
       "        [ 8.5,  1.7],\n",
       "        [ 8.5,  1.6],\n",
       "        [ 6.8,  1.6],\n",
       "        [ 7.6,  1.5],\n",
       "        [ 8.5,  2.2],\n",
       "        [ 8.9,  2.3],\n",
       "        [ 7.8,  1.7],\n",
       "        [ 8.9,  1.8],\n",
       "        [ 7.8,  1.6],\n",
       "        [ 9. ,  1.7],\n",
       "        [ 8.3,  1.6],\n",
       "        [10.2,  6.1],\n",
       "        [ 9.6,  6. ],\n",
       "        [10. ,  6.4],\n",
       "        [ 7.8,  5.3],\n",
       "        [ 9.3,  6.1],\n",
       "        [ 8.5,  5.8],\n",
       "        [ 9.6,  6.3],\n",
       "        [ 7.3,  4.3],\n",
       "        [ 9.5,  5.9],\n",
       "        [ 7.9,  5.3],\n",
       "        [ 7. ,  4.5],\n",
       "        [ 8.9,  5.7],\n",
       "        [ 8.2,  5. ],\n",
       "        [ 9. ,  6.1],\n",
       "        [ 8.5,  4.9],\n",
       "        [ 9.8,  5.8],\n",
       "        [ 8.6,  6. ],\n",
       "        [ 8.5,  5.1],\n",
       "        [ 8.4,  6. ],\n",
       "        [ 8.1,  5. ],\n",
       "        [ 9.1,  6.6],\n",
       "        [ 8.9,  5.3],\n",
       "        [ 8.8,  6.4],\n",
       "        [ 8.9,  5.9],\n",
       "        [ 9.3,  5.6],\n",
       "        [ 9.6,  5.8],\n",
       "        [ 9.6,  6.2],\n",
       "        [ 9.7,  6.7],\n",
       "        [ 8.9,  6. ],\n",
       "        [ 8.3,  4.5],\n",
       "        [ 7.9,  4.9],\n",
       "        [ 7.9,  4.7],\n",
       "        [ 8.5,  5.1],\n",
       "        [ 8.7,  6.7],\n",
       "        [ 8.4,  6. ],\n",
       "        [ 9.4,  6.1],\n",
       "        [ 9.8,  6.2],\n",
       "        [ 8.6,  5.7],\n",
       "        [ 8.6,  5.4],\n",
       "        [ 8. ,  5.3],\n",
       "        [ 8.1,  5.6],\n",
       "        [ 9.1,  6. ],\n",
       "        [ 8.4,  5.2],\n",
       "        [ 7.3,  4.3],\n",
       "        [ 8.3,  5.5],\n",
       "        [ 8.7,  5.4],\n",
       "        [ 8.6,  5.5],\n",
       "        [ 9.1,  5.6],\n",
       "        [ 7.6,  4.1],\n",
       "        [ 8.5,  5.4],\n",
       "        [ 9.6,  8.5],\n",
       "        [ 8.5,  7. ],\n",
       "        [10.1,  8. ],\n",
       "        [ 9.2,  7.4],\n",
       "        [ 9.5,  8. ],\n",
       "        [10.6,  8.7],\n",
       "        [ 7.4,  6.2],\n",
       "        [10.2,  8.1],\n",
       "        [ 9.2,  7.6],\n",
       "        [10.8,  8.6],\n",
       "        [ 9.7,  7.1],\n",
       "        [ 9.1,  7.2],\n",
       "        [ 9.8,  7.6],\n",
       "        [ 8.2,  7. ],\n",
       "        [ 8.6,  7.5],\n",
       "        [ 9.6,  7.6],\n",
       "        [ 9.5,  7.3],\n",
       "        [11.5,  8.9],\n",
       "        [10.3,  9.2],\n",
       "        [ 8.2,  6.5],\n",
       "        [10.1,  8. ],\n",
       "        [ 8.4,  6.9],\n",
       "        [10.5,  8.7],\n",
       "        [ 9. ,  6.7],\n",
       "        [10. ,  7.8],\n",
       "        [10.4,  7.8],\n",
       "        [ 9. ,  6.6],\n",
       "        [ 9.1,  6.7],\n",
       "        [ 9.2,  7.7],\n",
       "        [10.2,  7.4],\n",
       "        [10.2,  8. ],\n",
       "        [11.7,  8.4],\n",
       "        [ 9.2,  7.8],\n",
       "        [ 9.1,  6.6],\n",
       "        [ 8.7,  7. ],\n",
       "        [10.7,  8.4],\n",
       "        [ 9.7,  8. ],\n",
       "        [ 9.5,  7.3],\n",
       "        [ 9. ,  6.6],\n",
       "        [10. ,  7.5],\n",
       "        [ 9.8,  8. ],\n",
       "        [10. ,  7.4],\n",
       "        [ 8.5,  7. ],\n",
       "        [10. ,  8.2],\n",
       "        [10. ,  8.2],\n",
       "        [ 9.7,  7.5],\n",
       "        [ 8.8,  6.9],\n",
       "        [ 9.5,  7.2],\n",
       "        [ 9.6,  7.7],\n",
       "        [ 8.9,  6.9]]),\n",
       " array([0, 0, 0, 0, 0, 0, 0, 0, 0, 0, 0, 0, 0, 0, 0, 0, 0, 0, 0, 0, 0, 0,\n",
       "        0, 0, 0, 0, 0, 0, 0, 0, 0, 0, 0, 0, 0, 0, 0, 0, 0, 0, 0, 0, 0, 0,\n",
       "        0, 0, 0, 0, 0, 0, 1, 1, 1, 1, 1, 1, 1, 1, 1, 1, 1, 1, 1, 1, 1, 1,\n",
       "        1, 1, 1, 1, 1, 1, 1, 1, 1, 1, 1, 1, 1, 1, 1, 1, 1, 1, 1, 1, 1, 1,\n",
       "        1, 1, 1, 1, 1, 1, 1, 1, 1, 1, 1, 1, 2, 2, 2, 2, 2, 2, 2, 2, 2, 2,\n",
       "        2, 2, 2, 2, 2, 2, 2, 2, 2, 2, 2, 2, 2, 2, 2, 2, 2, 2, 2, 2, 2, 2,\n",
       "        2, 2, 2, 2, 2, 2, 2, 2, 2, 2, 2, 2, 2, 2, 2, 2, 2, 2]))"
      ]
     },
     "execution_count": 4,
     "metadata": {},
     "output_type": "execute_result"
    }
   ],
   "source": [
    "X = np.array(list(map(lambda x: [x[0] + x[1], x[2] + x[3]], iris_dataset['data'])))\n",
    "Y = iris_dataset['target']\n",
    "X, Y"
   ]
  },
  {
   "cell_type": "code",
   "execution_count": 5,
   "metadata": {},
   "outputs": [
    {
     "data": {
      "image/png": "[encoded data removed]",
      "text/plain": [
       "<Figure size 432x288 with 1 Axes>"
      ]
     },
     "metadata": {
      "needs_background": "light"
     },
     "output_type": "display_data"
    }
   ],
   "source": [
    "plt.scatter(X[:,0], X[:,1], c=Y, s=40, cmap=plt.cm.Spectral);"
   ]
  },
  {
   "cell_type": "code",
   "execution_count": 6,
   "metadata": {},
   "outputs": [
    {
     "name": "stdout",
     "output_type": "stream",
     "text": [
      "The shape of X is: (150, 2)\n",
      "The shape of Y is: (150,)\n"
     ]
    }
   ],
   "source": [
    "shape_X = X.shape\n",
    "shape_Y = Y.shape\n",
    "\n",
    "\n",
    "print ('The shape of X is: ' + str(shape_X))\n",
    "print ('The shape of Y is: ' + str(shape_Y))"
   ]
  },
  {
   "cell_type": "code",
   "execution_count": 7,
   "metadata": {},
   "outputs": [
    {
     "data": {
      "text/plain": [
       "array([[1., 1., 1., 1., 1., 1., 1., 1., 1., 1., 1., 1., 1., 1., 1., 1.,\n",
       "        1., 1., 1., 1., 1., 1., 1., 1., 1., 1., 1., 1., 1., 1., 1., 1.,\n",
       "        1., 1., 1., 1., 1., 1., 1., 1., 1., 1., 1., 1., 1., 1., 1., 1.,\n",
       "        1., 1., 0., 0., 0., 0., 0., 0., 0., 0., 0., 0., 0., 0., 0., 0.,\n",
       "        0., 0., 0., 0., 0., 0., 0., 0., 0., 0., 0., 0., 0., 0., 0., 0.,\n",
       "        0., 0., 0., 0., 0., 0., 0., 0., 0., 0., 0., 0., 0., 0., 0., 0.,\n",
       "        0., 0., 0., 0., 0., 0., 0., 0., 0., 0., 0., 0., 0., 0., 0., 0.,\n",
       "        0., 0., 0., 0., 0., 0., 0., 0., 0., 0., 0., 0., 0., 0., 0., 0.,\n",
       "        0., 0., 0., 0., 0., 0., 0., 0., 0., 0., 0., 0., 0., 0., 0., 0.,\n",
       "        0., 0., 0., 0., 0., 0.],\n",
       "       [0., 0., 0., 0., 0., 0., 0., 0., 0., 0., 0., 0., 0., 0., 0., 0.,\n",
       "        0., 0., 0., 0., 0., 0., 0., 0., 0., 0., 0., 0., 0., 0., 0., 0.,\n",
       "        0., 0., 0., 0., 0., 0., 0., 0., 0., 0., 0., 0., 0., 0., 0., 0.,\n",
       "        0., 0., 1., 1., 1., 1., 1., 1., 1., 1., 1., 1., 1., 1., 1., 1.,\n",
       "        1., 1., 1., 1., 1., 1., 1., 1., 1., 1., 1., 1., 1., 1., 1., 1.,\n",
       "        1., 1., 1., 1., 1., 1., 1., 1., 1., 1., 1., 1., 1., 1., 1., 1.,\n",
       "        1., 1., 1., 1., 0., 0., 0., 0., 0., 0., 0., 0., 0., 0., 0., 0.,\n",
       "        0., 0., 0., 0., 0., 0., 0., 0., 0., 0., 0., 0., 0., 0., 0., 0.,\n",
       "        0., 0., 0., 0., 0., 0., 0., 0., 0., 0., 0., 0., 0., 0., 0., 0.,\n",
       "        0., 0., 0., 0., 0., 0.],\n",
       "       [0., 0., 0., 0., 0., 0., 0., 0., 0., 0., 0., 0., 0., 0., 0., 0.,\n",
       "        0., 0., 0., 0., 0., 0., 0., 0., 0., 0., 0., 0., 0., 0., 0., 0.,\n",
       "        0., 0., 0., 0., 0., 0., 0., 0., 0., 0., 0., 0., 0., 0., 0., 0.,\n",
       "        0., 0., 0., 0., 0., 0., 0., 0., 0., 0., 0., 0., 0., 0., 0., 0.,\n",
       "        0., 0., 0., 0., 0., 0., 0., 0., 0., 0., 0., 0., 0., 0., 0., 0.,\n",
       "        0., 0., 0., 0., 0., 0., 0., 0., 0., 0., 0., 0., 0., 0., 0., 0.,\n",
       "        0., 0., 0., 0., 1., 1., 1., 1., 1., 1., 1., 1., 1., 1., 1., 1.,\n",
       "        1., 1., 1., 1., 1., 1., 1., 1., 1., 1., 1., 1., 1., 1., 1., 1.,\n",
       "        1., 1., 1., 1., 1., 1., 1., 1., 1., 1., 1., 1., 1., 1., 1., 1.,\n",
       "        1., 1., 1., 1., 1., 1.]])"
      ]
     },
     "execution_count": 7,
     "metadata": {},
     "output_type": "execute_result"
    }
   ],
   "source": [
    "def class_to_vec(v):\n",
    "    V = np.zeros((v.shape[0], len(set(v))))\n",
    "    for (row, label) in zip(V, v):\n",
    "        row[label] = 1.0\n",
    "    return V.T\n",
    "\n",
    "Ym = class_to_vec(Y)\n",
    "Ym"
   ]
  },
  {
   "cell_type": "code",
   "execution_count": null,
   "metadata": {},
   "outputs": [],
   "source": []
  },
  {
   "cell_type": "code",
   "execution_count": 8,
   "metadata": {},
   "outputs": [
    {
     "name": "stderr",
     "output_type": "stream",
     "text": [
      "/Users/mk/repos/inshorts-nlp/venv/lib/python3.6/site-packages/sklearn/linear_model/logistic.py:460: FutureWarning: Default multi_class will be changed to 'auto' in 0.22. Specify the multi_class option to silence this warning.\n",
      "  \"this warning.\", FutureWarning)\n",
      "/Users/mk/repos/inshorts-nlp/venv/lib/python3.6/site-packages/sklearn/model_selection/_split.py:2053: FutureWarning: You should specify a value for 'cv' instead of relying on the default value. The default value will change from 3 to 5 in version 0.22.\n",
      "  warnings.warn(CV_WARNING, FutureWarning)\n"
     ]
    },
    {
     "data": {
      "image/png": "[encoded data removed]",
      "text/plain": [
       "<Figure size 432x288 with 1 Axes>"
      ]
     },
     "metadata": {
      "needs_background": "light"
     },
     "output_type": "display_data"
    }
   ],
   "source": [
    "# Logistic regression try\n",
    "import sklearn.linear_model\n",
    "\n",
    "def plot_decision_boundary(model, X, y):\n",
    "    # Set min and max values and give it some padding\n",
    "    x_min, x_max = X[0, :].min() - 1, X[0, :].max() + 1\n",
    "    y_min, y_max = X[1, :].min() - 1, X[1, :].max() + 1\n",
    "    h = 0.01\n",
    "    # Generate a grid of points with distance h between them\n",
    "    xx, yy = np.meshgrid(np.arange(x_min, x_max, h), np.arange(y_min, y_max, h))\n",
    "    # Predict the function value for the whole grid\n",
    "    Z = model(np.c_[xx.ravel(), yy.ravel()])\n",
    "    Z = Z.reshape(xx.shape)\n",
    "    # Plot the contour and training examples\n",
    "    plt.contourf(xx, yy, Z, cmap=plt.cm.Spectral)\n",
    "    plt.ylabel('x2')\n",
    "    plt.xlabel('x1')\n",
    "    plt.scatter(X[0, :], X[1, :], c=y, cmap=plt.cm.Spectral)\n",
    "\n",
    "clf = sklearn.linear_model.LogisticRegressionCV();\n",
    "clf.fit(X, Y);\n",
    "\n",
    "\n",
    "# Plot the decision boundary for logistic regression\n",
    "plot_decision_boundary(lambda x: clf.predict(x), X.T, Y.T)"
   ]
  },
  {
   "cell_type": "code",
   "execution_count": 9,
   "metadata": {},
   "outputs": [
    {
     "data": {
      "text/plain": [
       "[2, 3, 4, 5, 3]"
      ]
     },
     "execution_count": 9,
     "metadata": {},
     "output_type": "execute_result"
    }
   ],
   "source": [
    "\n",
    "\n",
    "def layers_sizes(Xx, Yy, hidden_layers):\n",
    "    \"\"\"\n",
    "    X -- input dataset\n",
    "    Y -- labels\n",
    "    hidden_layers -- vector of amounts of neurons in each hidden layer, \n",
    "                     i.e. [3,4,6] means 3 hidden layers with 3, 4 and 6 neurons accordingly\n",
    "    \n",
    "    Returns: array of layer sizes i.e. [34, 3, 4, 6, 2] (above example with 34 features and 2 labels dataset)\n",
    "    \"\"\"\n",
    "    \n",
    "    return [Xx.shape[1]] + hidden_layers + [Yy.shape[0]]\n",
    "\n",
    "layers_sizes(X, Ym, [3,4,5])\n",
    "# expected [2,3,4,5,3]"
   ]
  },
  {
   "cell_type": "code",
   "execution_count": 10,
   "metadata": {},
   "outputs": [
    {
     "data": {
      "text/plain": [
       "[array([[ 0.01624345, -0.00611756],\n",
       "        [-0.00528172, -0.01072969],\n",
       "        [ 0.00865408, -0.02301539]]),\n",
       " array([[ 0.01744812, -0.00761207,  0.00319039],\n",
       "        [-0.0024937 ,  0.01462108, -0.02060141],\n",
       "        [-0.00322417, -0.00384054,  0.01133769],\n",
       "        [-0.01099891, -0.00172428, -0.00877858]])]"
      ]
     },
     "execution_count": 10,
     "metadata": {},
     "output_type": "execute_result"
    }
   ],
   "source": [
    "np.random.seed(1)\n",
    "\n",
    "def initialize_layers(layers_sizes):\n",
    "    \"\"\"\n",
    "    layers_sizes -- array of sizes of each layes\n",
    "    \n",
    "    Returns: Array of weights for each layer. \n",
    "             Please note that the first layer takes the raw input - does not contain weights.\n",
    "             Also, biases are excluded in this network.\n",
    "    \"\"\"\n",
    "    result = []\n",
    "    prev_size = layers_sizes[0]\n",
    "    \n",
    "    for size in layers_sizes[1:]:\n",
    "        weights = np.random.randn(size, prev_size) * 0.01\n",
    "        result += [weights]\n",
    "        prev_size = size\n",
    "    \n",
    "    return result\n",
    "\n",
    "initialize_layers([2,3,4])\n",
    "# expected array of two matrices: 3x2 and 4x3 with random numbers"
   ]
  },
  {
   "cell_type": "code",
   "execution_count": 11,
   "metadata": {
    "scrolled": true
   },
   "outputs": [
    {
     "data": {
      "text/plain": [
       "[array([[ 8.6,  7.9,  7.9,  7.7,  8.6,  9.3,  8. ,  8.4,  7.3,  8. ,  9.1,\n",
       "          8.2,  7.8,  7.3,  9.8, 10.1,  9.3,  8.6,  9.5,  8.9,  8.8,  8.8,\n",
       "          8.2,  8.4,  8.2,  8. ,  8.4,  8.7,  8.6,  7.9,  7.9,  8.8,  9.3,\n",
       "          9.7,  8. ,  8.2,  9. ,  8.5,  7.4,  8.5,  8.5,  6.8,  7.6,  8.5,\n",
       "          8.9,  7.8,  8.9,  7.8,  9. ,  8.3, 10.2,  9.6, 10. ,  7.8,  9.3,\n",
       "          8.5,  9.6,  7.3,  9.5,  7.9,  7. ,  8.9,  8.2,  9. ,  8.5,  9.8,\n",
       "          8.6,  8.5,  8.4,  8.1,  9.1,  8.9,  8.8,  8.9,  9.3,  9.6,  9.6,\n",
       "          9.7,  8.9,  8.3,  7.9,  7.9,  8.5,  8.7,  8.4,  9.4,  9.8,  8.6,\n",
       "          8.6,  8. ,  8.1,  9.1,  8.4,  7.3,  8.3,  8.7,  8.6,  9.1,  7.6,\n",
       "          8.5,  9.6,  8.5, 10.1,  9.2,  9.5, 10.6,  7.4, 10.2,  9.2, 10.8,\n",
       "          9.7,  9.1,  9.8,  8.2,  8.6,  9.6,  9.5, 11.5, 10.3,  8.2, 10.1,\n",
       "          8.4, 10.5,  9. , 10. , 10.4,  9. ,  9.1,  9.2, 10.2, 10.2, 11.7,\n",
       "          9.2,  9.1,  8.7, 10.7,  9.7,  9.5,  9. , 10. ,  9.8, 10. ,  8.5,\n",
       "         10. , 10. ,  9.7,  8.8,  9.5,  9.6,  8.9],\n",
       "        [ 1.6,  1.6,  1.5,  1.7,  1.6,  2.1,  1.7,  1.7,  1.6,  1.6,  1.7,\n",
       "          1.8,  1.5,  1.2,  1.4,  1.9,  1.7,  1.7,  2. ,  1.8,  1.9,  1.9,\n",
       "          1.2,  2.2,  2.1,  1.8,  2. ,  1.7,  1.6,  1.8,  1.8,  1.9,  1.6,\n",
       "          1.6,  1.7,  1.4,  1.5,  1.5,  1.5,  1.7,  1.6,  1.6,  1.5,  2.2,\n",
       "          2.3,  1.7,  1.8,  1.6,  1.7,  1.6,  6.1,  6. ,  6.4,  5.3,  6.1,\n",
       "          5.8,  6.3,  4.3,  5.9,  5.3,  4.5,  5.7,  5. ,  6.1,  4.9,  5.8,\n",
       "          6. ,  5.1,  6. ,  5. ,  6.6,  5.3,  6.4,  5.9,  5.6,  5.8,  6.2,\n",
       "          6.7,  6. ,  4.5,  4.9,  4.7,  5.1,  6.7,  6. ,  6.1,  6.2,  5.7,\n",
       "          5.4,  5.3,  5.6,  6. ,  5.2,  4.3,  5.5,  5.4,  5.5,  5.6,  4.1,\n",
       "          5.4,  8.5,  7. ,  8. ,  7.4,  8. ,  8.7,  6.2,  8.1,  7.6,  8.6,\n",
       "          7.1,  7.2,  7.6,  7. ,  7.5,  7.6,  7.3,  8.9,  9.2,  6.5,  8. ,\n",
       "          6.9,  8.7,  6.7,  7.8,  7.8,  6.6,  6.7,  7.7,  7.4,  8. ,  8.4,\n",
       "          7.8,  6.6,  7. ,  8.4,  8. ,  7.3,  6.6,  7.5,  8. ,  7.4,  7. ,\n",
       "          8.2,  8.2,  7.5,  6.9,  7.2,  7.7,  6.9]]),\n",
       " array([[0.50323881, 0.50316494, 0.50301924, 0.50328953, 0.50323881,\n",
       "         0.50404116, 0.50332119, 0.5033634 , 0.50310162, 0.50317549,\n",
       "         0.50343727, 0.50348799, 0.50300869, 0.50251883, 0.50307405,\n",
       "         0.50383419, 0.50345838, 0.50338451, 0.50391657, 0.50356186,\n",
       "         0.50369701, 0.50369701, 0.5026138 , 0.50409188, 0.50392508,\n",
       "         0.50346689, 0.50380049, 0.50339506, 0.50323881, 0.50345633,\n",
       "         0.50345633, 0.50369701, 0.50331268, 0.50335489, 0.50332119,\n",
       "         0.5029052 , 0.50313533, 0.50308256, 0.50296648, 0.50337396,\n",
       "         0.50322826, 0.50304886, 0.50298758, 0.50410243, 0.50429034,\n",
       "         0.50330008, 0.50356186, 0.50315439, 0.50342672, 0.50320715,\n",
       "         0.50996306, 0.50975412, 0.5103789 , 0.50854464, 0.50986812,\n",
       "         0.50934677, 0.51019106, 0.5070352 , 0.50959792, 0.50855519,\n",
       "         0.50729489, 0.50924332, 0.50814985, 0.50983647, 0.50803584,\n",
       "         0.50948392, 0.50964863, 0.50832717, 0.50962753, 0.5081393 ,\n",
       "         0.51057524, 0.50866069, 0.51025231, 0.50953462, 0.50913986,\n",
       "         0.50946282, 0.51004541, 0.51078417, 0.50968027, 0.50743206,\n",
       "         0.50797253, 0.5076812 , 0.50832717, 0.51067868, 0.50962753,\n",
       "         0.50987867, 0.51006651, 0.50921167, 0.5087747 , 0.50856574,\n",
       "         0.50901326, 0.50970137, 0.50846228, 0.5070352 , 0.50888871,\n",
       "         0.50878525, 0.50892036, 0.50911876, 0.5067755 , 0.50876415,\n",
       "         0.51339475, 0.51109449, 0.51271946, 0.51175083, 0.51265618,\n",
       "         0.5137914 , 0.50981333, 0.51287561, 0.51204208, 0.51366689,\n",
       "         0.51136669, 0.51144903, 0.51210536, 0.51106284, 0.51183317,\n",
       "         0.51208427, 0.51163685, 0.51417748, 0.5144877 , 0.51033466,\n",
       "         0.51271946, 0.51093831, 0.51378085, 0.51071033, 0.51241769,\n",
       "         0.51245987, 0.51056469, 0.51072087, 0.51218769, 0.51185631,\n",
       "         0.51273   , 0.51347061, 0.51233331, 0.51057524, 0.51111558,\n",
       "         0.51336515, 0.51267727, 0.51163685, 0.51056469, 0.51198084,\n",
       "         0.51268782, 0.51183521, 0.51109449, 0.51300012, 0.51300012,\n",
       "         0.51194919, 0.5109805 , 0.51149123, 0.51222988, 0.51099105],\n",
       "        [0.48092484, 0.4828484 , 0.48256256, 0.48368395, 0.48092484,\n",
       "         0.48043041, 0.48285941, 0.48176017, 0.48449757, 0.48257357,\n",
       "         0.47983693, 0.4825956 , 0.48283739, 0.48335403, 0.47705748,\n",
       "         0.47766168, 0.47928754, 0.48121062, 0.47959525, 0.48067212,\n",
       "         0.48123264, 0.48123264, 0.4808808 , 0.48318932, 0.48345315,\n",
       "         0.48314526, 0.48261762, 0.48093586, 0.48092484, 0.48342011,\n",
       "         0.48342011, 0.48123264, 0.47900186, 0.47790328, 0.48285941,\n",
       "         0.48145235, 0.47954021, 0.48091383, 0.48393679, 0.48148539,\n",
       "         0.4811996 , 0.48587213, 0.48338707, 0.48291448, 0.48210104,\n",
       "         0.48340909, 0.48067212, 0.48312323, 0.48011164, 0.48174916,\n",
       "         0.48939284, 0.49075705, 0.49080114, 0.49370585, 0.49186836,\n",
       "         0.49321075, 0.49161532, 0.49222011, 0.49074603, 0.49343074,\n",
       "         0.49361765, 0.49182426, 0.4917471 , 0.49269363, 0.4906358 ,\n",
       "         0.48963481, 0.49350791, 0.49120798, 0.49405813, 0.49202219,\n",
       "         0.49384917, 0.49067989, 0.49410223, 0.49239648, 0.4904379 ,\n",
       "         0.49018489, 0.49132923, 0.49248467, 0.4926826 , 0.49004161,\n",
       "         0.49228625, 0.49171403, 0.49120798, 0.4952358 , 0.49405813,\n",
       "         0.49159328, 0.49077909, 0.49264953, 0.4917912 , 0.49315563,\n",
       "         0.49373892, 0.49213242, 0.49176915, 0.49222011, 0.49290258,\n",
       "         0.49151612, 0.4920773 , 0.49098802, 0.49082268, 0.49206628,\n",
       "         0.49791053, 0.49664456, 0.495104  , 0.49586324, 0.49675481,\n",
       "         0.49573144, 0.49738179, 0.49511502, 0.49643557, 0.49489502,\n",
       "         0.49362918, 0.49556606, 0.49478477, 0.49746999, 0.49780027,\n",
       "         0.49533503, 0.4947517 , 0.49382761, 0.49798771, 0.49603915,\n",
       "         0.495104  , 0.49663353, 0.49600657, 0.49441042, 0.49480682,\n",
       "         0.49370635, 0.49412428, 0.4941353 , 0.49672174, 0.49311204,\n",
       "         0.49482887, 0.49184681, 0.49700791, 0.49384917, 0.49609428,\n",
       "         0.49459785, 0.49620453, 0.4947517 , 0.49412428, 0.49394839,\n",
       "         0.49592939, 0.49366225, 0.49664456, 0.49595145, 0.49595145,\n",
       "         0.49477374, 0.49553298, 0.49446555, 0.49562118, 0.49525785],\n",
       "        [0.52138113, 0.51980603, 0.5196806 , 0.51948136, 0.52138113,\n",
       "         0.52358257, 0.52015649, 0.52105654, 0.51845562, 0.52003106,\n",
       "         0.52263132, 0.52073194, 0.51945554, 0.51795379, 0.52382964,\n",
       "         0.52513082, 0.52308117, 0.52150652, 0.52390701, 0.5223068 ,\n",
       "         0.52220722, 0.52220722, 0.51997945, 0.52168352, 0.52110815,\n",
       "         0.5202819 , 0.52143274, 0.5217315 , 0.52138113, 0.52005687,\n",
       "         0.52005687, 0.52220722, 0.52295581, 0.52385543, 0.52015649,\n",
       "         0.52023029, 0.52215563, 0.52103074, 0.51855526, 0.52128154,\n",
       "         0.52115614, 0.51733007, 0.51900542, 0.52190848, 0.52293363,\n",
       "         0.51970641, 0.5223068 , 0.51958098, 0.52240638, 0.52070614,\n",
       "         0.53061526, 0.52914252, 0.53054161, 0.5242201 , 0.52859379,\n",
       "         0.52642034, 0.5295181 , 0.52184194, 0.52879268, 0.52444496,\n",
       "         0.52141778, 0.52719408, 0.52474356, 0.52791976, 0.52529275,\n",
       "         0.52934139, 0.52689563, 0.52554335, 0.52644612, 0.52451871,\n",
       "         0.52877053, 0.52669304, 0.52784606, 0.52744457, 0.52796768,\n",
       "         0.52889212, 0.52939291, 0.53024339, 0.52756982, 0.52434181,\n",
       "         0.52394364, 0.52369297, 0.52554335, 0.52799706, 0.52644612,\n",
       "         0.52881845, 0.52984212, 0.52651983, 0.52614401, 0.52466982,\n",
       "         0.52527058, 0.52801922, 0.52544383, 0.52184194, 0.52559491,\n",
       "         0.52636878, 0.52626929, 0.52751827, 0.52226605, 0.52591922,\n",
       "         0.53227126, 0.52792337, 0.53276802, 0.52999667, 0.53142121,\n",
       "         0.53476522, 0.52444858, 0.53311752, 0.530247  , 0.5350888 ,\n",
       "         0.53074402, 0.52952171, 0.53159421, 0.52724924, 0.52877414,\n",
       "         0.53114519, 0.53054522, 0.53703329, 0.53471738, 0.52662294,\n",
       "         0.53276802, 0.52757343, 0.5345409 , 0.52867108, 0.53229339,\n",
       "         0.53319112, 0.52854587, 0.52889574, 0.53037216, 0.53224191,\n",
       "         0.53299244, 0.53685693, 0.53049732, 0.52877053, 0.52837274,\n",
       "         0.53461448, 0.5318702 , 0.53054522, 0.52854587, 0.53191807,\n",
       "         0.53209467, 0.53179296, 0.52792337, 0.53279376, 0.53279376,\n",
       "         0.53124458, 0.52847219, 0.53042006, 0.53127033, 0.52869685],\n",
       "        [0.51662736, 0.51505244, 0.51522322, 0.51443162, 0.51662736,\n",
       "         0.51734836, 0.51510668, 0.51600666, 0.51370228, 0.51527745,\n",
       "         0.51758138, 0.51538591, 0.51499821, 0.51438547, 0.51966777,\n",
       "         0.51948903, 0.51803123, 0.51645661, 0.51796895, 0.51696076,\n",
       "         0.51656506, 0.51656506, 0.51641047, 0.51515283, 0.51487359,\n",
       "         0.5149359 , 0.51549437, 0.51668158, 0.51662736, 0.51471088,\n",
       "         0.51471088, 0.51656506, 0.51820194, 0.51910154, 0.51510668,\n",
       "         0.51606896, 0.51769788, 0.51657314, 0.51409812, 0.51623164,\n",
       "         0.51640239, 0.51257699, 0.51454818, 0.51537783, 0.51610703,\n",
       "         0.51465665, 0.51696076, 0.51482743, 0.51735644, 0.51595243,\n",
       "         0.51254235, 0.51136267, 0.51157968, 0.50850648, 0.5105165 ,\n",
       "         0.50922809, 0.51085013, 0.50908955, 0.51130841, 0.50873162,\n",
       "         0.50807234, 0.51029947, 0.50991965, 0.50984114, 0.51076586,\n",
       "         0.51215452, 0.50911148, 0.51042415, 0.50866119, 0.50969452,\n",
       "         0.50921192, 0.51098288, 0.50887825, 0.50995774, 0.51137075,\n",
       "         0.51170435, 0.51102098, 0.51039182, 0.50978688, 0.51099905,\n",
       "         0.50941513, 0.50975686, 0.51042415, 0.50814046, 0.50866119,\n",
       "         0.51074161, 0.51147118, 0.50962409, 0.51013669, 0.50895677,\n",
       "         0.50866927, 0.51023712, 0.51002817, 0.50908955, 0.50929043,\n",
       "         0.51036181, 0.50996582, 0.51092055, 0.51010668, 0.50991156,\n",
       "         0.50709085, 0.50717746, 0.50907106, 0.50807002, 0.50772016,\n",
       "         0.50900063, 0.50606776, 0.50912532, 0.50772824, 0.50962177,\n",
       "         0.50970837, 0.50818664, 0.50907914, 0.50650194, 0.50654813,\n",
       "         0.50862886, 0.50891635, 0.51068504, 0.50747074, 0.50735644,\n",
       "         0.50907106, 0.50712319, 0.50877549, 0.5088159 , 0.50918767,\n",
       "         0.51008819, 0.50898678, 0.50904105, 0.50755735, 0.51032139,\n",
       "         0.5092962 , 0.51198945, 0.50738646, 0.50921192, 0.50762779,\n",
       "         0.50973838, 0.50817047, 0.50891635, 0.50898678, 0.50970028,\n",
       "         0.50839562, 0.50987115, 0.50717746, 0.50850416, 0.50850416,\n",
       "         0.50902488, 0.50802384, 0.50908723, 0.50845797, 0.50824899],\n",
       "        [0.49361513, 0.49383015, 0.49406406, 0.49365768, 0.49361513,\n",
       "         0.49223064, 0.49356553, 0.49344266, 0.49401446, 0.49379944,\n",
       "         0.49322764, 0.49327019, 0.49409478, 0.49495012, 0.49371433,\n",
       "         0.49245269, 0.49316621, 0.49338123, 0.49240309, 0.49305518,\n",
       "         0.492852  , 0.492852  , 0.49467364, 0.49227319, 0.49256851,\n",
       "         0.49333163, 0.49274097, 0.49335051, 0.49361513, 0.49336235,\n",
       "         0.49336235, 0.492852  , 0.49340011, 0.49327724, 0.49356553,\n",
       "         0.49420582, 0.49372616, 0.49387975, 0.49421765, 0.49341194,\n",
       "         0.49364585, 0.49416805, 0.49415622, 0.49224247, 0.49188573,\n",
       "         0.49362697, 0.49305518, 0.49386087, 0.49325836, 0.49370728,\n",
       "         0.48260284, 0.48302062, 0.48196326, 0.48520901, 0.48287901,\n",
       "         0.48382557, 0.48231964, 0.48770021, 0.48328499, 0.48517832,\n",
       "         0.48732473, 0.48393651, 0.48578746, 0.48297107, 0.48592912,\n",
       "         0.48342661, 0.4833275 , 0.48546162, 0.48338888, 0.48581816,\n",
       "         0.48177213, 0.48487137, 0.48233146, 0.48346912, 0.48404745,\n",
       "         0.48348798, 0.48255329, 0.48135442, 0.48323544, 0.4869256 ,\n",
       "         0.48611331, 0.48658085, 0.48546162, 0.48166123, 0.48338888,\n",
       "         0.48284833, 0.48249192, 0.48402858, 0.48472972, 0.48514762,\n",
       "         0.48441575, 0.48317406, 0.48525858, 0.48770021, 0.48458808,\n",
       "         0.48469903, 0.484496  , 0.48410883, 0.48807571, 0.48476042,\n",
       "         0.4771814 , 0.48102174, 0.47819547, 0.47987267, 0.47837946,\n",
       "         0.47640796, 0.4832284 , 0.47793132, 0.47940556, 0.47658007,\n",
       "         0.48042002, 0.48037049, 0.47922154, 0.48111377, 0.47982315,\n",
       "         0.47928288, 0.48001422, 0.47566528, 0.47533292, 0.48228192,\n",
       "         0.47819547, 0.48128603, 0.47643861, 0.48156919, 0.47869315,\n",
       "         0.47857049, 0.48180282, 0.48153851, 0.47917202, 0.47956595,\n",
       "         0.47816481, 0.47677104, 0.47893849, 0.48177213, 0.48096038,\n",
       "         0.47707761, 0.47831813, 0.48001422, 0.48180282, 0.47939375,\n",
       "         0.47828746, 0.4796273 , 0.48102174, 0.47775916, 0.47775916,\n",
       "         0.47948576, 0.48116331, 0.48024779, 0.47904935, 0.48113263],\n",
       "        [0.49636189, 0.49683067, 0.49669809, 0.4970972 , 0.49636189,\n",
       "         0.49655602, 0.49689629, 0.49662841, 0.49723249, 0.49676371,\n",
       "         0.49615963, 0.49689493, 0.49676506, 0.49670216, 0.49529313,\n",
       "         0.49575512, 0.4960257 , 0.49649447, 0.4962895 , 0.49642615,\n",
       "         0.4966257 , 0.4966257 , 0.49609944, 0.49729133, 0.49729269,\n",
       "         0.49702887, 0.49702616, 0.49642751, 0.49636189, 0.49709584,\n",
       "         0.49709584, 0.4966257 , 0.49589312, 0.49562525, 0.49689629,\n",
       "         0.4963646 , 0.49596144, 0.49629628, 0.49703294, 0.49656144,\n",
       "         0.49642886, 0.49756734, 0.496899  , 0.49722436, 0.49708907,\n",
       "         0.49703023, 0.49642615, 0.49689764, 0.4962266 , 0.4965628 ,\n",
       "         0.50125677, 0.50152601, 0.50178848, 0.50180338, 0.50185951,\n",
       "         0.50199752, 0.50192378, 0.50081236, 0.5014604 , 0.50173641,\n",
       "         0.50127845, 0.50159705, 0.50113774, 0.50206043, 0.50080423,\n",
       "         0.50112689, 0.50219572, 0.50106941, 0.50232967, 0.50120471,\n",
       "         0.50265639, 0.5010667 , 0.50259213, 0.50186222, 0.50119658,\n",
       "         0.50126084, 0.50179119, 0.50238715, 0.50199481, 0.50040782,\n",
       "         0.50120606, 0.50094089, 0.50106941, 0.50305685, 0.50232967,\n",
       "         0.50179254, 0.50165725, 0.50179796, 0.5014002 , 0.50166944,\n",
       "         0.50200023, 0.50186087, 0.50126897, 0.50081236, 0.5017337 ,\n",
       "         0.50133323, 0.50153279, 0.50133052, 0.50034627, 0.50146717,\n",
       "         0.50484059, 0.50358854, 0.50384286, 0.50365009, 0.50424467,\n",
       "         0.50443608, 0.50326453, 0.50390847, 0.50391525, 0.50416957,\n",
       "         0.50291749, 0.50345189, 0.50351344, 0.50378944, 0.50418447,\n",
       "         0.50364738, 0.5033166 , 0.50409854, 0.50529986, 0.50312653,\n",
       "         0.50384286, 0.50352292, 0.50450305, 0.50285594, 0.50364467,\n",
       "         0.50337679, 0.50272336, 0.50278897, 0.50404783, 0.50298039,\n",
       "         0.50377589, 0.50330169, 0.50418041, 0.50265639, 0.5034546 ,\n",
       "         0.50397138, 0.50411073, 0.5033166 , 0.50272336, 0.50324692,\n",
       "         0.50404376, 0.50311433, 0.50358854, 0.50417499, 0.50417499,\n",
       "         0.50344782, 0.50325505, 0.50318401, 0.50377996, 0.50318808]]),\n",
       " array([[0.4958215 , 0.49582538, 0.49582538, ..., 0.49581642, 0.49581586,\n",
       "         0.49581975],\n",
       "        [0.50065983, 0.50065057, 0.50065079, ..., 0.50065951, 0.50065974,\n",
       "         0.50065223],\n",
       "        [0.50318013, 0.50319328, 0.50319147, ..., 0.5032646 , 0.50327178,\n",
       "         0.50327045],\n",
       "        ...,\n",
       "        [0.50113097, 0.50112738, 0.50112736, ..., 0.50113708, 0.50113772,\n",
       "         0.50113393],\n",
       "        [0.50110456, 0.50109877, 0.50109981, ..., 0.5010537 , 0.50104932,\n",
       "         0.50105187],\n",
       "        [0.49720995, 0.49721361, 0.49721422, ..., 0.4971711 , 0.49716754,\n",
       "         0.49717606]])]"
      ]
     },
     "execution_count": 11,
     "metadata": {},
     "output_type": "execute_result"
    }
   ],
   "source": [
    "def sigmoid(x, derivative=False):\n",
    "    sigm = 1. / (1. + np.exp(-x))\n",
    "    if derivative:\n",
    "        return sigm * (1. - sigm)\n",
    "    return sigm\n",
    "\n",
    "def forward_propagation(Xx, Ww, activation='sigmoid'):\n",
    "    \"\"\"\n",
    "    X -- input dataset\n",
    "    W -- list of matrices with weights\n",
    "    \n",
    "    Returns result of forward propagation (no_of_classes, no_of_examples) and cache with results of given layer\n",
    "    \"\"\"\n",
    "    # input dataset is the output of the first layer\n",
    "    A = Xx.T\n",
    "    cache = [A]\n",
    "    \n",
    "    for w in Ww:\n",
    "        Z = np.dot(w, A)\n",
    "        if activation == 'sigmoid':\n",
    "            A = sigmoid(Z)\n",
    "        else:\n",
    "            A = np.tanh(Z)\n",
    "        cache += [A]\n",
    "        \n",
    "    return A, cache\n",
    "\n",
    "sizes = layers_sizes(X, Y, [6])\n",
    "layers = initialize_layers(sizes)\n",
    "R, cache = forward_propagation(X, layers)\n",
    "cache\n",
    "# expected result: array 3x150 (3 classes, 150 examples)"
   ]
  },
  {
   "cell_type": "code",
   "execution_count": 12,
   "metadata": {},
   "outputs": [
    {
     "data": {
      "text/plain": [
       "(0.2107210313156526, 1.336471783812265, 3.083720788832146)"
      ]
     },
     "execution_count": 12,
     "metadata": {},
     "output_type": "execute_result"
    }
   ],
   "source": [
    "def compute_cost(R, Y):\n",
    "    \"\"\"\n",
    "    Arguments:\n",
    "    R -- results of forward propagation (no_of_classes, no_of_examples)\n",
    "    Y -- labels of exmples\n",
    "    \"\"\"\n",
    "    \n",
    "    m = Y.shape[1] # number of examples\n",
    "    \n",
    "    # Compute the cross-entropy cost\n",
    "    logprobs = np.multiply(np.log(R), Y) + np.multiply((1 - Y), np.log(1 - R))\n",
    "    cost = - np.sum(logprobs) / m    \n",
    "    \n",
    "    cost = np.squeeze(cost)     # makes sure cost is the dimension we expect. \n",
    "                                # E.g., turns [[17]] into 17 \n",
    "    \n",
    "    return cost\n",
    "\n",
    "medium = compute_cost(\n",
    "    np.array([[.1,.2,.3],\n",
    "              [.4,.1,.4]]), \n",
    "    np.array([[0.,1.,0.],\n",
    "              [1.,0.,1.]]))\n",
    "\n",
    "big = compute_cost(\n",
    "    np.array([[.1,.6,.3],\n",
    "              [.8,.1,.6]]), \n",
    "    np.array([[1.,0.,1.],\n",
    "              [0.,1.,0.]]))\n",
    "\n",
    "small = compute_cost(\n",
    "    np.array([[.1,.9,.1],\n",
    "              [.9,.1,.9]]), \n",
    "    np.array([[0.,1.,0.],\n",
    "              [1.,0.,1.]]))\n",
    "\n",
    "small, medium, big"
   ]
  },
  {
   "cell_type": "code",
   "execution_count": 13,
   "metadata": {
    "scrolled": true
   },
   "outputs": [
    {
     "data": {
      "text/plain": [
       "[array([[  0.,   0.],\n",
       "        [-12., -24.]]), array([[2., 4.]])]"
      ]
     },
     "execution_count": 13,
     "metadata": {},
     "output_type": "execute_result"
    }
   ],
   "source": [
    "def backward_propagation(W, cache, X, Y):\n",
    "    \"\"\"    \n",
    "    Arguments:\n",
    "    W -- list of matrices containing layers weights \n",
    "    cache -- list of vectors containing output of every layer\n",
    "    X -- input dataset\n",
    "    Y -- dataset labels\n",
    "    \n",
    "    Returns:\n",
    "    gradients -- list of gradients\n",
    "    \"\"\"\n",
    "    m = X.shape[0]\n",
    "    # dZ - error vector\n",
    "    dZ = list(reversed(cache))[0] - Y\n",
    "    gradients = []\n",
    "    \n",
    "    for (W, A) in zip(list(reversed(W)), list(reversed(cache))[1:]): \n",
    "        dW = (1/m) * np.dot(dZ, A.T)\n",
    "        gradients = [dW] + gradients\n",
    "        dZ = np.multiply(np.dot(W.T, dZ), 1 - np.power(A, 2))\n",
    "\n",
    "    return gradients\n",
    "\n",
    "# example for 2x2x1 neural network\n",
    "backward_propagation(\n",
    "    # 2 matrices with weights - 2x2 and 1x2\n",
    "    [np.array([[1,2],[3,4]]), np.array([[1,2]])],\n",
    "    # three vectors with output (the very first one is input dataset)\n",
    "    [np.array([[1],[2]]), np.array([[1],[2]]), np.array([[3]])],\n",
    "    # X\n",
    "    np.array([[1,2]]),\n",
    "    # Y\n",
    "    np.array([[1]])\n",
    ")\n",
    "# should return two matrices with gradients corresponding to weights matrices sizes"
   ]
  },
  {
   "cell_type": "code",
   "execution_count": 14,
   "metadata": {},
   "outputs": [
    {
     "data": {
      "text/plain": [
       "[array([[1, 1],\n",
       "        [1, 1]]), array([[1]])]"
      ]
     },
     "execution_count": 14,
     "metadata": {},
     "output_type": "execute_result"
    }
   ],
   "source": [
    "def update_weights(W, gradients, learning_rate=1.2):\n",
    "    result_W = []\n",
    "    for (w, dW) in zip(W, gradients):\n",
    "        w = w - learning_rate * dW\n",
    "        result_W += [w]\n",
    "    return result_W\n",
    "\n",
    "update_weights(\n",
    "    [np.array([[1,2],[3,4]]), np.array([[5]])],\n",
    "    [np.array([[0,1],[2,3]]), np.array([[4]])],\n",
    "    1)\n",
    "# expected\n",
    "# [[1,1],[1,1]], [1]"
   ]
  },
  {
   "cell_type": "code",
   "execution_count": 18,
   "metadata": {},
   "outputs": [
    {
     "name": "stdout",
     "output_type": "stream",
     "text": [
      "cost 0 2.0826677316270956\n",
      "cost 500 1.2063147072983411\n",
      "cost 1000 1.0478568481031496\n"
     ]
    },
    {
     "name": "stderr",
     "output_type": "stream",
     "text": [
      "/Users/mk/repos/inshorts-nlp/venv/lib/python3.6/site-packages/ipykernel_launcher.py:2: RuntimeWarning: overflow encountered in exp\n",
      "  \n"
     ]
    },
    {
     "name": "stdout",
     "output_type": "stream",
     "text": [
      "cost 1500 1.0302188689071545\n",
      "cost 2000 0.4825994420305866\n",
      "cost 2500 0.39737311611553805\n",
      "cost 3000 0.34890881287606246\n",
      "cost 3500 0.4098544600362066\n",
      "cost 4000 0.3181489255505439\n",
      "cost 4500 0.37635500447866255\n",
      "cost 4999 0.28816848524855193\n"
     ]
    }
   ],
   "source": [
    "def mlp_network(X, Y, iterations = 1000, hidden_layers=[10], activation='sigmoid'):\n",
    "    \"\"\"\n",
    "    Returns:\n",
    "    W -- weights of optimal neural network\n",
    "    partials -- 10 partial results\n",
    "    \"\"\"\n",
    "    sizes = layers_sizes(X, Y, hidden_layers)\n",
    "    W = initialize_layers(sizes)\n",
    "    partials = []\n",
    "\n",
    "    for i in range(iterations):\n",
    "        A, cache = forward_propagation(X, W)\n",
    "                \n",
    "        if (i+1) % int(iterations/10) == 1:\n",
    "            print('cost', i, compute_cost(A, Y))\n",
    "            partials += [W]\n",
    "        \n",
    "        gradients = backward_propagation(W, cache, X, Y)\n",
    "        \n",
    "        W = update_weights(W, gradients, 0.5)\n",
    "    \n",
    "    print('cost', i, compute_cost(A, Y))\n",
    "    return W, partials\n",
    "\n",
    "optimal_W, partials = mlp_network(X, Ym, 5000, [10,6])"
   ]
  },
  {
   "cell_type": "code",
   "execution_count": 47,
   "metadata": {},
   "outputs": [
    {
     "data": {
      "text/plain": [
       "array([2])"
      ]
     },
     "execution_count": 47,
     "metadata": {},
     "output_type": "execute_result"
    }
   ],
   "source": [
    "def predict(X, W):\n",
    "    results = []\n",
    "    R = forward_propagation(X, W)[0]\n",
    "    for col in R.T:\n",
    "        results += [col.argmax()]\n",
    "    return np.array(results)\n",
    "\n",
    "predict(np.array([[3,4]]), optimal_W)"
   ]
  },
  {
   "cell_type": "code",
   "execution_count": 48,
   "metadata": {},
   "outputs": [
    {
     "name": "stderr",
     "output_type": "stream",
     "text": [
      "/Users/mk/repos/inshorts-nlp/venv/lib/python3.6/site-packages/ipykernel_launcher.py:2: RuntimeWarning: overflow encountered in exp\n",
      "  \n"
     ]
    },
    {
     "data": {
      "image/png": "[encoded data removed]",
      "text/plain": [
       "<Figure size 432x288 with 1 Axes>"
      ]
     },
     "metadata": {
      "needs_background": "light"
     },
     "output_type": "display_data"
    }
   ],
   "source": [
    "plot_decision_boundary(lambda x: predict(x, optimal_W), X.T, Y.T)"
   ]
  },
  {
   "cell_type": "code",
   "execution_count": 49,
   "metadata": {},
   "outputs": [],
   "source": [
    "def normalize(M):\n",
    "    m = M - M.mean(axis=0)\n",
    "    return m / np.abs(m).max(axis=0)"
   ]
  },
  {
   "cell_type": "code",
   "execution_count": 55,
   "metadata": {},
   "outputs": [
    {
     "name": "stdout",
     "output_type": "stream",
     "text": [
      "cost 0 2.0825235534319315\n"
     ]
    },
    {
     "name": "stderr",
     "output_type": "stream",
     "text": [
      "/Users/mk/repos/inshorts-nlp/venv/lib/python3.6/site-packages/ipykernel_launcher.py:2: RuntimeWarning: overflow encountered in exp\n",
      "  \n"
     ]
    },
    {
     "name": "stdout",
     "output_type": "stream",
     "text": [
      "cost 10000 1.001200236660412\n",
      "cost 20000 0.9768707844874389\n",
      "cost 30000 1.0422936470498445\n",
      "cost 40000 1.040196747630062\n",
      "cost 50000 1.0392188247895473\n",
      "cost 60000 0.9789238018548929\n",
      "cost 70000 1.0390432705537158\n",
      "cost 80000 0.9786280579879406\n",
      "cost 90000 0.9676432360565673\n",
      "cost 99999 1.0331800552986938\n"
     ]
    },
    {
     "data": {
      "image/png": "[encoded data removed]",
      "text/plain": [
       "<Figure size 432x288 with 1 Axes>"
      ]
     },
     "metadata": {
      "needs_background": "light"
     },
     "output_type": "display_data"
    }
   ],
   "source": [
    "Xl = normalize(X)\n",
    "Yl = Y\n",
    "\n",
    "nn,_ = mlp_network(Xl, class_to_vec(Yl), 100000, [6,6])\n",
    "plot_decision_boundary(lambda x: predict(x, nn), Xl.T, Yl.T)"
   ]
  },
  {
   "cell_type": "code",
   "execution_count": 56,
   "metadata": {
    "scrolled": false
   },
   "outputs": [
    {
     "data": {
      "image/png": "[encoded data removed]",
      "text/plain": [
       "<Figure size 432x288 with 1 Axes>"
      ]
     },
     "metadata": {
      "needs_background": "light"
     },
     "output_type": "display_data"
    }
   ],
   "source": [
    "def load_extra_datasets():  \n",
    "    N = 200\n",
    "    gaussian_quantiles = sklearn.datasets.make_gaussian_quantiles(mean=None, cov=0.7, n_samples=N, n_features=2, n_classes=2,  shuffle=True, random_state=None)\n",
    "    return gaussian_quantiles\n",
    "\n",
    "Xg, Yg = load_extra_datasets()\n",
    "plt.scatter(Xg.T[0, :], Xg.T[1, :], c=Yg, s=40, cmap=plt.cm.Spectral);\n"
   ]
  },
  {
   "cell_type": "code",
   "execution_count": null,
   "metadata": {},
   "outputs": [],
   "source": [
    "Xl = Xg\n",
    "Yl = Yg\n",
    "\n",
    "nn,_ = mlp_network(Xl, class_to_vec(Yl), 1000000, [6])\n",
    "plot_decision_boundary(lambda x: predict(x, nn), Xl.T, Yl.T)"
   ]
  },
  {
   "cell_type": "code",
   "execution_count": null,
   "metadata": {},
   "outputs": [],
   "source": []
  },
  {
   "cell_type": "code",
   "execution_count": null,
   "metadata": {},
   "outputs": [],
   "source": []
  }
 ],
 "metadata": {
  "kernelspec": {
   "display_name": "Python 3",
   "language": "python",
   "name": "python3"
  },
  "language_info": {
   "codemirror_mode": {
    "name": "ipython",
    "version": 3
   },
   "file_extension": ".py",
   "mimetype": "text/x-python",
   "name": "python",
   "nbconvert_exporter": "python",
   "pygments_lexer": "ipython3",
   "version": "3.6.5"
  }
 },
 "nbformat": 4,
 "nbformat_minor": 1
}
