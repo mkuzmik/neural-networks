{
 "cells": [
  {
   "cell_type": "code",
   "execution_count": 2,
   "metadata": {},
   "outputs": [],
   "source": [
    "import numpy as np\n",
    "import matplotlib.pyplot as plt\n",
    "import sklearn\n",
    "import sklearn.datasets\n",
    "\n",
    "%matplotlib inline\n"
   ]
  },
  {
   "cell_type": "code",
   "execution_count": 3,
   "metadata": {},
   "outputs": [],
   "source": [
    "iris_dataset = sklearn.datasets.load_iris()"
   ]
  },
  {
   "cell_type": "code",
   "execution_count": 4,
   "metadata": {},
   "outputs": [
    {
     "data": {
      "text/plain": [
       "{'data': array([[5.1, 3.5, 1.4, 0.2],\n",
       "        [4.9, 3. , 1.4, 0.2],\n",
       "        [4.7, 3.2, 1.3, 0.2],\n",
       "        [4.6, 3.1, 1.5, 0.2],\n",
       "        [5. , 3.6, 1.4, 0.2],\n",
       "        [5.4, 3.9, 1.7, 0.4],\n",
       "        [4.6, 3.4, 1.4, 0.3],\n",
       "        [5. , 3.4, 1.5, 0.2],\n",
       "        [4.4, 2.9, 1.4, 0.2],\n",
       "        [4.9, 3.1, 1.5, 0.1],\n",
       "        [5.4, 3.7, 1.5, 0.2],\n",
       "        [4.8, 3.4, 1.6, 0.2],\n",
       "        [4.8, 3. , 1.4, 0.1],\n",
       "        [4.3, 3. , 1.1, 0.1],\n",
       "        [5.8, 4. , 1.2, 0.2],\n",
       "        [5.7, 4.4, 1.5, 0.4],\n",
       "        [5.4, 3.9, 1.3, 0.4],\n",
       "        [5.1, 3.5, 1.4, 0.3],\n",
       "        [5.7, 3.8, 1.7, 0.3],\n",
       "        [5.1, 3.8, 1.5, 0.3],\n",
       "        [5.4, 3.4, 1.7, 0.2],\n",
       "        [5.1, 3.7, 1.5, 0.4],\n",
       "        [4.6, 3.6, 1. , 0.2],\n",
       "        [5.1, 3.3, 1.7, 0.5],\n",
       "        [4.8, 3.4, 1.9, 0.2],\n",
       "        [5. , 3. , 1.6, 0.2],\n",
       "        [5. , 3.4, 1.6, 0.4],\n",
       "        [5.2, 3.5, 1.5, 0.2],\n",
       "        [5.2, 3.4, 1.4, 0.2],\n",
       "        [4.7, 3.2, 1.6, 0.2],\n",
       "        [4.8, 3.1, 1.6, 0.2],\n",
       "        [5.4, 3.4, 1.5, 0.4],\n",
       "        [5.2, 4.1, 1.5, 0.1],\n",
       "        [5.5, 4.2, 1.4, 0.2],\n",
       "        [4.9, 3.1, 1.5, 0.2],\n",
       "        [5. , 3.2, 1.2, 0.2],\n",
       "        [5.5, 3.5, 1.3, 0.2],\n",
       "        [4.9, 3.6, 1.4, 0.1],\n",
       "        [4.4, 3. , 1.3, 0.2],\n",
       "        [5.1, 3.4, 1.5, 0.2],\n",
       "        [5. , 3.5, 1.3, 0.3],\n",
       "        [4.5, 2.3, 1.3, 0.3],\n",
       "        [4.4, 3.2, 1.3, 0.2],\n",
       "        [5. , 3.5, 1.6, 0.6],\n",
       "        [5.1, 3.8, 1.9, 0.4],\n",
       "        [4.8, 3. , 1.4, 0.3],\n",
       "        [5.1, 3.8, 1.6, 0.2],\n",
       "        [4.6, 3.2, 1.4, 0.2],\n",
       "        [5.3, 3.7, 1.5, 0.2],\n",
       "        [5. , 3.3, 1.4, 0.2],\n",
       "        [7. , 3.2, 4.7, 1.4],\n",
       "        [6.4, 3.2, 4.5, 1.5],\n",
       "        [6.9, 3.1, 4.9, 1.5],\n",
       "        [5.5, 2.3, 4. , 1.3],\n",
       "        [6.5, 2.8, 4.6, 1.5],\n",
       "        [5.7, 2.8, 4.5, 1.3],\n",
       "        [6.3, 3.3, 4.7, 1.6],\n",
       "        [4.9, 2.4, 3.3, 1. ],\n",
       "        [6.6, 2.9, 4.6, 1.3],\n",
       "        [5.2, 2.7, 3.9, 1.4],\n",
       "        [5. , 2. , 3.5, 1. ],\n",
       "        [5.9, 3. , 4.2, 1.5],\n",
       "        [6. , 2.2, 4. , 1. ],\n",
       "        [6.1, 2.9, 4.7, 1.4],\n",
       "        [5.6, 2.9, 3.6, 1.3],\n",
       "        [6.7, 3.1, 4.4, 1.4],\n",
       "        [5.6, 3. , 4.5, 1.5],\n",
       "        [5.8, 2.7, 4.1, 1. ],\n",
       "        [6.2, 2.2, 4.5, 1.5],\n",
       "        [5.6, 2.5, 3.9, 1.1],\n",
       "        [5.9, 3.2, 4.8, 1.8],\n",
       "        [6.1, 2.8, 4. , 1.3],\n",
       "        [6.3, 2.5, 4.9, 1.5],\n",
       "        [6.1, 2.8, 4.7, 1.2],\n",
       "        [6.4, 2.9, 4.3, 1.3],\n",
       "        [6.6, 3. , 4.4, 1.4],\n",
       "        [6.8, 2.8, 4.8, 1.4],\n",
       "        [6.7, 3. , 5. , 1.7],\n",
       "        [6. , 2.9, 4.5, 1.5],\n",
       "        [5.7, 2.6, 3.5, 1. ],\n",
       "        [5.5, 2.4, 3.8, 1.1],\n",
       "        [5.5, 2.4, 3.7, 1. ],\n",
       "        [5.8, 2.7, 3.9, 1.2],\n",
       "        [6. , 2.7, 5.1, 1.6],\n",
       "        [5.4, 3. , 4.5, 1.5],\n",
       "        [6. , 3.4, 4.5, 1.6],\n",
       "        [6.7, 3.1, 4.7, 1.5],\n",
       "        [6.3, 2.3, 4.4, 1.3],\n",
       "        [5.6, 3. , 4.1, 1.3],\n",
       "        [5.5, 2.5, 4. , 1.3],\n",
       "        [5.5, 2.6, 4.4, 1.2],\n",
       "        [6.1, 3. , 4.6, 1.4],\n",
       "        [5.8, 2.6, 4. , 1.2],\n",
       "        [5. , 2.3, 3.3, 1. ],\n",
       "        [5.6, 2.7, 4.2, 1.3],\n",
       "        [5.7, 3. , 4.2, 1.2],\n",
       "        [5.7, 2.9, 4.2, 1.3],\n",
       "        [6.2, 2.9, 4.3, 1.3],\n",
       "        [5.1, 2.5, 3. , 1.1],\n",
       "        [5.7, 2.8, 4.1, 1.3],\n",
       "        [6.3, 3.3, 6. , 2.5],\n",
       "        [5.8, 2.7, 5.1, 1.9],\n",
       "        [7.1, 3. , 5.9, 2.1],\n",
       "        [6.3, 2.9, 5.6, 1.8],\n",
       "        [6.5, 3. , 5.8, 2.2],\n",
       "        [7.6, 3. , 6.6, 2.1],\n",
       "        [4.9, 2.5, 4.5, 1.7],\n",
       "        [7.3, 2.9, 6.3, 1.8],\n",
       "        [6.7, 2.5, 5.8, 1.8],\n",
       "        [7.2, 3.6, 6.1, 2.5],\n",
       "        [6.5, 3.2, 5.1, 2. ],\n",
       "        [6.4, 2.7, 5.3, 1.9],\n",
       "        [6.8, 3. , 5.5, 2.1],\n",
       "        [5.7, 2.5, 5. , 2. ],\n",
       "        [5.8, 2.8, 5.1, 2.4],\n",
       "        [6.4, 3.2, 5.3, 2.3],\n",
       "        [6.5, 3. , 5.5, 1.8],\n",
       "        [7.7, 3.8, 6.7, 2.2],\n",
       "        [7.7, 2.6, 6.9, 2.3],\n",
       "        [6. , 2.2, 5. , 1.5],\n",
       "        [6.9, 3.2, 5.7, 2.3],\n",
       "        [5.6, 2.8, 4.9, 2. ],\n",
       "        [7.7, 2.8, 6.7, 2. ],\n",
       "        [6.3, 2.7, 4.9, 1.8],\n",
       "        [6.7, 3.3, 5.7, 2.1],\n",
       "        [7.2, 3.2, 6. , 1.8],\n",
       "        [6.2, 2.8, 4.8, 1.8],\n",
       "        [6.1, 3. , 4.9, 1.8],\n",
       "        [6.4, 2.8, 5.6, 2.1],\n",
       "        [7.2, 3. , 5.8, 1.6],\n",
       "        [7.4, 2.8, 6.1, 1.9],\n",
       "        [7.9, 3.8, 6.4, 2. ],\n",
       "        [6.4, 2.8, 5.6, 2.2],\n",
       "        [6.3, 2.8, 5.1, 1.5],\n",
       "        [6.1, 2.6, 5.6, 1.4],\n",
       "        [7.7, 3. , 6.1, 2.3],\n",
       "        [6.3, 3.4, 5.6, 2.4],\n",
       "        [6.4, 3.1, 5.5, 1.8],\n",
       "        [6. , 3. , 4.8, 1.8],\n",
       "        [6.9, 3.1, 5.4, 2.1],\n",
       "        [6.7, 3.1, 5.6, 2.4],\n",
       "        [6.9, 3.1, 5.1, 2.3],\n",
       "        [5.8, 2.7, 5.1, 1.9],\n",
       "        [6.8, 3.2, 5.9, 2.3],\n",
       "        [6.7, 3.3, 5.7, 2.5],\n",
       "        [6.7, 3. , 5.2, 2.3],\n",
       "        [6.3, 2.5, 5. , 1.9],\n",
       "        [6.5, 3. , 5.2, 2. ],\n",
       "        [6.2, 3.4, 5.4, 2.3],\n",
       "        [5.9, 3. , 5.1, 1.8]]),\n",
       " 'target': array([0, 0, 0, 0, 0, 0, 0, 0, 0, 0, 0, 0, 0, 0, 0, 0, 0, 0, 0, 0, 0, 0,\n",
       "        0, 0, 0, 0, 0, 0, 0, 0, 0, 0, 0, 0, 0, 0, 0, 0, 0, 0, 0, 0, 0, 0,\n",
       "        0, 0, 0, 0, 0, 0, 1, 1, 1, 1, 1, 1, 1, 1, 1, 1, 1, 1, 1, 1, 1, 1,\n",
       "        1, 1, 1, 1, 1, 1, 1, 1, 1, 1, 1, 1, 1, 1, 1, 1, 1, 1, 1, 1, 1, 1,\n",
       "        1, 1, 1, 1, 1, 1, 1, 1, 1, 1, 1, 1, 2, 2, 2, 2, 2, 2, 2, 2, 2, 2,\n",
       "        2, 2, 2, 2, 2, 2, 2, 2, 2, 2, 2, 2, 2, 2, 2, 2, 2, 2, 2, 2, 2, 2,\n",
       "        2, 2, 2, 2, 2, 2, 2, 2, 2, 2, 2, 2, 2, 2, 2, 2, 2, 2]),\n",
       " 'target_names': array(['setosa', 'versicolor', 'virginica'], dtype='<U10'),\n",
       " 'DESCR': '.. _iris_dataset:\\n\\nIris plants dataset\\n--------------------\\n\\n**Data Set Characteristics:**\\n\\n    :Number of Instances: 150 (50 in each of three classes)\\n    :Number of Attributes: 4 numeric, predictive attributes and the class\\n    :Attribute Information:\\n        - sepal length in cm\\n        - sepal width in cm\\n        - petal length in cm\\n        - petal width in cm\\n        - class:\\n                - Iris-Setosa\\n                - Iris-Versicolour\\n                - Iris-Virginica\\n                \\n    :Summary Statistics:\\n\\n    ============== ==== ==== ======= ===== ====================\\n                    Min  Max   Mean    SD   Class Correlation\\n    ============== ==== ==== ======= ===== ====================\\n    sepal length:   4.3  7.9   5.84   0.83    0.7826\\n    sepal width:    2.0  4.4   3.05   0.43   -0.4194\\n    petal length:   1.0  6.9   3.76   1.76    0.9490  (high!)\\n    petal width:    0.1  2.5   1.20   0.76    0.9565  (high!)\\n    ============== ==== ==== ======= ===== ====================\\n\\n    :Missing Attribute Values: None\\n    :Class Distribution: 33.3% for each of 3 classes.\\n    :Creator: R.A. Fisher\\n    :Donor: Michael Marshall (MARSHALL%PLU@io.arc.nasa.gov)\\n    :Date: July, 1988\\n\\nThe famous Iris database, first used by Sir R.A. Fisher. The dataset is taken\\nfrom Fisher\\'s paper. Note that it\\'s the same as in R, but not as in the UCI\\nMachine Learning Repository, which has two wrong data points.\\n\\nThis is perhaps the best known database to be found in the\\npattern recognition literature.  Fisher\\'s paper is a classic in the field and\\nis referenced frequently to this day.  (See Duda & Hart, for example.)  The\\ndata set contains 3 classes of 50 instances each, where each class refers to a\\ntype of iris plant.  One class is linearly separable from the other 2; the\\nlatter are NOT linearly separable from each other.\\n\\n.. topic:: References\\n\\n   - Fisher, R.A. \"The use of multiple measurements in taxonomic problems\"\\n     Annual Eugenics, 7, Part II, 179-188 (1936); also in \"Contributions to\\n     Mathematical Statistics\" (John Wiley, NY, 1950).\\n   - Duda, R.O., & Hart, P.E. (1973) Pattern Classification and Scene Analysis.\\n     (Q327.D83) John Wiley & Sons.  ISBN 0-471-22361-1.  See page 218.\\n   - Dasarathy, B.V. (1980) \"Nosing Around the Neighborhood: A New System\\n     Structure and Classification Rule for Recognition in Partially Exposed\\n     Environments\".  IEEE Transactions on Pattern Analysis and Machine\\n     Intelligence, Vol. PAMI-2, No. 1, 67-71.\\n   - Gates, G.W. (1972) \"The Reduced Nearest Neighbor Rule\".  IEEE Transactions\\n     on Information Theory, May 1972, 431-433.\\n   - See also: 1988 MLC Proceedings, 54-64.  Cheeseman et al\"s AUTOCLASS II\\n     conceptual clustering system finds 3 classes in the data.\\n   - Many, many more ...',\n",
       " 'feature_names': ['sepal length (cm)',\n",
       "  'sepal width (cm)',\n",
       "  'petal length (cm)',\n",
       "  'petal width (cm)'],\n",
       " 'filename': '/Users/mk/repos/inshorts-nlp/venv/lib/python3.6/site-packages/sklearn/datasets/data/iris.csv'}"
      ]
     },
     "execution_count": 4,
     "metadata": {},
     "output_type": "execute_result"
    }
   ],
   "source": [
    "iris_dataset"
   ]
  },
  {
   "cell_type": "code",
   "execution_count": 5,
   "metadata": {},
   "outputs": [
    {
     "data": {
      "text/plain": [
       "(array([[ 8.6,  1.6],\n",
       "        [ 7.9,  1.6],\n",
       "        [ 7.9,  1.5],\n",
       "        [ 7.7,  1.7],\n",
       "        [ 8.6,  1.6],\n",
       "        [ 9.3,  2.1],\n",
       "        [ 8. ,  1.7],\n",
       "        [ 8.4,  1.7],\n",
       "        [ 7.3,  1.6],\n",
       "        [ 8. ,  1.6],\n",
       "        [ 9.1,  1.7],\n",
       "        [ 8.2,  1.8],\n",
       "        [ 7.8,  1.5],\n",
       "        [ 7.3,  1.2],\n",
       "        [ 9.8,  1.4],\n",
       "        [10.1,  1.9],\n",
       "        [ 9.3,  1.7],\n",
       "        [ 8.6,  1.7],\n",
       "        [ 9.5,  2. ],\n",
       "        [ 8.9,  1.8],\n",
       "        [ 8.8,  1.9],\n",
       "        [ 8.8,  1.9],\n",
       "        [ 8.2,  1.2],\n",
       "        [ 8.4,  2.2],\n",
       "        [ 8.2,  2.1],\n",
       "        [ 8. ,  1.8],\n",
       "        [ 8.4,  2. ],\n",
       "        [ 8.7,  1.7],\n",
       "        [ 8.6,  1.6],\n",
       "        [ 7.9,  1.8],\n",
       "        [ 7.9,  1.8],\n",
       "        [ 8.8,  1.9],\n",
       "        [ 9.3,  1.6],\n",
       "        [ 9.7,  1.6],\n",
       "        [ 8. ,  1.7],\n",
       "        [ 8.2,  1.4],\n",
       "        [ 9. ,  1.5],\n",
       "        [ 8.5,  1.5],\n",
       "        [ 7.4,  1.5],\n",
       "        [ 8.5,  1.7],\n",
       "        [ 8.5,  1.6],\n",
       "        [ 6.8,  1.6],\n",
       "        [ 7.6,  1.5],\n",
       "        [ 8.5,  2.2],\n",
       "        [ 8.9,  2.3],\n",
       "        [ 7.8,  1.7],\n",
       "        [ 8.9,  1.8],\n",
       "        [ 7.8,  1.6],\n",
       "        [ 9. ,  1.7],\n",
       "        [ 8.3,  1.6],\n",
       "        [10.2,  6.1],\n",
       "        [ 9.6,  6. ],\n",
       "        [10. ,  6.4],\n",
       "        [ 7.8,  5.3],\n",
       "        [ 9.3,  6.1],\n",
       "        [ 8.5,  5.8],\n",
       "        [ 9.6,  6.3],\n",
       "        [ 7.3,  4.3],\n",
       "        [ 9.5,  5.9],\n",
       "        [ 7.9,  5.3],\n",
       "        [ 7. ,  4.5],\n",
       "        [ 8.9,  5.7],\n",
       "        [ 8.2,  5. ],\n",
       "        [ 9. ,  6.1],\n",
       "        [ 8.5,  4.9],\n",
       "        [ 9.8,  5.8],\n",
       "        [ 8.6,  6. ],\n",
       "        [ 8.5,  5.1],\n",
       "        [ 8.4,  6. ],\n",
       "        [ 8.1,  5. ],\n",
       "        [ 9.1,  6.6],\n",
       "        [ 8.9,  5.3],\n",
       "        [ 8.8,  6.4],\n",
       "        [ 8.9,  5.9],\n",
       "        [ 9.3,  5.6],\n",
       "        [ 9.6,  5.8],\n",
       "        [ 9.6,  6.2],\n",
       "        [ 9.7,  6.7],\n",
       "        [ 8.9,  6. ],\n",
       "        [ 8.3,  4.5],\n",
       "        [ 7.9,  4.9],\n",
       "        [ 7.9,  4.7],\n",
       "        [ 8.5,  5.1],\n",
       "        [ 8.7,  6.7],\n",
       "        [ 8.4,  6. ],\n",
       "        [ 9.4,  6.1],\n",
       "        [ 9.8,  6.2],\n",
       "        [ 8.6,  5.7],\n",
       "        [ 8.6,  5.4],\n",
       "        [ 8. ,  5.3],\n",
       "        [ 8.1,  5.6],\n",
       "        [ 9.1,  6. ],\n",
       "        [ 8.4,  5.2],\n",
       "        [ 7.3,  4.3],\n",
       "        [ 8.3,  5.5],\n",
       "        [ 8.7,  5.4],\n",
       "        [ 8.6,  5.5],\n",
       "        [ 9.1,  5.6],\n",
       "        [ 7.6,  4.1],\n",
       "        [ 8.5,  5.4],\n",
       "        [ 9.6,  8.5],\n",
       "        [ 8.5,  7. ],\n",
       "        [10.1,  8. ],\n",
       "        [ 9.2,  7.4],\n",
       "        [ 9.5,  8. ],\n",
       "        [10.6,  8.7],\n",
       "        [ 7.4,  6.2],\n",
       "        [10.2,  8.1],\n",
       "        [ 9.2,  7.6],\n",
       "        [10.8,  8.6],\n",
       "        [ 9.7,  7.1],\n",
       "        [ 9.1,  7.2],\n",
       "        [ 9.8,  7.6],\n",
       "        [ 8.2,  7. ],\n",
       "        [ 8.6,  7.5],\n",
       "        [ 9.6,  7.6],\n",
       "        [ 9.5,  7.3],\n",
       "        [11.5,  8.9],\n",
       "        [10.3,  9.2],\n",
       "        [ 8.2,  6.5],\n",
       "        [10.1,  8. ],\n",
       "        [ 8.4,  6.9],\n",
       "        [10.5,  8.7],\n",
       "        [ 9. ,  6.7],\n",
       "        [10. ,  7.8],\n",
       "        [10.4,  7.8],\n",
       "        [ 9. ,  6.6],\n",
       "        [ 9.1,  6.7],\n",
       "        [ 9.2,  7.7],\n",
       "        [10.2,  7.4],\n",
       "        [10.2,  8. ],\n",
       "        [11.7,  8.4],\n",
       "        [ 9.2,  7.8],\n",
       "        [ 9.1,  6.6],\n",
       "        [ 8.7,  7. ],\n",
       "        [10.7,  8.4],\n",
       "        [ 9.7,  8. ],\n",
       "        [ 9.5,  7.3],\n",
       "        [ 9. ,  6.6],\n",
       "        [10. ,  7.5],\n",
       "        [ 9.8,  8. ],\n",
       "        [10. ,  7.4],\n",
       "        [ 8.5,  7. ],\n",
       "        [10. ,  8.2],\n",
       "        [10. ,  8.2],\n",
       "        [ 9.7,  7.5],\n",
       "        [ 8.8,  6.9],\n",
       "        [ 9.5,  7.2],\n",
       "        [ 9.6,  7.7],\n",
       "        [ 8.9,  6.9]]),\n",
       " array([0, 0, 0, 0, 0, 0, 0, 0, 0, 0, 0, 0, 0, 0, 0, 0, 0, 0, 0, 0, 0, 0,\n",
       "        0, 0, 0, 0, 0, 0, 0, 0, 0, 0, 0, 0, 0, 0, 0, 0, 0, 0, 0, 0, 0, 0,\n",
       "        0, 0, 0, 0, 0, 0, 1, 1, 1, 1, 1, 1, 1, 1, 1, 1, 1, 1, 1, 1, 1, 1,\n",
       "        1, 1, 1, 1, 1, 1, 1, 1, 1, 1, 1, 1, 1, 1, 1, 1, 1, 1, 1, 1, 1, 1,\n",
       "        1, 1, 1, 1, 1, 1, 1, 1, 1, 1, 1, 1, 2, 2, 2, 2, 2, 2, 2, 2, 2, 2,\n",
       "        2, 2, 2, 2, 2, 2, 2, 2, 2, 2, 2, 2, 2, 2, 2, 2, 2, 2, 2, 2, 2, 2,\n",
       "        2, 2, 2, 2, 2, 2, 2, 2, 2, 2, 2, 2, 2, 2, 2, 2, 2, 2]))"
      ]
     },
     "execution_count": 5,
     "metadata": {},
     "output_type": "execute_result"
    }
   ],
   "source": [
    "X = np.array(list(map(lambda x: [x[0] + x[1], x[2] + x[3]], iris_dataset['data'])))\n",
    "Y = iris_dataset['target']\n",
    "X, Y"
   ]
  },
  {
   "cell_type": "code",
   "execution_count": 6,
   "metadata": {},
   "outputs": [
    {
     "data": {
      "image/png": "[encoded data removed]",
      "text/plain": [
       "<Figure size 432x288 with 1 Axes>"
      ]
     },
     "metadata": {
      "needs_background": "light"
     },
     "output_type": "display_data"
    }
   ],
   "source": [
    "plt.scatter(X[:,0], X[:,1], c=Y, s=40, cmap=plt.cm.Spectral);"
   ]
  },
  {
   "cell_type": "code",
   "execution_count": 7,
   "metadata": {},
   "outputs": [
    {
     "name": "stdout",
     "output_type": "stream",
     "text": [
      "The shape of X is: (150, 2)\n",
      "The shape of Y is: (150,)\n"
     ]
    }
   ],
   "source": [
    "shape_X = X.shape\n",
    "shape_Y = Y.shape\n",
    "\n",
    "\n",
    "print ('The shape of X is: ' + str(shape_X))\n",
    "print ('The shape of Y is: ' + str(shape_Y))"
   ]
  },
  {
   "cell_type": "code",
   "execution_count": 44,
   "metadata": {
    "collapsed": true
   },
   "outputs": [
    {
     "data": {
      "text/plain": [
       "array([[1., 1., 1., 1., 1., 1., 1., 1., 1., 1., 1., 1., 1., 1., 1., 1.,\n",
       "        1., 1., 1., 1., 1., 1., 1., 1., 1., 1., 1., 1., 1., 1., 1., 1.,\n",
       "        1., 1., 1., 1., 1., 1., 1., 1., 1., 1., 1., 1., 1., 1., 1., 1.,\n",
       "        1., 1., 0., 0., 0., 0., 0., 0., 0., 0., 0., 0., 0., 0., 0., 0.,\n",
       "        0., 0., 0., 0., 0., 0., 0., 0., 0., 0., 0., 0., 0., 0., 0., 0.,\n",
       "        0., 0., 0., 0., 0., 0., 0., 0., 0., 0., 0., 0., 0., 0., 0., 0.,\n",
       "        0., 0., 0., 0., 0., 0., 0., 0., 0., 0., 0., 0., 0., 0., 0., 0.,\n",
       "        0., 0., 0., 0., 0., 0., 0., 0., 0., 0., 0., 0., 0., 0., 0., 0.,\n",
       "        0., 0., 0., 0., 0., 0., 0., 0., 0., 0., 0., 0., 0., 0., 0., 0.,\n",
       "        0., 0., 0., 0., 0., 0.],\n",
       "       [0., 0., 0., 0., 0., 0., 0., 0., 0., 0., 0., 0., 0., 0., 0., 0.,\n",
       "        0., 0., 0., 0., 0., 0., 0., 0., 0., 0., 0., 0., 0., 0., 0., 0.,\n",
       "        0., 0., 0., 0., 0., 0., 0., 0., 0., 0., 0., 0., 0., 0., 0., 0.,\n",
       "        0., 0., 1., 1., 1., 1., 1., 1., 1., 1., 1., 1., 1., 1., 1., 1.,\n",
       "        1., 1., 1., 1., 1., 1., 1., 1., 1., 1., 1., 1., 1., 1., 1., 1.,\n",
       "        1., 1., 1., 1., 1., 1., 1., 1., 1., 1., 1., 1., 1., 1., 1., 1.,\n",
       "        1., 1., 1., 1., 0., 0., 0., 0., 0., 0., 0., 0., 0., 0., 0., 0.,\n",
       "        0., 0., 0., 0., 0., 0., 0., 0., 0., 0., 0., 0., 0., 0., 0., 0.,\n",
       "        0., 0., 0., 0., 0., 0., 0., 0., 0., 0., 0., 0., 0., 0., 0., 0.,\n",
       "        0., 0., 0., 0., 0., 0.],\n",
       "       [0., 0., 0., 0., 0., 0., 0., 0., 0., 0., 0., 0., 0., 0., 0., 0.,\n",
       "        0., 0., 0., 0., 0., 0., 0., 0., 0., 0., 0., 0., 0., 0., 0., 0.,\n",
       "        0., 0., 0., 0., 0., 0., 0., 0., 0., 0., 0., 0., 0., 0., 0., 0.,\n",
       "        0., 0., 0., 0., 0., 0., 0., 0., 0., 0., 0., 0., 0., 0., 0., 0.,\n",
       "        0., 0., 0., 0., 0., 0., 0., 0., 0., 0., 0., 0., 0., 0., 0., 0.,\n",
       "        0., 0., 0., 0., 0., 0., 0., 0., 0., 0., 0., 0., 0., 0., 0., 0.,\n",
       "        0., 0., 0., 0., 1., 1., 1., 1., 1., 1., 1., 1., 1., 1., 1., 1.,\n",
       "        1., 1., 1., 1., 1., 1., 1., 1., 1., 1., 1., 1., 1., 1., 1., 1.,\n",
       "        1., 1., 1., 1., 1., 1., 1., 1., 1., 1., 1., 1., 1., 1., 1., 1.,\n",
       "        1., 1., 1., 1., 1., 1.]])"
      ]
     },
     "execution_count": 44,
     "metadata": {},
     "output_type": "execute_result"
    }
   ],
   "source": [
    "def class_to_vec(v):\n",
    "    V = np.zeros((v.shape[0], len(set(v))))\n",
    "    for (row, label) in zip(V, v):\n",
    "        row[label] = 1.0\n",
    "    return V.T\n",
    "\n",
    "Ym = class_to_vec(Y)\n",
    "Ym"
   ]
  },
  {
   "cell_type": "code",
   "execution_count": null,
   "metadata": {},
   "outputs": [],
   "source": []
  },
  {
   "cell_type": "code",
   "execution_count": 9,
   "metadata": {},
   "outputs": [
    {
     "name": "stderr",
     "output_type": "stream",
     "text": [
      "/Users/mk/repos/inshorts-nlp/venv/lib/python3.6/site-packages/sklearn/linear_model/logistic.py:460: FutureWarning: Default multi_class will be changed to 'auto' in 0.22. Specify the multi_class option to silence this warning.\n",
      "  \"this warning.\", FutureWarning)\n",
      "/Users/mk/repos/inshorts-nlp/venv/lib/python3.6/site-packages/sklearn/model_selection/_split.py:2053: FutureWarning: You should specify a value for 'cv' instead of relying on the default value. The default value will change from 3 to 5 in version 0.22.\n",
      "  warnings.warn(CV_WARNING, FutureWarning)\n"
     ]
    },
    {
     "data": {
      "image/png": "[encoded data removed]",
      "text/plain": [
       "<Figure size 432x288 with 1 Axes>"
      ]
     },
     "metadata": {
      "needs_background": "light"
     },
     "output_type": "display_data"
    }
   ],
   "source": [
    "# Logistic regression try\n",
    "import sklearn.linear_model\n",
    "\n",
    "def plot_decision_boundary(model, X, y):\n",
    "    # Set min and max values and give it some padding\n",
    "    x_min, x_max = X[0, :].min() - 1, X[0, :].max() + 1\n",
    "    y_min, y_max = X[1, :].min() - 1, X[1, :].max() + 1\n",
    "    h = 0.01\n",
    "    # Generate a grid of points with distance h between them\n",
    "    xx, yy = np.meshgrid(np.arange(x_min, x_max, h), np.arange(y_min, y_max, h))\n",
    "    # Predict the function value for the whole grid\n",
    "    Z = model(np.c_[xx.ravel(), yy.ravel()])\n",
    "    Z = Z.reshape(xx.shape)\n",
    "    # Plot the contour and training examples\n",
    "    plt.contourf(xx, yy, Z, cmap=plt.cm.Spectral)\n",
    "    plt.ylabel('x2')\n",
    "    plt.xlabel('x1')\n",
    "    plt.scatter(X[0, :], X[1, :], c=y, cmap=plt.cm.Spectral)\n",
    "\n",
    "clf = sklearn.linear_model.LogisticRegressionCV();\n",
    "clf.fit(X, Y);\n",
    "\n",
    "\n",
    "# Plot the decision boundary for logistic regression\n",
    "plot_decision_boundary(lambda x: clf.predict(x), X.T, Y.T)"
   ]
  },
  {
   "cell_type": "code",
   "execution_count": 10,
   "metadata": {},
   "outputs": [
    {
     "data": {
      "text/plain": [
       "[2, 3, 4, 5, 3]"
      ]
     },
     "execution_count": 10,
     "metadata": {},
     "output_type": "execute_result"
    }
   ],
   "source": [
    "\n",
    "\n",
    "def layers_sizes(X, Y, hidden_layers):\n",
    "    \"\"\"\n",
    "    X -- input dataset\n",
    "    Y -- labels\n",
    "    hidden_layers -- vector of amounts of neurons in each hidden layer, \n",
    "                     i.e. [3,4,6] means 3 hidden layers with 3, 4 and 6 neurons accordingly\n",
    "    \n",
    "    Returns: array of layer sizes i.e. [34, 3, 4, 6, 2] (above example with 34 features and 2 labels dataset)\n",
    "    \"\"\"\n",
    "    \n",
    "    return [X.shape[1]] + hidden_layers + [Y.shape[0]]\n",
    "\n",
    "layers_sizes(X, Ym, [3,4,5])\n",
    "# expected [2,3,4,5,3]"
   ]
  },
  {
   "cell_type": "code",
   "execution_count": 11,
   "metadata": {},
   "outputs": [
    {
     "data": {
      "text/plain": [
       "[array([[ 0.01624345, -0.00611756],\n",
       "        [-0.00528172, -0.01072969],\n",
       "        [ 0.00865408, -0.02301539]]),\n",
       " array([[ 0.01744812, -0.00761207,  0.00319039],\n",
       "        [-0.0024937 ,  0.01462108, -0.02060141],\n",
       "        [-0.00322417, -0.00384054,  0.01133769],\n",
       "        [-0.01099891, -0.00172428, -0.00877858]])]"
      ]
     },
     "execution_count": 11,
     "metadata": {},
     "output_type": "execute_result"
    }
   ],
   "source": [
    "np.random.seed(1)\n",
    "\n",
    "def initialize_layers(layers_sizes):\n",
    "    \"\"\"\n",
    "    layers_sizes -- array of sizes of each layes\n",
    "    \n",
    "    Returns: Array of weights for each layer. \n",
    "             Please note that the first layer takes the raw input - does not contain weights.\n",
    "             Also, biases are excluded in this network.\n",
    "    \"\"\"\n",
    "    result = []\n",
    "    prev_size = layers_sizes[0]\n",
    "    \n",
    "    for size in layers_sizes[1:]:\n",
    "        weights = np.random.randn(size, prev_size) * 0.01\n",
    "        result += [weights]\n",
    "        prev_size = size\n",
    "    \n",
    "    return result\n",
    "\n",
    "initialize_layers([2,3,4])\n",
    "# expected array of two matrices: 3x2 and 4x3 with random numbers"
   ]
  },
  {
   "cell_type": "code",
   "execution_count": 192,
   "metadata": {
    "scrolled": true
   },
   "outputs": [
    {
     "data": {
      "text/plain": [
       "[array([[ 8.6,  7.9,  7.9,  7.7,  8.6,  9.3,  8. ,  8.4,  7.3,  8. ,  9.1,\n",
       "          8.2,  7.8,  7.3,  9.8, 10.1,  9.3,  8.6,  9.5,  8.9,  8.8,  8.8,\n",
       "          8.2,  8.4,  8.2,  8. ,  8.4,  8.7,  8.6,  7.9,  7.9,  8.8,  9.3,\n",
       "          9.7,  8. ,  8.2,  9. ,  8.5,  7.4,  8.5,  8.5,  6.8,  7.6,  8.5,\n",
       "          8.9,  7.8,  8.9,  7.8,  9. ,  8.3, 10.2,  9.6, 10. ,  7.8,  9.3,\n",
       "          8.5,  9.6,  7.3,  9.5,  7.9,  7. ,  8.9,  8.2,  9. ,  8.5,  9.8,\n",
       "          8.6,  8.5,  8.4,  8.1,  9.1,  8.9,  8.8,  8.9,  9.3,  9.6,  9.6,\n",
       "          9.7,  8.9,  8.3,  7.9,  7.9,  8.5,  8.7,  8.4,  9.4,  9.8,  8.6,\n",
       "          8.6,  8. ,  8.1,  9.1,  8.4,  7.3,  8.3,  8.7,  8.6,  9.1,  7.6,\n",
       "          8.5,  9.6,  8.5, 10.1,  9.2,  9.5, 10.6,  7.4, 10.2,  9.2, 10.8,\n",
       "          9.7,  9.1,  9.8,  8.2,  8.6,  9.6,  9.5, 11.5, 10.3,  8.2, 10.1,\n",
       "          8.4, 10.5,  9. , 10. , 10.4,  9. ,  9.1,  9.2, 10.2, 10.2, 11.7,\n",
       "          9.2,  9.1,  8.7, 10.7,  9.7,  9.5,  9. , 10. ,  9.8, 10. ,  8.5,\n",
       "         10. , 10. ,  9.7,  8.8,  9.5,  9.6,  8.9],\n",
       "        [ 1.6,  1.6,  1.5,  1.7,  1.6,  2.1,  1.7,  1.7,  1.6,  1.6,  1.7,\n",
       "          1.8,  1.5,  1.2,  1.4,  1.9,  1.7,  1.7,  2. ,  1.8,  1.9,  1.9,\n",
       "          1.2,  2.2,  2.1,  1.8,  2. ,  1.7,  1.6,  1.8,  1.8,  1.9,  1.6,\n",
       "          1.6,  1.7,  1.4,  1.5,  1.5,  1.5,  1.7,  1.6,  1.6,  1.5,  2.2,\n",
       "          2.3,  1.7,  1.8,  1.6,  1.7,  1.6,  6.1,  6. ,  6.4,  5.3,  6.1,\n",
       "          5.8,  6.3,  4.3,  5.9,  5.3,  4.5,  5.7,  5. ,  6.1,  4.9,  5.8,\n",
       "          6. ,  5.1,  6. ,  5. ,  6.6,  5.3,  6.4,  5.9,  5.6,  5.8,  6.2,\n",
       "          6.7,  6. ,  4.5,  4.9,  4.7,  5.1,  6.7,  6. ,  6.1,  6.2,  5.7,\n",
       "          5.4,  5.3,  5.6,  6. ,  5.2,  4.3,  5.5,  5.4,  5.5,  5.6,  4.1,\n",
       "          5.4,  8.5,  7. ,  8. ,  7.4,  8. ,  8.7,  6.2,  8.1,  7.6,  8.6,\n",
       "          7.1,  7.2,  7.6,  7. ,  7.5,  7.6,  7.3,  8.9,  9.2,  6.5,  8. ,\n",
       "          6.9,  8.7,  6.7,  7.8,  7.8,  6.6,  6.7,  7.7,  7.4,  8. ,  8.4,\n",
       "          7.8,  6.6,  7. ,  8.4,  8. ,  7.3,  6.6,  7.5,  8. ,  7.4,  7. ,\n",
       "          8.2,  8.2,  7.5,  6.9,  7.2,  7.7,  6.9]]),\n",
       " array([[0.50458026, 0.50427329, 0.50422275, 0.50423613, 0.50458026,\n",
       "         0.50513993, 0.50436769, 0.5045431 , 0.50401017, 0.50431715,\n",
       "         0.50485007, 0.50450593, 0.5041789 , 0.503808  , 0.50500542,\n",
       "         0.50538967, 0.50493777, 0.50463081, 0.5051771 , 0.5048129 ,\n",
       "         0.50481959, 0.50481959, 0.50420269, 0.5047958 , 0.50465756,\n",
       "         0.50441823, 0.50469472, 0.50467466, 0.50458026, 0.50437437,\n",
       "         0.50437437, 0.50481959, 0.50488723, 0.50506264, 0.50436769,\n",
       "         0.50430377, 0.50470514, 0.50448587, 0.50400348, 0.50458695,\n",
       "         0.50453641, 0.5037909 , 0.50409119, 0.50483965, 0.5050656 ,\n",
       "         0.50427998, 0.5048129 , 0.50422944, 0.50480622, 0.50444871,\n",
       "         0.50755604, 0.50724242, 0.50761995, 0.50609939, 0.50716142,\n",
       "         0.50665902, 0.50739403, 0.50537476, 0.50714804, 0.50614324,\n",
       "         0.50534428, 0.50678388, 0.50612318, 0.50702987, 0.5062042 ,\n",
       "         0.50722905, 0.50680394, 0.50630527, 0.50671625, 0.50607933,\n",
       "         0.50732639, 0.50658174, 0.50709378, 0.50688495, 0.50690874,\n",
       "         0.50714136, 0.50734349, 0.50764001, 0.50693549, 0.50591435,\n",
       "         0.50594109, 0.50584002, 0.50630527, 0.50720154, 0.50671625,\n",
       "         0.50720526, 0.50743119, 0.50665234, 0.50650073, 0.50618709,\n",
       "         0.50638255, 0.50702319, 0.50631196, 0.50537476, 0.50641972,\n",
       "         0.50654458, 0.50655127, 0.50682105, 0.50540524, 0.50645688,\n",
       "         0.50850573, 0.50726544, 0.5084723 , 0.5077745 , 0.50820923,\n",
       "         0.50904522, 0.50637883, 0.50856667, 0.50787557, 0.50908238,\n",
       "         0.50784214, 0.50762959, 0.50813864, 0.5071339 , 0.50756196,\n",
       "         0.50805095, 0.50785551, 0.50954085, 0.50916633, 0.50688123,\n",
       "         0.5084723 , 0.50717106, 0.50900138, 0.50733308, 0.50832739,\n",
       "         0.50850277, 0.50728254, 0.50737693, 0.5079261 , 0.50821296,\n",
       "         0.50851614, 0.5093759 , 0.50797663, 0.50732639, 0.50735314,\n",
       "         0.50893748, 0.50829692, 0.50785551, 0.50728254, 0.5081758 ,\n",
       "         0.50834077, 0.50812527, 0.50726544, 0.50852952, 0.50852952,\n",
       "         0.50804427, 0.50734645, 0.50780498, 0.50810148, 0.5073903 ],\n",
       "        [0.46260953, 0.46542396, 0.4655921 , 0.46606034, 0.46260953,\n",
       "         0.45895837, 0.46485366, 0.46324539, 0.46783809, 0.46502176,\n",
       "         0.46043279, 0.46388137, 0.46599436, 0.46851111, 0.45812592,\n",
       "         0.45608391, 0.45962964, 0.46244154, 0.45832337, 0.46106822,\n",
       "         0.46130202, 0.46130202, 0.46488985, 0.46240537, 0.46337724,\n",
       "         0.46468556, 0.46274135, 0.46203969, 0.46260953, 0.46508772,\n",
       "         0.46508772, 0.46130202, 0.45979748, 0.45819173, 0.46485366,\n",
       "         0.46455366, 0.46117026, 0.46317947, 0.46760385, 0.46284344,\n",
       "         0.46301145, 0.46985102, 0.46679902, 0.46200353, 0.46022877,\n",
       "         0.46565806, 0.46106822, 0.46582621, 0.46083444, 0.46381544,\n",
       "         0.44865257, 0.45122043, 0.4489509 , 0.45961035, 0.45225423,\n",
       "         0.45596277, 0.45071849, 0.46329843, 0.45178813, 0.45920885,\n",
       "         0.46416843, 0.45452668, 0.45850798, 0.45345592, 0.45747181,\n",
       "         0.45075451, 0.45522659, 0.4571364 , 0.45602854, 0.45890938,\n",
       "         0.45221819, 0.45519693, 0.45375482, 0.45419162, 0.45309135,\n",
       "         0.45155511, 0.45088579, 0.4496493 , 0.45402411, 0.45894551,\n",
       "         0.45988018, 0.4602159 , 0.4571364 , 0.45365305, 0.45602854,\n",
       "         0.45185379, 0.45008541, 0.45572939, 0.45623227, 0.45880741,\n",
       "         0.45790276, 0.45322275, 0.4573699 , 0.46329843, 0.45726799,\n",
       "         0.45583124, 0.45606463, 0.45389267, 0.46242867, 0.45663336,\n",
       "         0.44704072, 0.45395197, 0.44587812, 0.45047915, 0.44827588,\n",
       "         0.44271455, 0.4597059 , 0.44531181, 0.45014462, 0.44208366,\n",
       "         0.44898049, 0.45121401, 0.44774497, 0.45515442, 0.45271401,\n",
       "         0.44854459, 0.44944608, 0.4387951 , 0.44307753, 0.45599244,\n",
       "         0.44587812, 0.45452026, 0.44311343, 0.45245127, 0.44661158,\n",
       "         0.44501394, 0.45261868, 0.4520508 , 0.44997736, 0.44648053,\n",
       "         0.44547874, 0.43883094, 0.44981012, 0.45221819, 0.45315063,\n",
       "         0.44281586, 0.44747636, 0.44944608, 0.45261868, 0.44711266,\n",
       "         0.44707669, 0.44727972, 0.45395197, 0.44594363, 0.44594363,\n",
       "         0.44831187, 0.45291749, 0.44961329, 0.44837744, 0.45251695],\n",
       "        [0.48041209, 0.48214687, 0.48203794, 0.48275154, 0.48041209,\n",
       "         0.47922214, 0.48200794, 0.4810166 , 0.48363417, 0.48189902,\n",
       "         0.47928212, 0.48162117, 0.4822858 , 0.48319839, 0.47722161,\n",
       "         0.47702283, 0.47878664, 0.48052099, 0.4786178 , 0.47988653,\n",
       "         0.4802432 , 0.4802432 , 0.48096769, 0.48156117, 0.48194793,\n",
       "         0.48211687, 0.48134334, 0.48027319, 0.48041209, 0.48236473,\n",
       "         0.48236473, 0.4802432 , 0.47867777, 0.47768697, 0.48200794,\n",
       "         0.48118551, 0.47931211, 0.48055098, 0.48327732, 0.48076879,\n",
       "         0.48065988, 0.48487381, 0.48278155, 0.48131334, 0.480431  ,\n",
       "         0.48250366, 0.47988653, 0.48239473, 0.47952987, 0.48115551,\n",
       "         0.4813479 , 0.4827261 , 0.48217035, 0.48642624, 0.48357872,\n",
       "         0.4852353 , 0.48305292, 0.48657634, 0.48286504, 0.48617825,\n",
       "         0.48753835, 0.48413457, 0.48510741, 0.48432248, 0.48425462,\n",
       "         0.48201251, 0.48520529, 0.48447254, 0.48570122, 0.48535537,\n",
       "         0.48461935, 0.48369876, 0.48514526, 0.48435249, 0.483034  ,\n",
       "         0.48250823, 0.48294398, 0.48324079, 0.48446145, 0.48431465,\n",
       "         0.48574233, 0.48552438, 0.48447254, 0.48572014, 0.48570122,\n",
       "         0.48333082, 0.48244822, 0.48487838, 0.48455149, 0.48593027,\n",
       "         0.48600923, 0.4839656 , 0.48482945, 0.48657634, 0.48540431,\n",
       "         0.48430356, 0.48466045, 0.48352979, 0.48561443, 0.48479943,\n",
       "         0.48544999, 0.48654305, 0.48366549, 0.48524313, 0.48515309,\n",
       "         0.4831886 , 0.48839928, 0.48352653, 0.48546108, 0.4825839 ,\n",
       "         0.48367658, 0.48527315, 0.48397343, 0.48728707, 0.48684   ,\n",
       "         0.48446928, 0.48439033, 0.48117573, 0.48447711, 0.4867421 ,\n",
       "         0.48366549, 0.48668206, 0.4834365 , 0.48497626, 0.4836955 ,\n",
       "         0.48270392, 0.48486729, 0.48472831, 0.48557005, 0.48276394,\n",
       "         0.48341758, 0.48013561, 0.48567903, 0.48461935, 0.48604708,\n",
       "         0.4826139 , 0.48465719, 0.48439033, 0.48486729, 0.48336866,\n",
       "         0.48440925, 0.48325971, 0.48654305, 0.48413131, 0.48413131,\n",
       "         0.48411239, 0.48569012, 0.48428137, 0.48457824, 0.48544216],\n",
       "        [0.52113638, 0.51924647, 0.51937801, 0.51857483, 0.52113638,\n",
       "         0.52236833, 0.51938494, 0.52046494, 0.5176261 , 0.51951649,\n",
       "         0.52235447, 0.51979343, 0.51910798, 0.5181524 , 0.52463764,\n",
       "         0.52478984, 0.52289422, 0.52100487, 0.52303954, 0.52168317,\n",
       "         0.52128174, 0.52128174, 0.5205826 , 0.5198073 , 0.51939881,\n",
       "         0.5192534 , 0.52007036, 0.52127481, 0.52113638, 0.51898337,\n",
       "         0.51898337, 0.52128174, 0.52302568, 0.524105  , 0.51938494,\n",
       "         0.52031955, 0.52234754, 0.52099794, 0.51802776, 0.52073491,\n",
       "         0.52086643, 0.51627551, 0.51856789, 0.52007729, 0.52102566,\n",
       "         0.51884488, 0.52168317, 0.51897643, 0.52208457, 0.52032649,\n",
       "         0.51953746, 0.51804874, 0.51860273, 0.51410732, 0.51710687,\n",
       "         0.51534054, 0.51765401, 0.51407263, 0.51791023, 0.51437753,\n",
       "         0.51299865, 0.51655276, 0.51558296, 0.51629649, 0.51652502,\n",
       "         0.51885198, 0.51534747, 0.51626181, 0.51480711, 0.51531279,\n",
       "         0.51590861, 0.51707913, 0.51536134, 0.51628956, 0.51776479,\n",
       "         0.51831187, 0.51778559, 0.51739778, 0.51615795, 0.51651115,\n",
       "         0.51490405, 0.5151673 , 0.51626181, 0.51469629, 0.51480711,\n",
       "         0.51737698, 0.51832574, 0.51574232, 0.51613715, 0.51464773,\n",
       "         0.51452304, 0.51669823, 0.51586006, 0.51407263, 0.51519504,\n",
       "         0.51640729, 0.51600554, 0.51722459, 0.51514649, 0.51586699,\n",
       "         0.51475872, 0.51376096, 0.51676758, 0.51512585, 0.51514666,\n",
       "         0.51719703, 0.51184145, 0.51690611, 0.5148626 , 0.5178688 ,\n",
       "         0.51687143, 0.51511891, 0.51648358, 0.51295025, 0.51337296,\n",
       "         0.51594329, 0.51606796, 0.51936449, 0.51572862, 0.5136085 ,\n",
       "         0.51676758, 0.51362238, 0.51692691, 0.51550683, 0.51676064,\n",
       "         0.51784106, 0.51563845, 0.515777  , 0.51473097, 0.51782719,\n",
       "         0.5170377 , 0.52056215, 0.51459934, 0.51590861, 0.51430139,\n",
       "         0.51786186, 0.515687  , 0.51606796, 0.51563845, 0.51715542,\n",
       "         0.51595716, 0.517287  , 0.51376096, 0.51623424, 0.51623424,\n",
       "         0.51634504, 0.51470323, 0.51619957, 0.51581168, 0.51497342],\n",
       "        [0.50545175, 0.50474155, 0.50494617, 0.50433401, 0.50545175,\n",
       "         0.50513886, 0.50463839, 0.50504422, 0.5041328 , 0.50484301,\n",
       "         0.50575441, 0.50463668, 0.50484472, 0.50495129, 0.50707838,\n",
       "         0.50635972, 0.50595732, 0.50524713, 0.50554639, 0.50534689,\n",
       "         0.50504081, 0.50504081, 0.50586439, 0.50402111, 0.50402281,\n",
       "         0.50443377, 0.50443036, 0.50534859, 0.50545175, 0.50433231,\n",
       "         0.50433231, 0.50504081, 0.50616193, 0.50656773, 0.50463839,\n",
       "         0.50545516, 0.50606218, 0.50555491, 0.50443888, 0.50514568,\n",
       "         0.5053503 , 0.50362549, 0.5046418 , 0.50412257, 0.50432378,\n",
       "         0.50443547, 0.50534689, 0.50464009, 0.50565296, 0.50514738,\n",
       "         0.49786667, 0.49746251, 0.49704983, 0.49706859, 0.49695348,\n",
       "         0.49675567, 0.49684861, 0.49860762, 0.49756568, 0.49717005,\n",
       "         0.49789394, 0.49736616, 0.49808835, 0.49664909, 0.49859739,\n",
       "         0.49807471, 0.49644787, 0.49818811, 0.49624495, 0.49798689,\n",
       "         0.49572742, 0.4981847 , 0.49583229, 0.49695689, 0.49797666,\n",
       "         0.49787178, 0.49705324, 0.49613155, 0.49675226, 0.49921301,\n",
       "         0.49798859, 0.49839786, 0.49818811, 0.49511696, 0.49624495,\n",
       "         0.49705495, 0.49725617, 0.49706177, 0.49767567, 0.49727151,\n",
       "         0.49675908, 0.49695519, 0.49788201, 0.49860762, 0.49716664,\n",
       "         0.49777713, 0.49747103, 0.49777373, 0.4993213 , 0.4975742 ,\n",
       "         0.49234709, 0.49430019, 0.49387733, 0.49419192, 0.49326863,\n",
       "         0.49295235, 0.49482111, 0.49377418, 0.4937827 , 0.49335985,\n",
       "         0.49531305, 0.49449969, 0.49439142, 0.49399583, 0.4933786 ,\n",
       "         0.49418851, 0.4947009 , 0.49345619, 0.49162507, 0.49501891,\n",
       "         0.49387733, 0.49440335, 0.49285091, 0.49542133, 0.4941851 ,\n",
       "         0.49459092, 0.49562596, 0.49552279, 0.49357809, 0.49520648,\n",
       "         0.49397879, 0.49468215, 0.49337349, 0.49572742, 0.4945031 ,\n",
       "         0.49366761, 0.49347153, 0.4947009 , 0.49562596, 0.49479895,\n",
       "         0.49357298, 0.49500357, 0.49430019, 0.49336667, 0.49336667,\n",
       "         0.49449458, 0.49480918, 0.49490552, 0.4939839 , 0.49491063],\n",
       "        [0.48108189, 0.48347976, 0.48281992, 0.48482497, 0.48108189,\n",
       "         0.48198274, 0.48379703, 0.48242666, 0.48553569, 0.48313716,\n",
       "         0.48002916, 0.48377169, 0.4831625 , 0.48289595, 0.47565511,\n",
       "         0.47792423, 0.47934432, 0.48174157, 0.48063806, 0.48137371,\n",
       "         0.48237598, 0.48237598, 0.47981339, 0.48572628, 0.48575163,\n",
       "         0.48445696, 0.48440626, 0.48139905, 0.48108189, 0.48479962,\n",
       "         0.48479962, 0.48237598, 0.47868489, 0.47731561, 0.48379703,\n",
       "         0.48113256, 0.47905259, 0.48076474, 0.48453301, 0.48208411,\n",
       "         0.48142439, 0.48724934, 0.48384773, 0.48538358, 0.48467287,\n",
       "         0.48448231, 0.48137371, 0.48382238, 0.4803716 , 0.48210945,\n",
       "         0.5053117 , 0.50670881, 0.50797898, 0.50825801, 0.50839797,\n",
       "         0.50915983, 0.50869012, 0.50336768, 0.50639125, 0.50791512,\n",
       "         0.50571763, 0.50712783, 0.50490488, 0.5094266 , 0.50321545,\n",
       "         0.50470191, 0.51013767, 0.50453656, 0.51082334, 0.50524783,\n",
       "         0.51238517, 0.50448581, 0.51209311, 0.5084487 , 0.50509561,\n",
       "         0.50538781, 0.50802971, 0.51098863, 0.5091091 , 0.50125908,\n",
       "         0.5052732 , 0.50395213, 0.50453656, 0.51441624, 0.51082334,\n",
       "         0.50805508, 0.50734391, 0.50815655, 0.50617517, 0.50757222,\n",
       "         0.50921056, 0.50842334, 0.50554004, 0.50336768, 0.50786438,\n",
       "         0.50583223, 0.50683565, 0.50578149, 0.50101759, 0.5065181 ,\n",
       "         0.52320741, 0.51708135, 0.51819816, 0.51732255, 0.52025302,\n",
       "         0.5211029 , 0.51557103, 0.51851534, 0.51864203, 0.51975859,\n",
       "         0.5136294 , 0.51634545, 0.51658668, 0.51810903, 0.52003725,\n",
       "         0.51727187, 0.51563484, 0.51934012, 0.52542543, 0.51480964,\n",
       "         0.51819816, 0.5167641 , 0.52144526, 0.51338809, 0.51722118,\n",
       "         0.51585074, 0.51272794, 0.51304534, 0.51930168, 0.51389606,\n",
       "         0.51785562, 0.515356  , 0.51996125, 0.51238517, 0.51639615,\n",
       "         0.51878183, 0.51956814, 0.51563484, 0.51272794, 0.51524148,\n",
       "         0.51922567, 0.51458147, 0.51708135, 0.51985992, 0.51985992,\n",
       "         0.51626941, 0.51539358, 0.51497486, 0.51793164, 0.51505091]]),\n",
       " array([[0.49885402, 0.49885464, 0.49885494, ..., 0.49883658, 0.49883501,\n",
       "         0.49883801],\n",
       "        [0.50478811, 0.50479836, 0.50479792, ..., 0.50479995, 0.50480073,\n",
       "         0.50480738],\n",
       "        [0.5003534 , 0.50034092, 0.50034092, ..., 0.50036954, 0.50037133,\n",
       "         0.50035887],\n",
       "        ...,\n",
       "        [0.49945611, 0.49944939, 0.4994483 , ..., 0.49952606, 0.49953248,\n",
       "         0.49951707],\n",
       "        [0.49625337, 0.49624563, 0.49624581, ..., 0.49625331, 0.49625351,\n",
       "         0.49624723],\n",
       "        [0.49396056, 0.49393162, 0.49393543, ..., 0.49378407, 0.49376912,\n",
       "         0.49377073]])]"
      ]
     },
     "execution_count": 192,
     "metadata": {},
     "output_type": "execute_result"
    }
   ],
   "source": [
    "def sigmoid(x, derivative=False):\n",
    "    sigm = 1. / (1. + np.exp(-x))\n",
    "    if derivative:\n",
    "        return sigm * (1. - sigm)\n",
    "    return sigm\n",
    "\n",
    "def forward_propagation(Xx, Ww, activation='sigmoid'):\n",
    "    \"\"\"\n",
    "    X -- input dataset\n",
    "    W -- list of matrices with weights\n",
    "    \n",
    "    Returns result of forward propagation (no_of_classes, no_of_examples) and cache with results of given layer\n",
    "    \"\"\"\n",
    "    # input dataset is the output of the first layer\n",
    "    A = Xx.T\n",
    "    cache = [A]\n",
    "    \n",
    "    for w in Ww:\n",
    "        Z = np.dot(w, A)\n",
    "        if activation == 'sigmoid':\n",
    "            A = sigmoid(Z)\n",
    "        else:\n",
    "            A = np.tanh(Z)\n",
    "        cache += [A]\n",
    "        \n",
    "    return A, cache\n",
    "\n",
    "sizes = layers_sizes(X, Y, [6])\n",
    "layers = initialize_layers(sizes)\n",
    "R, cache = forward_propagation(X, layers)\n",
    "cache\n",
    "# expected result: array 3x150 (3 classes, 150 examples)"
   ]
  },
  {
   "cell_type": "code",
   "execution_count": 187,
   "metadata": {},
   "outputs": [
    {
     "name": "stdout",
     "output_type": "stream",
     "text": [
      "(2, 3) (2, 3)\n",
      "(2, 3) (2, 3)\n",
      "(2, 3) (2, 3)\n"
     ]
    },
    {
     "data": {
      "text/plain": [
       "(0.2107210313156526, 1.336471783812265, 3.083720788832146)"
      ]
     },
     "execution_count": 187,
     "metadata": {},
     "output_type": "execute_result"
    }
   ],
   "source": [
    "def compute_cost(R, Y):\n",
    "    \"\"\"\n",
    "    Arguments:\n",
    "    R -- results of forward propagation (no_of_classes, no_of_examples)\n",
    "    Y -- labels of exmples\n",
    "    \"\"\"\n",
    "    \n",
    "    m = Y.shape[1] # number of examples\n",
    "    \n",
    "    # Compute the cross-entropy cost\n",
    "    logprobs = np.multiply(np.log(R), Y) + np.multiply((1 - Y), np.log(1 - R))\n",
    "    cost = - np.sum(logprobs) / m    \n",
    "    \n",
    "    cost = np.squeeze(cost)     # makes sure cost is the dimension we expect. \n",
    "                                # E.g., turns [[17]] into 17 \n",
    "    \n",
    "    return cost\n",
    "\n",
    "medium = compute_cost(\n",
    "    np.array([[.1,.2,.3],\n",
    "              [.4,.1,.4]]), \n",
    "    np.array([[0.,1.,0.],\n",
    "              [1.,0.,1.]]))\n",
    "\n",
    "big = compute_cost(\n",
    "    np.array([[.1,.6,.3],\n",
    "              [.8,.1,.6]]), \n",
    "    np.array([[1.,0.,1.],\n",
    "              [0.,1.,0.]]))\n",
    "\n",
    "small = compute_cost(\n",
    "    np.array([[.1,.9,.1],\n",
    "              [.9,.1,.9]]), \n",
    "    np.array([[0.,1.,0.],\n",
    "              [1.,0.,1.]]))\n",
    "\n",
    "small, medium, big"
   ]
  },
  {
   "cell_type": "code",
   "execution_count": 99,
   "metadata": {
    "scrolled": true
   },
   "outputs": [
    {
     "data": {
      "text/plain": [
       "[array([[  0.,   0.],\n",
       "        [-12., -24.]]), array([[2., 4.]])]"
      ]
     },
     "execution_count": 99,
     "metadata": {},
     "output_type": "execute_result"
    }
   ],
   "source": [
    "def backward_propagation(W, cache, X, Y):\n",
    "    \"\"\"    \n",
    "    Arguments:\n",
    "    W -- list of matrices containing layers weights \n",
    "    cache -- list of vectors containing output of every layer\n",
    "    X -- input dataset\n",
    "    Y -- dataset labels\n",
    "    \n",
    "    Returns:\n",
    "    gradients -- list of gradients\n",
    "    \"\"\"\n",
    "    m = X.shape[0]\n",
    "    # dZ - error vector\n",
    "    dZ = list(reversed(cache))[0] - Y\n",
    "    gradients = []\n",
    "    \n",
    "    for (W, A) in zip(list(reversed(W)), list(reversed(cache))[1:]): \n",
    "        dW = (1/m) * np.dot(dZ, A.T)\n",
    "        gradients = [dW] + gradients\n",
    "        dZ = np.multiply(np.dot(W.T, dZ), 1 - np.power(A, 2))\n",
    "\n",
    "    return gradients\n",
    "\n",
    "# example for 2x2x1 neural network\n",
    "backward_propagation(\n",
    "    # 2 matrices with weights - 2x2 and 1x2\n",
    "    [np.array([[1,2],[3,4]]), np.array([[1,2]])],\n",
    "    # three vectors with output (the very first one is input dataset)\n",
    "    [np.array([[1],[2]]), np.array([[1],[2]]), np.array([[3]])],\n",
    "    # X\n",
    "    np.array([[1,2]]),\n",
    "    # Y\n",
    "    np.array([[1]])\n",
    ")\n",
    "# should return two matrices with gradients corresponding to weights matrices sizes"
   ]
  },
  {
   "cell_type": "code",
   "execution_count": 100,
   "metadata": {},
   "outputs": [
    {
     "data": {
      "text/plain": [
       "[array([[1, 1],\n",
       "        [1, 1]]), array([[1]])]"
      ]
     },
     "execution_count": 100,
     "metadata": {},
     "output_type": "execute_result"
    }
   ],
   "source": [
    "def update_weights(W, gradients, learning_rate=1.2):\n",
    "    result_W = []\n",
    "    for (w, dW) in zip(W, gradients):\n",
    "        w = w - learning_rate * dW\n",
    "        result_W += [w]\n",
    "    return result_W\n",
    "\n",
    "update_weights(\n",
    "    [np.array([[1,2],[3,4]]), np.array([[5]])],\n",
    "    [np.array([[0,1],[2,3]]), np.array([[4]])],\n",
    "    1)\n",
    "# expected\n",
    "# [[1,1],[1,1]], [1]"
   ]
  },
  {
   "cell_type": "code",
   "execution_count": 159,
   "metadata": {},
   "outputs": [
    {
     "name": "stdout",
     "output_type": "stream",
     "text": [
      "cost 0 2.0733953023455363\n"
     ]
    },
    {
     "name": "stderr",
     "output_type": "stream",
     "text": [
      "/Users/mk/repos/inshorts-nlp/venv/lib/python3.6/site-packages/ipykernel_launcher.py:2: RuntimeWarning: overflow encountered in exp\n",
      "  \n"
     ]
    },
    {
     "name": "stdout",
     "output_type": "stream",
     "text": [
      "cost 5000 0.27293267479449196\n",
      "cost 10000 0.35332665645145833\n",
      "cost 15000 0.22054235244997736\n",
      "cost 20000 0.22058080111428335\n",
      "cost 25000 0.16276261586511545\n",
      "cost 30000 0.1613881324785959\n",
      "cost 35000 0.1602976207708987\n",
      "cost 40000 0.15953584208189686\n",
      "cost 45000 0.22453465936838823\n",
      "cost 49999 0.15837429648126417\n"
     ]
    }
   ],
   "source": [
    "def mlp_network(X, Y, iterations = 1000, hidden_layers=[10], activation='sigmoid'):\n",
    "    \"\"\"\n",
    "    Returns:\n",
    "    W -- weights of optimal neural network\n",
    "    partials -- 10 partial results\n",
    "    \"\"\"\n",
    "    sizes = layers_sizes(X, Ym, hidden_layers)\n",
    "    W = initialize_layers(sizes)\n",
    "    partials = []\n",
    "    \n",
    "    for i in range(iterations):\n",
    "        A, cache = forward_propagation(X, W, activation)\n",
    "                \n",
    "        if (i+1) % int(iterations/10) == 1:\n",
    "            print('cost', i, compute_cost(A, Y))\n",
    "            partials += [W]\n",
    "        \n",
    "        gradients = backward_propagation(W, cache, X, Y)\n",
    "        \n",
    "        W = update_weights(W, gradients, 0.5)\n",
    "    \n",
    "    print('cost', i, compute_cost(A, Y))\n",
    "    return W, partials\n",
    "\n",
    "optimal_W, partials = mlp_network(X, Ym, 50000, [10,6])"
   ]
  },
  {
   "cell_type": "code",
   "execution_count": 151,
   "metadata": {
    "scrolled": true
   },
   "outputs": [
    {
     "name": "stderr",
     "output_type": "stream",
     "text": [
      "/Users/mk/repos/inshorts-nlp/venv/lib/python3.6/site-packages/ipykernel_launcher.py:2: RuntimeWarning: overflow encountered in exp\n",
      "  \n"
     ]
    },
    {
     "data": {
      "image/png": "[encoded data removed]",
      "text/plain": [
       "<Figure size 432x288 with 1 Axes>"
      ]
     },
     "metadata": {
      "needs_background": "light"
     },
     "output_type": "display_data"
    }
   ],
   "source": [
    "plot_decision_boundary(lambda x: predict(x, optimal_W), X.T, Y.T)"
   ]
  },
  {
   "cell_type": "code",
   "execution_count": 62,
   "metadata": {},
   "outputs": [],
   "source": [
    "def normalize(M):\n",
    "    m = M - M.mean(axis=0)\n",
    "    return m / np.abs(m).max(axis=0)"
   ]
  },
  {
   "cell_type": "code",
   "execution_count": 170,
   "metadata": {},
   "outputs": [
    {
     "name": "stdout",
     "output_type": "stream",
     "text": [
      "cost 0 2.0812313523976242\n",
      "cost 100 1.1450185917144067\n",
      "cost 200 0.9726755787864357\n",
      "cost 300 0.9141629192753178\n",
      "cost 400 0.889259333207573\n",
      "cost 500 0.8689553966755487\n",
      "cost 600 0.834455829431966\n",
      "cost 700 0.8055071307674463\n",
      "cost 800 0.7868248416420734\n",
      "cost 900 0.7730347881440688\n",
      "cost 999 0.7602608884651009\n"
     ]
    },
    {
     "data": {
      "image/png": "[encoded data removed]",
      "text/plain": [
       "<Figure size 432x288 with 1 Axes>"
      ]
     },
     "metadata": {
      "needs_background": "light"
     },
     "output_type": "display_data"
    }
   ],
   "source": [
    "Xl = normalize(X)\n",
    "Yl = Y\n",
    "\n",
    "nn,_ = mlp_network(Xl, class_to_vec(Yl), 1000, [6])\n",
    "plot_decision_boundary(lambda x: predict(x, nn), Xl.T, Yl.T)"
   ]
  },
  {
   "cell_type": "code",
   "execution_count": 177,
   "metadata": {
    "scrolled": false
   },
   "outputs": [
    {
     "data": {
      "image/png": "[encoded data removed]",
      "text/plain": [
       "<Figure size 432x288 with 1 Axes>"
      ]
     },
     "metadata": {
      "needs_background": "light"
     },
     "output_type": "display_data"
    }
   ],
   "source": [
    "def load_extra_datasets():  \n",
    "    N = 200\n",
    "    gaussian_quantiles = sklearn.datasets.make_gaussian_quantiles(mean=None, cov=0.7, n_samples=N, n_features=2, n_classes=2,  shuffle=True, random_state=None)\n",
    "    return gaussian_quantiles\n",
    "\n",
    "Xg, Yg = load_extra_datasets()\n",
    "plt.scatter(Xg.T[0, :], Xg.T[1, :], c=Yg, s=40, cmap=plt.cm.Spectral);\n"
   ]
  },
  {
   "cell_type": "code",
   "execution_count": 195,
   "metadata": {},
   "outputs": [
    {
     "name": "stdout",
     "output_type": "stream",
     "text": [
      "(3, 200) (2, 200)\n"
     ]
    },
    {
     "ename": "ValueError",
     "evalue": "operands could not be broadcast together with shapes (3,200) (2,200) ",
     "output_type": "error",
     "traceback": [
      "\u001b[0;31m---------------------------------------------------------------------------\u001b[0m",
      "\u001b[0;31mValueError\u001b[0m                                Traceback (most recent call last)",
      "\u001b[0;32m<ipython-input-195-5b53835cd66b>\u001b[0m in \u001b[0;36m<module>\u001b[0;34m\u001b[0m\n\u001b[1;32m      2\u001b[0m \u001b[0mYl\u001b[0m \u001b[0;34m=\u001b[0m \u001b[0mYg\u001b[0m\u001b[0;34m\u001b[0m\u001b[0m\n\u001b[1;32m      3\u001b[0m \u001b[0;34m\u001b[0m\u001b[0m\n\u001b[0;32m----> 4\u001b[0;31m \u001b[0mnn\u001b[0m\u001b[0;34m,\u001b[0m\u001b[0m_\u001b[0m \u001b[0;34m=\u001b[0m \u001b[0mmlp_network\u001b[0m\u001b[0;34m(\u001b[0m\u001b[0mXl\u001b[0m\u001b[0;34m,\u001b[0m \u001b[0mclass_to_vec\u001b[0m\u001b[0;34m(\u001b[0m\u001b[0mYl\u001b[0m\u001b[0;34m)\u001b[0m\u001b[0;34m,\u001b[0m \u001b[0;36m1000\u001b[0m\u001b[0;34m,\u001b[0m \u001b[0;34m[\u001b[0m\u001b[0;36m6\u001b[0m\u001b[0;34m]\u001b[0m\u001b[0;34m)\u001b[0m\u001b[0;34m\u001b[0m\u001b[0m\n\u001b[0m\u001b[1;32m      5\u001b[0m \u001b[0mplot_decision_boundary\u001b[0m\u001b[0;34m(\u001b[0m\u001b[0;32mlambda\u001b[0m \u001b[0mx\u001b[0m\u001b[0;34m:\u001b[0m \u001b[0mpredict\u001b[0m\u001b[0;34m(\u001b[0m\u001b[0mx\u001b[0m\u001b[0;34m,\u001b[0m \u001b[0mnn\u001b[0m\u001b[0;34m)\u001b[0m\u001b[0;34m,\u001b[0m \u001b[0mXl\u001b[0m\u001b[0;34m.\u001b[0m\u001b[0mT\u001b[0m\u001b[0;34m,\u001b[0m \u001b[0mYl\u001b[0m\u001b[0;34m.\u001b[0m\u001b[0mT\u001b[0m\u001b[0;34m)\u001b[0m\u001b[0;34m\u001b[0m\u001b[0m\n",
      "\u001b[0;32m<ipython-input-159-303de26b960a>\u001b[0m in \u001b[0;36mmlp_network\u001b[0;34m(X, Y, iterations, hidden_layers, activation)\u001b[0m\n\u001b[1;32m     13\u001b[0m \u001b[0;34m\u001b[0m\u001b[0m\n\u001b[1;32m     14\u001b[0m         \u001b[0;32mif\u001b[0m \u001b[0;34m(\u001b[0m\u001b[0mi\u001b[0m\u001b[0;34m+\u001b[0m\u001b[0;36m1\u001b[0m\u001b[0;34m)\u001b[0m \u001b[0;34m%\u001b[0m \u001b[0mint\u001b[0m\u001b[0;34m(\u001b[0m\u001b[0miterations\u001b[0m\u001b[0;34m/\u001b[0m\u001b[0;36m10\u001b[0m\u001b[0;34m)\u001b[0m \u001b[0;34m==\u001b[0m \u001b[0;36m1\u001b[0m\u001b[0;34m:\u001b[0m\u001b[0;34m\u001b[0m\u001b[0m\n\u001b[0;32m---> 15\u001b[0;31m             \u001b[0mprint\u001b[0m\u001b[0;34m(\u001b[0m\u001b[0;34m'cost'\u001b[0m\u001b[0;34m,\u001b[0m \u001b[0mi\u001b[0m\u001b[0;34m,\u001b[0m \u001b[0mcompute_cost\u001b[0m\u001b[0;34m(\u001b[0m\u001b[0mA\u001b[0m\u001b[0;34m,\u001b[0m \u001b[0mY\u001b[0m\u001b[0;34m)\u001b[0m\u001b[0;34m)\u001b[0m\u001b[0;34m\u001b[0m\u001b[0m\n\u001b[0m\u001b[1;32m     16\u001b[0m             \u001b[0mpartials\u001b[0m \u001b[0;34m+=\u001b[0m \u001b[0;34m[\u001b[0m\u001b[0mW\u001b[0m\u001b[0;34m]\u001b[0m\u001b[0;34m\u001b[0m\u001b[0m\n\u001b[1;32m     17\u001b[0m \u001b[0;34m\u001b[0m\u001b[0m\n",
      "\u001b[0;32m<ipython-input-187-005ac5099092>\u001b[0m in \u001b[0;36mcompute_cost\u001b[0;34m(R, Y)\u001b[0m\n\u001b[1;32m      9\u001b[0m     \u001b[0mprint\u001b[0m\u001b[0;34m(\u001b[0m\u001b[0mR\u001b[0m\u001b[0;34m.\u001b[0m\u001b[0mshape\u001b[0m\u001b[0;34m,\u001b[0m\u001b[0mY\u001b[0m\u001b[0;34m.\u001b[0m\u001b[0mshape\u001b[0m\u001b[0;34m)\u001b[0m\u001b[0;34m\u001b[0m\u001b[0m\n\u001b[1;32m     10\u001b[0m     \u001b[0;31m# Compute the cross-entropy cost\u001b[0m\u001b[0;34m\u001b[0m\u001b[0;34m\u001b[0m\u001b[0m\n\u001b[0;32m---> 11\u001b[0;31m     \u001b[0mlogprobs\u001b[0m \u001b[0;34m=\u001b[0m \u001b[0mnp\u001b[0m\u001b[0;34m.\u001b[0m\u001b[0mmultiply\u001b[0m\u001b[0;34m(\u001b[0m\u001b[0mnp\u001b[0m\u001b[0;34m.\u001b[0m\u001b[0mlog\u001b[0m\u001b[0;34m(\u001b[0m\u001b[0mR\u001b[0m\u001b[0;34m)\u001b[0m\u001b[0;34m,\u001b[0m \u001b[0mY\u001b[0m\u001b[0;34m)\u001b[0m \u001b[0;34m+\u001b[0m \u001b[0mnp\u001b[0m\u001b[0;34m.\u001b[0m\u001b[0mmultiply\u001b[0m\u001b[0;34m(\u001b[0m\u001b[0;34m(\u001b[0m\u001b[0;36m1\u001b[0m \u001b[0;34m-\u001b[0m \u001b[0mY\u001b[0m\u001b[0;34m)\u001b[0m\u001b[0;34m,\u001b[0m \u001b[0mnp\u001b[0m\u001b[0;34m.\u001b[0m\u001b[0mlog\u001b[0m\u001b[0;34m(\u001b[0m\u001b[0;36m1\u001b[0m \u001b[0;34m-\u001b[0m \u001b[0mR\u001b[0m\u001b[0;34m)\u001b[0m\u001b[0;34m)\u001b[0m\u001b[0;34m\u001b[0m\u001b[0m\n\u001b[0m\u001b[1;32m     12\u001b[0m     \u001b[0mcost\u001b[0m \u001b[0;34m=\u001b[0m \u001b[0;34m-\u001b[0m \u001b[0mnp\u001b[0m\u001b[0;34m.\u001b[0m\u001b[0msum\u001b[0m\u001b[0;34m(\u001b[0m\u001b[0mlogprobs\u001b[0m\u001b[0;34m)\u001b[0m \u001b[0;34m/\u001b[0m \u001b[0mm\u001b[0m\u001b[0;34m\u001b[0m\u001b[0m\n\u001b[1;32m     13\u001b[0m \u001b[0;34m\u001b[0m\u001b[0m\n",
      "\u001b[0;31mValueError\u001b[0m: operands could not be broadcast together with shapes (3,200) (2,200) "
     ]
    }
   ],
   "source": [
    "Xl = Xg\n",
    "Yl = Yg\n",
    "\n",
    "nn,_ = mlp_network(Xl, class_to_vec(Yl), 1000, [6])\n",
    "plot_decision_boundary(lambda x: predict(x, nn), Xl.T, Yl.T)"
   ]
  },
  {
   "cell_type": "code",
   "execution_count": 184,
   "metadata": {},
   "outputs": [
    {
     "data": {
      "text/plain": [
       "((200, 2), (2, 200))"
      ]
     },
     "execution_count": 184,
     "metadata": {},
     "output_type": "execute_result"
    }
   ],
   "source": [
    "Xg.shape, class_to_vec(Yl).shape"
   ]
  },
  {
   "cell_type": "code",
   "execution_count": null,
   "metadata": {},
   "outputs": [],
   "source": []
  }
 ],
 "metadata": {
  "kernelspec": {
   "display_name": "Python 3",
   "language": "python",
   "name": "python3"
  },
  "language_info": {
   "codemirror_mode": {
    "name": "ipython",
    "version": 3
   },
   "file_extension": ".py",
   "mimetype": "text/x-python",
   "name": "python",
   "nbconvert_exporter": "python",
   "pygments_lexer": "ipython3",
   "version": "3.6.5"
  }
 },
 "nbformat": 4,
 "nbformat_minor": 1
}
